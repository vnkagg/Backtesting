{
 "cells": [
  {
   "cell_type": "markdown",
   "id": "a2f66b60",
   "metadata": {},
   "source": [
    "IMPORTS AND CONFIGURATION"
   ]
  },
  {
   "cell_type": "code",
   "execution_count": 1,
   "id": "f99f40fc",
   "metadata": {},
   "outputs": [],
   "source": [
    "import numpy as np\n",
    "import pandas as pd\n",
    "import os\n",
    "import importlib\n",
    "import sys\n",
    "import copy\n",
    "import diskcache"
   ]
  },
  {
   "cell_type": "code",
   "execution_count": 2,
   "id": "a599c1e1",
   "metadata": {},
   "outputs": [
    {
     "name": "stdout",
     "output_type": "stream",
     "text": [
      "path before ['c:\\\\Program Files\\\\Python312\\\\python312.zip', 'c:\\\\Program Files\\\\Python312\\\\DLLs', 'c:\\\\Program Files\\\\Python312\\\\Lib', 'c:\\\\Program Files\\\\Python312', '', 'C:\\\\Users\\\\vinayak\\\\AppData\\\\Roaming\\\\Python\\\\Python312\\\\site-packages', 'c:\\\\Program Files\\\\Python312\\\\Lib\\\\site-packages', 'c:\\\\Program Files\\\\Python312\\\\Lib\\\\site-packages\\\\win32', 'c:\\\\Program Files\\\\Python312\\\\Lib\\\\site-packages\\\\win32\\\\lib', 'c:\\\\Program Files\\\\Python312\\\\Lib\\\\site-packages\\\\Pythonwin']\n",
      "The backtesting folder was not in the systems path\n",
      "path after ['c:\\\\Program Files\\\\Python312\\\\python312.zip', 'c:\\\\Program Files\\\\Python312\\\\DLLs', 'c:\\\\Program Files\\\\Python312\\\\Lib', 'c:\\\\Program Files\\\\Python312', '', 'C:\\\\Users\\\\vinayak\\\\AppData\\\\Roaming\\\\Python\\\\Python312\\\\site-packages', 'c:\\\\Program Files\\\\Python312\\\\Lib\\\\site-packages', 'c:\\\\Program Files\\\\Python312\\\\Lib\\\\site-packages\\\\win32', 'c:\\\\Program Files\\\\Python312\\\\Lib\\\\site-packages\\\\win32\\\\lib', 'c:\\\\Program Files\\\\Python312\\\\Lib\\\\site-packages\\\\Pythonwin', 'C:\\\\Users\\\\vinayak\\\\Desktop\\\\Backtesting']\n",
      "\n"
     ]
    }
   ],
   "source": [
    "backtesting_path = r'C:\\Users\\vinayak\\Desktop\\Backtesting'\n",
    "print(\"path before\", sys.path)\n",
    "if backtesting_path not in sys.path:\n",
    "    print(\"The backtesting folder was not in the systems path\")\n",
    "    sys.path.append(backtesting_path)\n",
    "print(\"path after\", sys.path)\n",
    "print()"
   ]
  },
  {
   "cell_type": "code",
   "execution_count": 3,
   "id": "05fcd425",
   "metadata": {},
   "outputs": [],
   "source": [
    "# from scipy.optimize import minimize\n",
    "from Modules import Plot\n",
    "from Modules import Helpers\n",
    "from Modules import Data as data\n",
    "from Modules import Utility as util\n",
    "from Modules import TradeAndLogics as TL\n",
    "from Modules import Data_Processing as dp\n",
    "from Modules.enums import Option, LongShort, DB, FNO, Leg, OHLC, PTSL"
   ]
  },
  {
   "cell_type": "code",
   "execution_count": 4,
   "id": "cbc8cb9f34253615",
   "metadata": {
    "ExecuteTime": {
     "end_time": "2024-10-14T14:37:52.618582Z",
     "start_time": "2024-10-14T14:37:52.612163Z"
    }
   },
   "outputs": [
    {
     "data": {
      "text/plain": [
       "'c:\\\\Users\\\\vinayak\\\\Desktop\\\\Backtesting\\\\Dispersion\\\\Optimizations\\\\Intraday'"
      ]
     },
     "execution_count": 4,
     "metadata": {},
     "output_type": "execute_result"
    }
   ],
   "source": [
    "pwd()"
   ]
  },
  {
   "cell_type": "code",
   "execution_count": 5,
   "id": "29c2df12485996cb",
   "metadata": {
    "ExecuteTime": {
     "end_time": "2024-10-14T14:37:52.642688Z",
     "start_time": "2024-10-14T14:37:52.640069Z"
    }
   },
   "outputs": [
    {
     "data": {
      "text/plain": [
       "<ipykernel.iostream.OutStream at 0x1d06f087910>"
      ]
     },
     "execution_count": 5,
     "metadata": {},
     "output_type": "execute_result"
    }
   ],
   "source": [
    "original_stdout = util.const(sys.stdout)\n",
    "original_stdout.value"
   ]
  },
  {
   "cell_type": "markdown",
   "id": "72ee84e0",
   "metadata": {},
   "source": [
    "TRADING/ STRATEGY PARAMETERS"
   ]
  },
  {
   "cell_type": "code",
   "execution_count": 8,
   "id": "b0d2dd05",
   "metadata": {},
   "outputs": [],
   "source": [
    "entry = '2023-07-12 12:00:00'\n",
    "exit = '2023-07-13 14:45:00'\n",
    "ICView = LongShort.Long"
   ]
  },
  {
   "cell_type": "code",
   "execution_count": 9,
   "id": "b8266dab",
   "metadata": {},
   "outputs": [],
   "source": [
    "entry = pd.to_datetime(entry)\n",
    "exit = pd.to_datetime(exit)"
   ]
  },
  {
   "cell_type": "code",
   "execution_count": 35,
   "id": "d7387c13",
   "metadata": {},
   "outputs": [],
   "source": [
    "from datetime import timedelta\n",
    "start_date = pd.to_datetime(entry - timedelta(1))\n",
    "end_date = pd.to_datetime(exit + timedelta(1))"
   ]
  },
  {
   "cell_type": "code",
   "execution_count": 10,
   "id": "6f53efdc54d39fdc",
   "metadata": {
    "ExecuteTime": {
     "end_time": "2024-10-14T14:37:53.765562Z",
     "start_time": "2024-10-14T14:37:53.761314Z"
    }
   },
   "outputs": [],
   "source": [
    "index_symbol = 'BANKNIFTY'\n",
    "expiry_type_near = 'I'\n",
    "expiry_type_next = 'II'\n",
    "risk_free_rate = 0.1 # (10% interest rate)\n",
    "timeframe = 1 # mins\n",
    "look_back_window = 25*4\n",
    "# Trade/ Strategy Parameters\n",
    "buying_delta_threshold_per_lot = 5\n",
    "selling_delta_threshold_per_lot = 1\n",
    "notional_vega_buying = 10000 # rs\n",
    "notional_vega_selling = 8000 # rs\n",
    "profit_target = 100000\n",
    "stop_loss = 100000\n",
    "zscore_threshold_long = 2\n",
    "zscore_threshold_short = -2\n",
    "ic_threshold_long = 0.8\n",
    "ic_threshold_short = 0.2\n",
    "epsilon = 0.1\n",
    "moneyness_ironfly = 0\n",
    "price_factor = 5"
   ]
  },
  {
   "cell_type": "code",
   "execution_count": 11,
   "id": "8af0e9e2",
   "metadata": {},
   "outputs": [],
   "source": [
    "def tell_delta_threshold_per_lot(ticker):\n",
    "    if ticker.intention == LongShort.Long:\n",
    "        return buying_delta_threshold_per_lot\n",
    "    return selling_delta_threshold_per_lot\n",
    "\n",
    "def tell_notional_vega(ticker):\n",
    "    if ticker.intention == LongShort.Long:\n",
    "        return notional_vega_buying\n",
    "    return notional_vega_selling"
   ]
  },
  {
   "cell_type": "code",
   "execution_count": 12,
   "id": "a85f6724",
   "metadata": {},
   "outputs": [
    {
     "data": {
      "text/plain": [
       "'12Jul_12_00_13Jul_14_45'"
      ]
     },
     "execution_count": 12,
     "metadata": {},
     "output_type": "execute_result"
    }
   ],
   "source": [
    "strategy_desc = f\"{entry.strftime('%d%b_%H_%M')}_{exit.strftime('%d%b_%H_%M')}\"\n",
    "strategy_desc"
   ]
  },
  {
   "cell_type": "markdown",
   "id": "df2cb656",
   "metadata": {},
   "source": [
    "Strategy Specific Data Dealing and Modifications"
   ]
  },
  {
   "cell_type": "code",
   "execution_count": 13,
   "id": "215c86d142228aa8",
   "metadata": {
    "ExecuteTime": {
     "end_time": "2024-10-14T14:37:53.440492Z",
     "start_time": "2024-10-14T14:37:53.435775Z"
    }
   },
   "outputs": [],
   "source": [
    "index_symbol = 'BANKNIFTY'\n",
    "index_lot_size = 15"
   ]
  },
  {
   "cell_type": "markdown",
   "id": "76c21acd",
   "metadata": {},
   "source": [
    "NEAR MONTH (I) DATA FETCHING AND PROCESSING"
   ]
  },
  {
   "cell_type": "code",
   "execution_count": 14,
   "id": "fc270ce3",
   "metadata": {},
   "outputs": [],
   "source": [
    "import Dispersion.DispersionAdjustedFunctionality as daf"
   ]
  },
  {
   "cell_type": "code",
   "execution_count": 15,
   "id": "75608d9d",
   "metadata": {},
   "outputs": [],
   "source": [
    "basket = daf.RawWeightedPortfolio()\n",
    "basket.insert('HDFCBANK', 550, 27.04)\n",
    "basket.insert('ICICIBANK', 700, 23.03)\n",
    "basket.insert('KOTAKBANK', 400, 11.72)\n",
    "basket.insert('SBIN', 750, 11.27)\n",
    "basket.insert('AXISBANK', 625, 11.18)"
   ]
  },
  {
   "cell_type": "code",
   "execution_count": 16,
   "id": "bbe9a8fc",
   "metadata": {},
   "outputs": [],
   "source": [
    "logs_near = open(f'LOGS_Fetching_Near_Month_Data_for_{strategy_desc}.txt', 'w')\n",
    "sys.stdout = logs_near\n",
    "constituents_near = {}\n",
    "ohlc = OHLC.close\n",
    "index_near = daf.ticker(index_symbol, index_lot_size, True, start_date, end_date, expiry_type_near, True, timeframe, True, 0.1)\n",
    "index_near.initializeDispersion(constituents_near, False, 1, ICView)\n",
    "index_near.set_ohlc(ohlc)\n",
    "for stock in basket.Symbols():\n",
    "    constituents_near[stock] = daf.ticker(stock, basket.LotSize(stock), True, start_date, end_date, expiry_type_near, True, timeframe, False, 0.1)\n",
    "    constituents_near[stock].initializeDispersion({}, True, basket.Weight(stock), ICView.opposite())\n",
    "    constituents_near[stock].set_ohlc(ohlc)\n",
    "sys.stdout = original_stdout.value\n",
    "logs_near.close()"
   ]
  },
  {
   "cell_type": "code",
   "execution_count": 17,
   "id": "dde53b1e",
   "metadata": {},
   "outputs": [],
   "source": [
    "index = copy.deepcopy(index_near)"
   ]
  },
  {
   "cell_type": "code",
   "execution_count": 18,
   "id": "2ea6c5750ce94564",
   "metadata": {
    "ExecuteTime": {
     "end_time": "2024-10-14T16:26:00.267088Z",
     "start_time": "2024-10-14T16:26:00.262838Z"
    }
   },
   "outputs": [],
   "source": [
    "def get_vega_legs(ticker, timestamp, *Legs):\n",
    "    vega = 0\n",
    "    for leg in Legs:\n",
    "        if leg.Instrument == FNO.FUTURES:\n",
    "            continue\n",
    "        greeks = ticker.greeks(timestamp, leg.Instrument, leg.Strike)\n",
    "        if greeks is None:\n",
    "            return None\n",
    "        vega += greeks['vega'] * leg.Position.value\n",
    "    return abs(vega)"
   ]
  },
  {
   "cell_type": "code",
   "execution_count": 19,
   "id": "56fcd3055f3bd866",
   "metadata": {
    "ExecuteTime": {
     "end_time": "2024-10-14T16:26:00.469604Z",
     "start_time": "2024-10-14T16:26:00.465448Z"
    }
   },
   "outputs": [],
   "source": [
    "# def get_lots_for_neutrality(logging_information, vegas, weights, notional_vega):    \n",
    "#     lots_for_neutrality = []\n",
    "#     for symbol, _ in vegas.items():\n",
    "#         lots = notional_vega * weights[symbol] / vegas[symbol]\n",
    "#         lots_for_neutrality.append(lots)\n",
    "#         logging_information[symbol]['Lots to take position'] = int(lots)\n",
    "#     return int(np.round(lots_for_neutrality[0])), np.round(lots_for_neutrality[1:]).astype(int)"
   ]
  },
  {
   "cell_type": "code",
   "execution_count": null,
   "id": "2d228b3e",
   "metadata": {},
   "outputs": [],
   "source": []
  },
  {
   "cell_type": "code",
   "execution_count": 20,
   "id": "675c4964",
   "metadata": {},
   "outputs": [],
   "source": [
    "def get_proportionality_lots(logging_information, ticker, ticker_value, ticker_weight, notional_scaling_value):\n",
    "    lots_ticker = int(np.round(notional_scaling_value * ticker_weight/ ticker_value))\n",
    "    logging_information['Lots to take position'] = lots_ticker\n",
    "    return lots_ticker"
   ]
  },
  {
   "cell_type": "code",
   "execution_count": 21,
   "id": "9ed029fd",
   "metadata": {},
   "outputs": [],
   "source": [
    "def entry_signal(timestamp):\n",
    "    if timestamp == entry:\n",
    "        return True\n",
    "    return False\n",
    "def exit_signal(timestamp):\n",
    "    if timestamp == exit:\n",
    "        return True\n",
    "    return False"
   ]
  },
  {
   "cell_type": "code",
   "execution_count": 22,
   "id": "d48c31ba",
   "metadata": {},
   "outputs": [],
   "source": [
    "def get_lots_for_entry(ticker, timestamp, **kwargs):\n",
    "    logging_information = {}\n",
    "    legs = Helpers.get_legs_ironfly_price(ticker, timestamp, 1, ticker.intention, moneyness_ironfly, price_factor)\n",
    "    vega_ticker_ironfly = get_vega_legs(ticker, timestamp, *legs)\n",
    "    if vega_ticker_ironfly is None:\n",
    "        return None, None\n",
    "    unweighted_vega = vega_ticker_ironfly * ticker.lot_size\n",
    "    notional_vega = tell_notional_vega(ticker)\n",
    "    idea_for_weight = ticker.weight\n",
    "    logging_information = {\n",
    "        'Lot Size': ticker.lot_size,\n",
    "        'Weight': ticker.weight,\n",
    "        'Vega per IronFly': vega_ticker_ironfly,\n",
    "        'Vega per Lot IronFly': vega_ticker_ironfly * ticker.lot_size,\n",
    "        'Target Notional Vega': notional_vega * ticker.weight\n",
    "    }\n",
    "    \n",
    "    # if 'vega_neutral' in kwargs and kwargs['vega_neutral']:\n",
    "    \n",
    "    if 'ic_neutral' in kwargs and kwargs['ic_neutral'] == True:\n",
    "        if ticker.is_component:\n",
    "            idea_for_weight *= math.sqrt(ticker.get_ic_at(timestamp))\n",
    "\n",
    "    elif 'theta_neutral' in kwargs and kwargs['theta_neutral'] == True:\n",
    "        strike_ticker, _ = ticker.find_moneyness_strike(timestamp, 0, Option.Call)\n",
    "        logging_information['ATM Strike'] = strike_ticker\n",
    "        if ticker.is_component:\n",
    "            import math\n",
    "            idea_for_weight *= math.sqrt(ticker.get_ic_at(timestamp))\n",
    "\n",
    "    lots_ticker = get_proportionality_lots(logging_information, ticker, unweighted_vega, idea_for_weight, notional_vega)\n",
    "    print(f\">> {ticker.symbol}\")\n",
    "    for info_key, info_value in logging_information.items():\n",
    "        print(f\"  {info_key}: {info_value}\")\n",
    "    return lots_ticker"
   ]
  },
  {
   "cell_type": "code",
   "execution_count": 23,
   "id": "ac5e21f4c8ce1d7f",
   "metadata": {
    "ExecuteTime": {
     "end_time": "2024-10-14T16:26:00.522871Z",
     "start_time": "2024-10-14T16:26:00.517879Z"
    }
   },
   "outputs": [],
   "source": [
    "def take_dispersion_position(timestamp, remarks, ticker, lots):\n",
    "    legs = []\n",
    "    legs = Helpers.get_legs_ironfly_price(ticker, timestamp, lots, ticker.intention, moneyness_ironfly, price_factor)\n",
    "    for leg in legs:\n",
    "        key = f'{ticker.symbol}_{leg.id()}'\n",
    "        if key not in ticker.tokens.keys():\n",
    "            ticker.tokens[key] = TL.Token(ticker, leg.Instrument, leg.Strike, leg.LegName)\n",
    "        token = ticker.tokens[key]\n",
    "        token.add_position(timestamp, lots, leg.Position)\n",
    "    ticker.take_position(timestamp, remarks, *legs)\n"
   ]
  },
  {
   "cell_type": "code",
   "execution_count": 24,
   "id": "95f56ccb",
   "metadata": {},
   "outputs": [],
   "source": [
    "class DispersionPTSL(TL.PTSLHandling):\n",
    "    def __init__(self, profit_target, stop_loss, *tickers):\n",
    "        super().__init__(profit_target, stop_loss, *tickers)\n",
    "\n",
    "    def is_valid(self, timestamp):\n",
    "        # if PTSL is active, update to make sure it's correct\n",
    "        if self.active_ptsl:\n",
    "            self.update_validity(timestamp)\n",
    "        return not self.active_ptsl   \n",
    "    \n",
    "    def update_validity(self, timestamp):\n",
    "        if timestamp.date() != self.triggered_at.date():\n",
    "            self.reset()\n",
    "            print(f\"New day, PTSL for Intraday Strategy is resetted\")\n",
    "        # index = self.tickers[0]\n",
    "        # for z in index.df_futures['zscore'].loc[self.triggered_at : timestamp]:\n",
    "        #     if abs(z) <= epsilon:\n",
    "        #         self.triggered_at = None\n",
    "        #         self.active_ptsl = False  \n",
    "        #         print(f\"PTSL reverted back to mean (<= {epsilon}): Future Signals can now be used for trading\")"
   ]
  },
  {
   "cell_type": "code",
   "execution_count": 25,
   "id": "22cc0b6d85d900f1",
   "metadata": {
    "ExecuteTime": {
     "end_time": "2024-10-14T16:26:00.974169Z",
     "start_time": "2024-10-14T16:26:00.969632Z"
    }
   },
   "outputs": [],
   "source": [
    "def squareoff(time_ix, timestamp, remarks, logging = True):\n",
    "    print(\"************  SQUARE OFF BEGINS  *********** \")\n",
    "    # print(\"******  Information updated globally. TICKER WISE UPDATION BEGINS  ******\")\n",
    "    TL.squareoff_ticker(time_ix, timestamp, remarks, index, logging)\n",
    "    for component in index.components.values():\n",
    "        TL.squareoff_ticker(time_ix, timestamp, remarks, component, logging)\n",
    "    print(\"* SQUARE OFF TRADES SAVED, TOKENS IN TICKERS UPDATED\")\n",
    "    print(\"************  SQUARE OFF COMPLETE  *********** \")\n"
   ]
  },
  {
   "cell_type": "code",
   "execution_count": 26,
   "id": "1cf79379bd04b02b",
   "metadata": {
    "ExecuteTime": {
     "end_time": "2024-10-14T16:26:01.028104Z",
     "start_time": "2024-10-14T16:26:01.024110Z"
    }
   },
   "outputs": [],
   "source": [
    "def isTodayAnyExpiry(timestamp, index):\n",
    "    is_expiry = False\n",
    "    is_expiry = is_expiry or index.is_expiry(timestamp)\n",
    "    for component in index.components.values():\n",
    "        is_expiry = is_expiry or component.is_expiry(timestamp)\n",
    "    return is_expiry"
   ]
  },
  {
   "cell_type": "code",
   "execution_count": 27,
   "id": "9f85db07",
   "metadata": {},
   "outputs": [],
   "source": [
    "def UpdateDispersionTickers(time_ix, timestamp, remarks, hedge, logging_token_update, logging_hedging):\n",
    "    index_delta_threshold_per_lot = tell_delta_threshold_per_lot(index)\n",
    "    TL.HandleUpdate(index, time_ix, timestamp, remarks, index_delta_threshold_per_lot, hedge, logging_token_update, logging_hedging)\n",
    "    for component in index.components.values():\n",
    "        component_delta_threshold_per_lot = tell_delta_threshold_per_lot(component)\n",
    "        TL.HandleUpdate(component, time_ix, timestamp, remarks, component_delta_threshold_per_lot, hedge, logging_token_update, logging_hedging)"
   ]
  },
  {
   "cell_type": "code",
   "execution_count": 28,
   "id": "5732a9ec",
   "metadata": {},
   "outputs": [],
   "source": [
    "def zoom_dispersion_trade(start, end, file_name):\n",
    "    start = pd.to_datetime(start)\n",
    "    end = pd.to_datetime(end)\n",
    "    portfolio = [index, *[component for component in index.components.values()]]\n",
    "    performance = Helpers.zoom_tokens_performance_bar_by_bar(*portfolio, start=start, end=end)\n",
    "\n",
    "    # for name, df in performance.items():\n",
    "    #     if name != \"Combined Summary\":\n",
    "    #         # df['Z-Score'] = index.df_futures['zscore'].loc[start:end]\n",
    "    #         # df['IC'] = index.df_futures['ic'].loc[start:end]\n",
    "\n",
    "    Plot.save_df_to_excel(performance, file_name)"
   ]
  },
  {
   "cell_type": "code",
   "execution_count": 29,
   "id": "2a384c3e",
   "metadata": {},
   "outputs": [],
   "source": [
    "def visualise_dispersion_trade(start, end, file_name):\n",
    "    start = pd.to_datetime(start)\n",
    "    end = pd.to_datetime(end)\n",
    "    portfolio = [index, *[component for component in index.components.values()]]\n",
    "    result_df = Helpers.get_summary_portfolio(*portfolio, start=start, end=end)\n",
    "\n",
    "    # result_df['Z-Score'] = index.df_futures['zscore'].loc[start:end]\n",
    "    # result_df['IC'] = index.df_futures['ic'].loc[start:end]\n",
    "\n",
    "    fig = Plot.plot_df(result_df, *(result_df.columns))\n",
    "    Plot.save_plot(fig, file_name)"
   ]
  },
  {
   "cell_type": "code",
   "execution_count": 30,
   "id": "2a43362b",
   "metadata": {},
   "outputs": [],
   "source": [
    "def save_dispersion_trades(start, end, file_name):\n",
    "    trades_dict = {}\n",
    "    portfolio = [index, *[comp for comp in index.components.values()]]\n",
    "    trades_dict['All Trades'] = Helpers.get_trades_portfolio(*portfolio, start=start, end=end)\n",
    "    for ticker in portfolio:\n",
    "        trades_dict[ticker.symbol] = Helpers.get_trades_ticker(ticker, start=start, end=end)\n",
    "    Plot.save_df_to_excel(trades_dict, file_name)"
   ]
  },
  {
   "cell_type": "code",
   "execution_count": 32,
   "id": "bf477a54b66080ec",
   "metadata": {
    "ExecuteTime": {
     "start_time": "2024-10-14T16:26:01.150275Z"
    },
    "jupyter": {
     "is_executing": true
    }
   },
   "outputs": [],
   "source": [
    "file = open(f'LOGS_Trading_Logic_for_{strategy_desc}.txt', 'w', buffering = 1)\n",
    "sys.stdout = file\n",
    "\n",
    "index.reset_trades()\n",
    "for component in index.components.values():\n",
    "    component.reset_trades()\n",
    "\n",
    "TrackPTSL = DispersionPTSL(profit_target, stop_loss, index, *index.components.values())\n",
    "\n",
    "current_position = None\n",
    "trade_start_date, trade_end_date, trade_count = None, None, 0\n",
    "for time_ix, timestamp in enumerate(index.timestamps):\n",
    "    print()\n",
    "    print(f\"Timestamp: {timestamp}\")\n",
    "    #######################################################################################################################################################\n",
    "    if TL.check_existing_position(index):\n",
    "        \n",
    "        print(f\"Existing Position Check: TRUE | Dispersion position: {current_position}\")\n",
    "        \n",
    "        # 3:20 (Market Close) SQUAREOFF\n",
    "        if exit_signal(timestamp):\n",
    "            print(\"************  MARKET CLOSE  *********** \")\n",
    "            UpdateDispersionTickers(time_ix, timestamp, 'NoHedging', False, True, False)\n",
    "            squareoff(time_ix, timestamp, f'3:20/Market Close Square Off', True)\n",
    "            trade_end_date = timestamp\n",
    "            trade_count+=1\n",
    "            zoom_dispersion_trade(trade_start_date, trade_end_date, f\"Trade_{strategy_desc}.xlsx\")\n",
    "            visualise_dispersion_trade(trade_start_date, trade_end_date, f\"Visualise_Trade_{strategy_desc}.html\")\n",
    "            continue\n",
    "\n",
    "        # PROFIT TARGET AND STOP LOSS SQUAREOFF\n",
    "        if TrackPTSL.is_valid(timestamp) and TrackPTSL.status(timestamp) != PTSL.Valid:\n",
    "            print(\"************  TrackPTSL Trigger hit *********** \")\n",
    "            print(f\"{TrackPTSL.nature} Square off at NetPnl of {TrackPTSL.pnl_last_trade}\")\n",
    "            UpdateDispersionTickers(time_ix, timestamp, 'NoHedging', False, True, False)\n",
    "            squareoff(time_ix, timestamp, f'{TrackPTSL.nature} Square Off', True)\n",
    "            trade_end_date = timestamp\n",
    "            trade_count+=1\n",
    "            zoom_dispersion_trade(trade_start_date, trade_end_date, f\"Trade_{strategy_desc}.xlsx\")\n",
    "            visualise_dispersion_trade(trade_start_date, trade_end_date, f\"Visualise_Trade_{strategy_desc}.html\")\n",
    "            continue\n",
    "            \n",
    "        # IF NO NEED TO SQUAREOFF, HEDGE IF NEEDED\n",
    "        UpdateDispersionTickers(time_ix, timestamp, 'Delta Hedging using Synthetic Futures', True, True, True)\n",
    "        print(\"========================================================================================================================================================================\")\n",
    "        continue\n",
    "    #######################################################################################################################################################\n",
    "    \n",
    "    \n",
    "    #######################################################################################################################################################\n",
    "    if entry_signal(timestamp):\n",
    "        print(\"************  ENTRY TIME REACHED  ************  \")\n",
    "        UpdateDispersionTickers(time_ix, timestamp, \"NoHedging\", False, False, False)\n",
    "        if isTodayAnyExpiry(timestamp, index):\n",
    "            print(\"Expiry Day today. Trading on Expiry Day is not Allowed\")\n",
    "            continue\n",
    "\n",
    "        if not TrackPTSL.is_valid(timestamp):\n",
    "            print(f\"{TrackPTSL.nature} was Triggered at {TrackPTSL.triggered_at.strftime('%H:%M on %d/%b/%Y')} and Z-Score has not yet reverted back to mean (abs(z) is not yet <= {epsilon})\")\n",
    "            continue\n",
    "        \n",
    "        # try:\n",
    "        lots_index = get_lots_for_entry(index, timestamp)\n",
    "        if lots_index == 0:\n",
    "            print(\"Cant take Dispersion Position, lots index for target notional vega can't be 0\")\n",
    "            continue\n",
    "        take_dispersion_position(timestamp, f'{ICView.name} IC', index, lots_index)\n",
    "        \n",
    "        for component in index.components.values():\n",
    "            lots_component = get_lots_for_entry(component, timestamp)\n",
    "            take_dispersion_position(timestamp, f'{ICView.name} IC', component, lots_component)\n",
    "        \n",
    "        TrackPTSL.fresh_trade(timestamp)\n",
    "        current_position = ICView\n",
    "        trade_start_date = timestamp\n",
    "        print(f\"{ICView} IC Trade executed\")\n",
    "        # except Exception as e:\n",
    "        #     print(f\"Couldn't Enter a {ICView} IC Trade Position: {e}\")  \n",
    "\n",
    "        continue\n",
    "    #######################################################################################################################################################\n",
    "\n",
    "    UpdateDispersionTickers(time_ix, timestamp, \"NoHedging\", False, True, False)\n",
    "    print(\"========================================================================================================================================================================\")\n",
    "    \n",
    "\n",
    "file.close()\n",
    "sys.stdout = original_stdout.value"
   ]
  },
  {
   "cell_type": "code",
   "execution_count": 35,
   "id": "439a4b23",
   "metadata": {},
   "outputs": [],
   "source": [
    "portfolio = [index, *[comp for comp in index.components.values()]]"
   ]
  },
  {
   "cell_type": "code",
   "execution_count": 37,
   "id": "421b3a89",
   "metadata": {},
   "outputs": [
    {
     "data": {
      "text/plain": [
       "[{'Timestamp': Timestamp('2023-07-12 12:00:00'),\n",
       "  'Remarks': 'Long IC',\n",
       "  'Position Leg(0)': <LongShort.Short: -1>,\n",
       "  'Lots Leg(1)': 22,\n",
       "  'Instrument Leg(2)': <Option.Put: -1>,\n",
       "  'Strike Leg(3)': 43600.0,\n",
       "  'Price Leg(4)': np.float64(85.45),\n",
       "  'LegName Leg(5)': 'IronFly/FarPut'},\n",
       " {'Timestamp': Timestamp('2023-07-13 14:45:00'),\n",
       "  'Remarks': '3:20/Market Close Square Off',\n",
       "  'Position Leg(0)': <LongShort.Long: 1>,\n",
       "  'Lots Leg(1)': 22,\n",
       "  'Instrument Leg(2)': <Option.Put: -1>,\n",
       "  'Strike Leg(3)': 43600.0,\n",
       "  'Price Leg(4)': np.float64(82.4),\n",
       "  'LegName Leg(5)': 'IronFly/FarPut'}]"
      ]
     },
     "execution_count": 37,
     "metadata": {},
     "output_type": "execute_result"
    }
   ],
   "source": [
    "index.Trades.tradesArr"
   ]
  },
  {
   "cell_type": "code",
   "execution_count": 36,
   "id": "43f2e93c",
   "metadata": {},
   "outputs": [
    {
     "data": {
      "text/html": [
       "<div>\n",
       "<style scoped>\n",
       "    .dataframe tbody tr th:only-of-type {\n",
       "        vertical-align: middle;\n",
       "    }\n",
       "\n",
       "    .dataframe tbody tr th {\n",
       "        vertical-align: top;\n",
       "    }\n",
       "\n",
       "    .dataframe thead th {\n",
       "        text-align: right;\n",
       "    }\n",
       "</style>\n",
       "<table border=\"1\" class=\"dataframe\">\n",
       "  <thead>\n",
       "    <tr style=\"text-align: right;\">\n",
       "      <th></th>\n",
       "      <th>Symbol</th>\n",
       "      <th>Remarks</th>\n",
       "      <th>Position Leg(0)</th>\n",
       "      <th>Lots Leg(1)</th>\n",
       "      <th>Instrument Leg(2)</th>\n",
       "      <th>Strike Leg(3)</th>\n",
       "      <th>Price Leg(4)</th>\n",
       "      <th>LegName Leg(5)</th>\n",
       "    </tr>\n",
       "    <tr>\n",
       "      <th>Timestamp</th>\n",
       "      <th></th>\n",
       "      <th></th>\n",
       "      <th></th>\n",
       "      <th></th>\n",
       "      <th></th>\n",
       "      <th></th>\n",
       "      <th></th>\n",
       "      <th></th>\n",
       "    </tr>\n",
       "  </thead>\n",
       "  <tbody>\n",
       "    <tr>\n",
       "      <th>2023-07-12 12:00:00</th>\n",
       "      <td>BANKNIFTY</td>\n",
       "      <td>Long IC</td>\n",
       "      <td>LongShort.Short</td>\n",
       "      <td>22</td>\n",
       "      <td>Option.Put</td>\n",
       "      <td>43600.0</td>\n",
       "      <td>85.45</td>\n",
       "      <td>IronFly/FarPut</td>\n",
       "    </tr>\n",
       "    <tr>\n",
       "      <th>2023-07-13 14:45:00</th>\n",
       "      <td>BANKNIFTY</td>\n",
       "      <td>3:20/Market Close Square Off</td>\n",
       "      <td>LongShort.Long</td>\n",
       "      <td>22</td>\n",
       "      <td>Option.Put</td>\n",
       "      <td>43600.0</td>\n",
       "      <td>82.40</td>\n",
       "      <td>IronFly/FarPut</td>\n",
       "    </tr>\n",
       "  </tbody>\n",
       "</table>\n",
       "</div>"
      ],
      "text/plain": [
       "                        Symbol                       Remarks  Position Leg(0)  \\\n",
       "Timestamp                                                                       \n",
       "2023-07-12 12:00:00  BANKNIFTY                       Long IC  LongShort.Short   \n",
       "2023-07-13 14:45:00  BANKNIFTY  3:20/Market Close Square Off   LongShort.Long   \n",
       "\n",
       "                     Lots Leg(1) Instrument Leg(2)  Strike Leg(3)  \\\n",
       "Timestamp                                                           \n",
       "2023-07-12 12:00:00           22        Option.Put        43600.0   \n",
       "2023-07-13 14:45:00           22        Option.Put        43600.0   \n",
       "\n",
       "                     Price Leg(4)  LegName Leg(5)  \n",
       "Timestamp                                          \n",
       "2023-07-12 12:00:00         85.45  IronFly/FarPut  \n",
       "2023-07-13 14:45:00         82.40  IronFly/FarPut  "
      ]
     },
     "execution_count": 36,
     "metadata": {},
     "output_type": "execute_result"
    }
   ],
   "source": [
    "Helpers.get_trades_ticker(index, start=trade_start_date, end=trade_end_date)"
   ]
  },
  {
   "cell_type": "code",
   "execution_count": 38,
   "id": "1c50bdaa",
   "metadata": {},
   "outputs": [],
   "source": [
    "hdfc = index.components['HDFCBANK']"
   ]
  },
  {
   "cell_type": "code",
   "execution_count": 45,
   "id": "90c557f9",
   "metadata": {},
   "outputs": [
    {
     "data": {
      "text/plain": [
       "{'HDFCBANK_Call_1760.0': <Modules.TradeAndLogics.Token at 0x1afb90b43e0>,\n",
       " 'HDFCBANK_Call_1650.0': <Modules.TradeAndLogics.Token at 0x1afb9267680>,\n",
       " 'HDFCBANK_Put_1650.0': <Modules.TradeAndLogics.Token at 0x1afbe8adc10>,\n",
       " 'HDFCBANK_Put_1570.0': <Modules.TradeAndLogics.Token at 0x1afbe8ad4c0>}"
      ]
     },
     "execution_count": 45,
     "metadata": {},
     "output_type": "execute_result"
    }
   ],
   "source": [
    "hdfc.tokens"
   ]
  },
  {
   "cell_type": "code",
   "execution_count": 49,
   "id": "67bd2311",
   "metadata": {},
   "outputs": [
    {
     "data": {
      "text/plain": [
       "550"
      ]
     },
     "execution_count": 49,
     "metadata": {},
     "output_type": "execute_result"
    }
   ],
   "source": [
    "hdfc.lot_size"
   ]
  },
  {
   "cell_type": "code",
   "execution_count": 50,
   "id": "ae686c6a",
   "metadata": {},
   "outputs": [
    {
     "data": {
      "text/plain": [
       "np.float64(34.5)"
      ]
     },
     "execution_count": 50,
     "metadata": {},
     "output_type": "execute_result"
    }
   ],
   "source": [
    "hdfc.tokens['HDFCBANK_Call_1650.0'].data.iloc[s+2]"
   ]
  },
  {
   "cell_type": "code",
   "execution_count": 48,
   "id": "807f77c7",
   "metadata": {},
   "outputs": [
    {
     "data": {
      "text/html": [
       "<div>\n",
       "<style scoped>\n",
       "    .dataframe tbody tr th:only-of-type {\n",
       "        vertical-align: middle;\n",
       "    }\n",
       "\n",
       "    .dataframe tbody tr th {\n",
       "        vertical-align: top;\n",
       "    }\n",
       "\n",
       "    .dataframe thead th {\n",
       "        text-align: right;\n",
       "    }\n",
       "</style>\n",
       "<table border=\"1\" class=\"dataframe\">\n",
       "  <thead>\n",
       "    <tr style=\"text-align: right;\">\n",
       "      <th></th>\n",
       "      <th>instrument</th>\n",
       "      <th>net_lots</th>\n",
       "      <th>position</th>\n",
       "      <th>net_delta</th>\n",
       "      <th>net_vega</th>\n",
       "      <th>underlying_iv</th>\n",
       "      <th>running_pnl_without_expenses</th>\n",
       "      <th>expenses</th>\n",
       "      <th>running_pnl</th>\n",
       "    </tr>\n",
       "  </thead>\n",
       "  <tbody>\n",
       "    <tr>\n",
       "      <th>2023-07-12 11:59:00</th>\n",
       "      <td>Option.Call</td>\n",
       "      <td>0.0</td>\n",
       "      <td>LongShort.Neutral</td>\n",
       "      <td>0.000000</td>\n",
       "      <td>0.000000</td>\n",
       "      <td>0.000000</td>\n",
       "      <td>0.0</td>\n",
       "      <td>0.000</td>\n",
       "      <td>0.000000e+00</td>\n",
       "    </tr>\n",
       "    <tr>\n",
       "      <th>2023-07-12 12:00:00</th>\n",
       "      <td>Option.Call</td>\n",
       "      <td>4.0</td>\n",
       "      <td>LongShort.Short</td>\n",
       "      <td>0.000000</td>\n",
       "      <td>0.000000</td>\n",
       "      <td>0.000000</td>\n",
       "      <td>0.0</td>\n",
       "      <td>143.374</td>\n",
       "      <td>-1.433740e+02</td>\n",
       "    </tr>\n",
       "    <tr>\n",
       "      <th>2023-07-12 12:01:00</th>\n",
       "      <td>Option.Call</td>\n",
       "      <td>4.0</td>\n",
       "      <td>LongShort.Short</td>\n",
       "      <td>-1161.937541</td>\n",
       "      <td>-2935.070762</td>\n",
       "      <td>0.243978</td>\n",
       "      <td>101420.0</td>\n",
       "      <td>143.374</td>\n",
       "      <td>1.012766e+05</td>\n",
       "    </tr>\n",
       "    <tr>\n",
       "      <th>2023-07-12 12:02:00</th>\n",
       "      <td>Option.Call</td>\n",
       "      <td>4.0</td>\n",
       "      <td>LongShort.Short</td>\n",
       "      <td>-1162.979505</td>\n",
       "      <td>-2934.999428</td>\n",
       "      <td>0.244332</td>\n",
       "      <td>205920.0</td>\n",
       "      <td>143.374</td>\n",
       "      <td>2.057766e+05</td>\n",
       "    </tr>\n",
       "    <tr>\n",
       "      <th>2023-07-12 12:03:00</th>\n",
       "      <td>Option.Call</td>\n",
       "      <td>4.0</td>\n",
       "      <td>LongShort.Short</td>\n",
       "      <td>-1153.753134</td>\n",
       "      <td>-2935.548551</td>\n",
       "      <td>0.247686</td>\n",
       "      <td>308000.0</td>\n",
       "      <td>143.374</td>\n",
       "      <td>3.078566e+05</td>\n",
       "    </tr>\n",
       "    <tr>\n",
       "      <th>...</th>\n",
       "      <td>...</td>\n",
       "      <td>...</td>\n",
       "      <td>...</td>\n",
       "      <td>...</td>\n",
       "      <td>...</td>\n",
       "      <td>...</td>\n",
       "      <td>...</td>\n",
       "      <td>...</td>\n",
       "      <td>...</td>\n",
       "    </tr>\n",
       "    <tr>\n",
       "      <th>2023-07-13 14:41:00</th>\n",
       "      <td>Option.Call</td>\n",
       "      <td>4.0</td>\n",
       "      <td>LongShort.Short</td>\n",
       "      <td>-1081.569992</td>\n",
       "      <td>-2830.660069</td>\n",
       "      <td>0.211583</td>\n",
       "      <td>71176380.0</td>\n",
       "      <td>143.374</td>\n",
       "      <td>7.117624e+07</td>\n",
       "    </tr>\n",
       "    <tr>\n",
       "      <th>2023-07-13 14:42:00</th>\n",
       "      <td>Option.Call</td>\n",
       "      <td>4.0</td>\n",
       "      <td>LongShort.Short</td>\n",
       "      <td>-1069.267726</td>\n",
       "      <td>-2827.916473</td>\n",
       "      <td>0.211307</td>\n",
       "      <td>71313440.0</td>\n",
       "      <td>143.374</td>\n",
       "      <td>7.131330e+07</td>\n",
       "    </tr>\n",
       "    <tr>\n",
       "      <th>2023-07-13 14:43:00</th>\n",
       "      <td>Option.Call</td>\n",
       "      <td>4.0</td>\n",
       "      <td>LongShort.Short</td>\n",
       "      <td>-1076.680044</td>\n",
       "      <td>-2829.683443</td>\n",
       "      <td>0.210197</td>\n",
       "      <td>71448630.0</td>\n",
       "      <td>143.374</td>\n",
       "      <td>7.144849e+07</td>\n",
       "    </tr>\n",
       "    <tr>\n",
       "      <th>2023-07-13 14:44:00</th>\n",
       "      <td>Option.Call</td>\n",
       "      <td>4.0</td>\n",
       "      <td>LongShort.Short</td>\n",
       "      <td>-1084.997634</td>\n",
       "      <td>-2831.472205</td>\n",
       "      <td>0.207136</td>\n",
       "      <td>71583930.0</td>\n",
       "      <td>143.374</td>\n",
       "      <td>7.158379e+07</td>\n",
       "    </tr>\n",
       "    <tr>\n",
       "      <th>2023-07-13 14:45:00</th>\n",
       "      <td>Option.Call</td>\n",
       "      <td>0.0</td>\n",
       "      <td>LongShort.Neutral</td>\n",
       "      <td>-1086.679803</td>\n",
       "      <td>-2831.731654</td>\n",
       "      <td>0.208695</td>\n",
       "      <td>71853430.0</td>\n",
       "      <td>250.800</td>\n",
       "      <td>7.185318e+07</td>\n",
       "    </tr>\n",
       "  </tbody>\n",
       "</table>\n",
       "<p>542 rows × 9 columns</p>\n",
       "</div>"
      ],
      "text/plain": [
       "                      instrument  net_lots           position    net_delta  \\\n",
       "2023-07-12 11:59:00  Option.Call       0.0  LongShort.Neutral     0.000000   \n",
       "2023-07-12 12:00:00  Option.Call       4.0    LongShort.Short     0.000000   \n",
       "2023-07-12 12:01:00  Option.Call       4.0    LongShort.Short -1161.937541   \n",
       "2023-07-12 12:02:00  Option.Call       4.0    LongShort.Short -1162.979505   \n",
       "2023-07-12 12:03:00  Option.Call       4.0    LongShort.Short -1153.753134   \n",
       "...                          ...       ...                ...          ...   \n",
       "2023-07-13 14:41:00  Option.Call       4.0    LongShort.Short -1081.569992   \n",
       "2023-07-13 14:42:00  Option.Call       4.0    LongShort.Short -1069.267726   \n",
       "2023-07-13 14:43:00  Option.Call       4.0    LongShort.Short -1076.680044   \n",
       "2023-07-13 14:44:00  Option.Call       4.0    LongShort.Short -1084.997634   \n",
       "2023-07-13 14:45:00  Option.Call       0.0  LongShort.Neutral -1086.679803   \n",
       "\n",
       "                        net_vega  underlying_iv  running_pnl_without_expenses  \\\n",
       "2023-07-12 11:59:00     0.000000       0.000000                           0.0   \n",
       "2023-07-12 12:00:00     0.000000       0.000000                           0.0   \n",
       "2023-07-12 12:01:00 -2935.070762       0.243978                      101420.0   \n",
       "2023-07-12 12:02:00 -2934.999428       0.244332                      205920.0   \n",
       "2023-07-12 12:03:00 -2935.548551       0.247686                      308000.0   \n",
       "...                          ...            ...                           ...   \n",
       "2023-07-13 14:41:00 -2830.660069       0.211583                    71176380.0   \n",
       "2023-07-13 14:42:00 -2827.916473       0.211307                    71313440.0   \n",
       "2023-07-13 14:43:00 -2829.683443       0.210197                    71448630.0   \n",
       "2023-07-13 14:44:00 -2831.472205       0.207136                    71583930.0   \n",
       "2023-07-13 14:45:00 -2831.731654       0.208695                    71853430.0   \n",
       "\n",
       "                     expenses   running_pnl  \n",
       "2023-07-12 11:59:00     0.000  0.000000e+00  \n",
       "2023-07-12 12:00:00   143.374 -1.433740e+02  \n",
       "2023-07-12 12:01:00   143.374  1.012766e+05  \n",
       "2023-07-12 12:02:00   143.374  2.057766e+05  \n",
       "2023-07-12 12:03:00   143.374  3.078566e+05  \n",
       "...                       ...           ...  \n",
       "2023-07-13 14:41:00   143.374  7.117624e+07  \n",
       "2023-07-13 14:42:00   143.374  7.131330e+07  \n",
       "2023-07-13 14:43:00   143.374  7.144849e+07  \n",
       "2023-07-13 14:44:00   143.374  7.158379e+07  \n",
       "2023-07-13 14:45:00   250.800  7.185318e+07  \n",
       "\n",
       "[542 rows x 9 columns]"
      ]
     },
     "execution_count": 48,
     "metadata": {},
     "output_type": "execute_result"
    }
   ],
   "source": [
    "hdfc.tokens['HDFCBANK_Call_1650.0'].stats.iloc[s:e]"
   ]
  },
  {
   "cell_type": "code",
   "execution_count": 2,
   "id": "3f1e6b1b",
   "metadata": {},
   "outputs": [
    {
     "ename": "ModuleNotFoundError",
     "evalue": "No module named 'Modules'",
     "output_type": "error",
     "traceback": [
      "\u001b[1;31m---------------------------------------------------------------------------\u001b[0m",
      "\u001b[1;31mModuleNotFoundError\u001b[0m                       Traceback (most recent call last)",
      "Cell \u001b[1;32mIn[2], line 1\u001b[0m\n\u001b[1;32m----> 1\u001b[0m \u001b[38;5;28;01mfrom\u001b[39;00m \u001b[38;5;21;01mModules\u001b[39;00m \u001b[38;5;28;01mimport\u001b[39;00m Helpers\n",
      "\u001b[1;31mModuleNotFoundError\u001b[0m: No module named 'Modules'"
     ]
    }
   ],
   "source": [
    "from Modules import Helpers"
   ]
  },
  {
   "cell_type": "code",
   "execution_count": 45,
   "id": "ea5cc7e8",
   "metadata": {},
   "outputs": [
    {
     "name": "stdout",
     "output_type": "stream",
     "text": [
      "BANKNIFTY -7552.050055029735\n",
      "HDFCBANK 2459.3698892295\n",
      "ICICIBANK 2640.9678984266097\n",
      "KOTAKBANK 1383.3298841394526\n",
      "SBIN 1142.7102516705954\n",
      "AXISBANK 1008.2291627749024\n"
     ]
    },
    {
     "name": "stderr",
     "output_type": "stream",
     "text": [
      "C:\\Users\\vinayak\\AppData\\Local\\Temp\\20\\ipykernel_90772\\3222907251.py:5: FutureWarning:\n",
      "\n",
      "Series.__getitem__ treating keys as positions is deprecated. In a future version, integer keys will always be treated as labels (consistent with DataFrame behavior). To access a value by position, use `ser.iloc[pos]`\n",
      "\n"
     ]
    }
   ],
   "source": [
    "for ticker in portfolio:\n",
    "    vega = 0\n",
    "    for token in ticker.tokens.values():\n",
    "        x = token.stats['net_vega']\n",
    "        vega += x[x != 0][0]\n",
    "    print(ticker.symbol, vega)"
   ]
  },
  {
   "cell_type": "code",
   "execution_count": 42,
   "id": "b4d47bdb",
   "metadata": {},
   "outputs": [
    {
     "data": {
      "text/plain": [
       "<module 'Modules.Plot' from 'C:\\\\Users\\\\vinayak\\\\Desktop\\\\Backtesting\\\\Modules\\\\Plot.py'>"
      ]
     },
     "execution_count": 42,
     "metadata": {},
     "output_type": "execute_result"
    }
   ],
   "source": [
    "import importlib\n",
    "importlib.reload(Plot)"
   ]
  },
  {
   "cell_type": "code",
   "execution_count": 33,
   "id": "48154791",
   "metadata": {},
   "outputs": [],
   "source": [
    "visualise_dispersion_trade(\n",
    "    start=index.df_futures.index[0], \n",
    "    end=index.df_futures.index[-1], \n",
    "    file_name='PLOT_Complete_Period_Summary.html'\n",
    ")"
   ]
  },
  {
   "cell_type": "code",
   "execution_count": 34,
   "id": "bae43af5",
   "metadata": {},
   "outputs": [],
   "source": [
    "save_dispersion_trades(\n",
    "    start=index.df_futures.index[0], \n",
    "    end=index.df_futures.index[-1], \n",
    "    file_name=f'Info_Trades_for_{strategy_desc}.xlsx'\n",
    ")"
   ]
  },
  {
   "cell_type": "code",
   "execution_count": 49,
   "id": "c4cf61374653d9fd",
   "metadata": {},
   "outputs": [],
   "source": [
    "def metrics(fund_blocked):\n",
    "    info_metrics = open(f'INFO_Metrics_for_{strategy_desc}.txt', 'w')\n",
    "    sys.stdout = info_metrics\n",
    "\n",
    "    print(f\"TimeFrame Length: 6 months\")\n",
    "    print(f\"Fundblocked in rs: {fund_blocked/100}\")\n",
    "    result_df.index = pd.to_datetime(result_df.index)\n",
    "    result_df['date'] = result_df.index.date  # Create a new column for the date\n",
    "    daily_profit = result_df.groupby('date')['running_pnl'].agg(lambda x: x.iloc[-1] - x.iloc[0])\n",
    "    daily_profit.index = pd.to_datetime(result_df['date'].unique())\n",
    "    \n",
    "    ret = daily_profit.sum()/fund_blocked * 100\n",
    "    print(f\"Return: {round(ret)}%\")\n",
    "    \n",
    "    sharpe_value = (daily_profit.mean() - risk_free_rate*fund_blocked/365)/daily_profit.std()\n",
    "    print(f\"Sharpe: {round(sharpe_value)}\")\n",
    "    \n",
    "    peaks = result_df['running_pnl'].cummax()\n",
    "    drawdowns = (result_df['running_pnl'] - peaks)/(peaks)\n",
    "    max_drawdown = drawdowns.min()\n",
    "    print(f\"Drawdown: {round(max_drawdown)}%\")\n",
    "    monthly_data = daily_profit.resample('ME').sum()\n",
    "    monthly_profit = monthly_data[monthly_data > 0].sum()\n",
    "    monthly_loss = abs(monthly_data[monthly_data < 0].sum())\n",
    "    if monthly_loss != 0:\n",
    "        profit_loss_ratio = monthly_profit / monthly_loss\n",
    "    else:\n",
    "        profit_loss_ratio = float('inf')  # Avoid division by zero\n",
    "    print(\"Monthly Profit/Loss Ratio:\", round(profit_loss_ratio))\n",
    "    \n",
    "    windays = (result_df['running_pnl'] > 0).sum()\n",
    "    lossdays = (result_df['running_pnl'] < 0).sum()\n",
    "    if (windays + lossdays) > 0:\n",
    "        win_ratio = windays / (windays + lossdays)\n",
    "    else:\n",
    "        win_ratio = 0\n",
    "    print(\"Win Ratio:\", round(win_ratio))\n",
    "    \n",
    "    streak = (result_df['running_pnl'] > 0).astype(int)  # 1 for winning days, 0 otherwise\n",
    "    losing_streak = (result_df['running_pnl'] < 0).astype(int)  # 1 for losing days, 0 otherwise\n",
    "    winning_streaks = streak.groupby((streak != streak.shift()).cumsum()).cumsum()\n",
    "    losing_streaks = losing_streak.groupby((losing_streak != losing_streak.shift()).cumsum()).cumsum()\n",
    "    print(f\"Longest Winning Streak: {winning_streaks.max()}, Longest Losing Streak: {losing_streaks.max()}\")\n",
    "\n",
    "    sys.stdout = original_stdout.value\n",
    "    info_metrics.close()"
   ]
  },
  {
   "cell_type": "code",
   "execution_count": null,
   "id": "d39421a8",
   "metadata": {},
   "outputs": [],
   "source": []
  }
 ],
 "metadata": {
  "kernelspec": {
   "display_name": "Python 3",
   "language": "python",
   "name": "python3"
  },
  "language_info": {
   "codemirror_mode": {
    "name": "ipython",
    "version": 3
   },
   "file_extension": ".py",
   "mimetype": "text/x-python",
   "name": "python",
   "nbconvert_exporter": "python",
   "pygments_lexer": "ipython3",
   "version": "3.12.1"
  }
 },
 "nbformat": 4,
 "nbformat_minor": 5
}
