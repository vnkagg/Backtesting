{
 "cells": [
  {
   "cell_type": "markdown",
   "id": "a2f66b60",
   "metadata": {},
   "source": [
    "IMPORTS AND CONFIGURATION"
   ]
  },
  {
   "cell_type": "code",
   "execution_count": 1,
   "id": "f99f40fc",
   "metadata": {},
   "outputs": [],
   "source": [
    "import numpy as np\n",
    "import pandas as pd\n",
    "import os\n",
    "import importlib\n",
    "import sys\n",
    "import copy"
   ]
  },
  {
   "cell_type": "code",
   "execution_count": 2,
   "id": "a599c1e1",
   "metadata": {},
   "outputs": [
    {
     "name": "stdout",
     "output_type": "stream",
     "text": [
      "path before ['c:\\\\Users\\\\vinayak\\\\Desktop\\\\Backtesting\\\\Dispersion\\\\Optimizations\\\\nearIV_dipsersion', 'c:\\\\Program Files\\\\Python312\\\\python312.zip', 'c:\\\\Program Files\\\\Python312\\\\DLLs', 'c:\\\\Program Files\\\\Python312\\\\Lib', 'c:\\\\Program Files\\\\Python312', '', 'C:\\\\Users\\\\vinayak\\\\AppData\\\\Roaming\\\\Python\\\\Python312\\\\site-packages', 'C:\\\\Users\\\\vinayak\\\\AppData\\\\Roaming\\\\Python\\\\Python312\\\\site-packages\\\\win32', 'C:\\\\Users\\\\vinayak\\\\AppData\\\\Roaming\\\\Python\\\\Python312\\\\site-packages\\\\win32\\\\lib', 'C:\\\\Users\\\\vinayak\\\\AppData\\\\Roaming\\\\Python\\\\Python312\\\\site-packages\\\\Pythonwin', 'c:\\\\Program Files\\\\Python312\\\\Lib\\\\site-packages']\n",
      "The backtesting folder was not in the systems path\n",
      "path after ['c:\\\\Users\\\\vinayak\\\\Desktop\\\\Backtesting\\\\Dispersion\\\\Optimizations\\\\nearIV_dipsersion', 'c:\\\\Program Files\\\\Python312\\\\python312.zip', 'c:\\\\Program Files\\\\Python312\\\\DLLs', 'c:\\\\Program Files\\\\Python312\\\\Lib', 'c:\\\\Program Files\\\\Python312', '', 'C:\\\\Users\\\\vinayak\\\\AppData\\\\Roaming\\\\Python\\\\Python312\\\\site-packages', 'C:\\\\Users\\\\vinayak\\\\AppData\\\\Roaming\\\\Python\\\\Python312\\\\site-packages\\\\win32', 'C:\\\\Users\\\\vinayak\\\\AppData\\\\Roaming\\\\Python\\\\Python312\\\\site-packages\\\\win32\\\\lib', 'C:\\\\Users\\\\vinayak\\\\AppData\\\\Roaming\\\\Python\\\\Python312\\\\site-packages\\\\Pythonwin', 'c:\\\\Program Files\\\\Python312\\\\Lib\\\\site-packages', 'C:\\\\Users\\\\vinayak\\\\Desktop\\\\Backtesting']\n",
      "\n"
     ]
    }
   ],
   "source": [
    "backtesting_path = r'C:\\Users\\vinayak\\Desktop\\Backtesting'\n",
    "print(\"path before\", sys.path)\n",
    "if backtesting_path not in sys.path:\n",
    "    print(\"The backtesting folder was not in the systems path\")\n",
    "    sys.path.append(backtesting_path)\n",
    "print(\"path after\", sys.path)\n",
    "print()"
   ]
  },
  {
   "cell_type": "code",
   "execution_count": 26,
   "id": "05fcd425",
   "metadata": {},
   "outputs": [],
   "source": [
    "# from scipy.optimize import minimize\n",
    "from Modules import TradeAndLogics as TL\n",
    "from Modules import Plot\n",
    "from Modules import Data as data\n",
    "from Modules import Data_Processing as dp\n",
    "from Modules.enums import Option, LongShort, DB, FNO, Leg, OHLC, PTSL\n",
    "from Modules import Utility as util"
   ]
  },
  {
   "cell_type": "code",
   "execution_count": 4,
   "id": "cbc8cb9f34253615",
   "metadata": {
    "ExecuteTime": {
     "end_time": "2024-10-14T14:37:52.618582Z",
     "start_time": "2024-10-14T14:37:52.612163Z"
    }
   },
   "outputs": [
    {
     "data": {
      "text/plain": [
       "'c:\\\\Users\\\\vinayak\\\\Desktop\\\\Backtesting\\\\Dispersion\\\\Optimizations\\\\nearIV_dipsersion'"
      ]
     },
     "execution_count": 4,
     "metadata": {},
     "output_type": "execute_result"
    }
   ],
   "source": [
    "pwd()"
   ]
  },
  {
   "cell_type": "code",
   "execution_count": 5,
   "id": "29c2df12485996cb",
   "metadata": {
    "ExecuteTime": {
     "end_time": "2024-10-14T14:37:52.642688Z",
     "start_time": "2024-10-14T14:37:52.640069Z"
    }
   },
   "outputs": [
    {
     "data": {
      "text/plain": [
       "<ipykernel.iostream.OutStream at 0x1f6c372bf70>"
      ]
     },
     "execution_count": 5,
     "metadata": {},
     "output_type": "execute_result"
    }
   ],
   "source": [
    "original_stdout = util.const(sys.stdout)\n",
    "original_stdout.value"
   ]
  },
  {
   "cell_type": "markdown",
   "id": "72ee84e0",
   "metadata": {},
   "source": [
    "TRADING/ STRATEGY PARAMETERS"
   ]
  },
  {
   "cell_type": "code",
   "execution_count": 6,
   "id": "6f53efdc54d39fdc",
   "metadata": {
    "ExecuteTime": {
     "end_time": "2024-10-14T14:37:53.765562Z",
     "start_time": "2024-10-14T14:37:53.761314Z"
    }
   },
   "outputs": [],
   "source": [
    "index_symbol = 'BANKNIFTY'\n",
    "start_date = '2023-07-01'\n",
    "end_date = '2024-01-01'\n",
    "expiry_type = 'I'\n",
    "risk_free_rate = 0.1 # (10% interest rate)\n",
    "timeframe = 1 # mins\n",
    "# Trade/ Strategy Parameters\n",
    "buying_delta_threshold_per_lot = 5\n",
    "selling_delta_threshold_per_lot = 1\n",
    "notional_vega_buying = 10000 # rs\n",
    "notional_vega_selling = 10000 # rs\n",
    "zscore_threshold_long = 3\n",
    "zscore_threshold_short = -2.5\n",
    "ICView = LongShort.Long\n",
    "profit_target = 15000\n",
    "stop_loss = 10000\n",
    "# epsilon = 0.1"
   ]
  },
  {
   "cell_type": "code",
   "execution_count": 7,
   "id": "a85f6724",
   "metadata": {},
   "outputs": [],
   "source": [
    "strategy_desc = f\"IC_nearIV\""
   ]
  },
  {
   "cell_type": "markdown",
   "id": "df2cb656",
   "metadata": {},
   "source": [
    "Strategy Specific Data Dealing and Modifications"
   ]
  },
  {
   "cell_type": "code",
   "execution_count": 8,
   "id": "915d6ea9",
   "metadata": {},
   "outputs": [],
   "source": [
    "def tell_delta_threshold_per_lot(ticker):\n",
    "    if ticker.intention == LongShort.Long:\n",
    "        return buying_delta_threshold_per_lot\n",
    "    return selling_delta_threshold_per_lot\n",
    "\n",
    "def tell_notional_vega(ticker):\n",
    "    if ticker.intention == LongShort.Long:\n",
    "        return notional_vega_buying\n",
    "    return notional_vega_selling"
   ]
  },
  {
   "cell_type": "code",
   "execution_count": 9,
   "id": "a9ca6079",
   "metadata": {},
   "outputs": [],
   "source": [
    "import Dispersion.DispersionAdjustedFunctionality as daf"
   ]
  },
  {
   "cell_type": "code",
   "execution_count": 10,
   "id": "8131e016",
   "metadata": {},
   "outputs": [],
   "source": [
    "basket = daf.RawWeightedPortfolio()\n",
    "basket.insert('HDFCBANK', 550, 27.04)\n",
    "basket.insert('ICICIBANK', 700, 23.03)\n",
    "basket.insert('KOTAKBANK', 400, 11.72)\n",
    "basket.insert('SBIN', 750, 11.27)\n",
    "basket.insert('AXISBANK', 625, 11.18)"
   ]
  },
  {
   "cell_type": "code",
   "execution_count": 11,
   "id": "215c86d142228aa8",
   "metadata": {
    "ExecuteTime": {
     "end_time": "2024-10-14T14:37:53.440492Z",
     "start_time": "2024-10-14T14:37:53.435775Z"
    }
   },
   "outputs": [],
   "source": [
    "index_symbol = 'BANKNIFTY'\n",
    "index_lot_size = 15"
   ]
  },
  {
   "cell_type": "markdown",
   "id": "57aa9358",
   "metadata": {},
   "source": [
    "BACK TO NORMAL"
   ]
  },
  {
   "cell_type": "code",
   "execution_count": 15,
   "id": "1434ad70",
   "metadata": {},
   "outputs": [],
   "source": [
    "def entry_signal(timestamp):\n",
    "    if timestamp == entry:\n",
    "        return True\n",
    "    return False\n",
    "\n",
    "def exit_signal(timestamp):\n",
    "    if TL.isTodayAnyExpiry(timestamp, *portfolio):\n",
    "        return True\n",
    "    if timestamp == exit:\n",
    "        return True\n",
    "    return False"
   ]
  },
  {
   "cell_type": "code",
   "execution_count": 12,
   "id": "2ea6c5750ce94564",
   "metadata": {
    "ExecuteTime": {
     "end_time": "2024-10-14T16:26:00.267088Z",
     "start_time": "2024-10-14T16:26:00.262838Z"
    }
   },
   "outputs": [],
   "source": [
    "def get_vega_legs(ticker, timestamp, *Legs):\n",
    "    vega = 0\n",
    "    for leg in Legs:\n",
    "        if leg.Instrument == FNO.FUTURES:\n",
    "            continue\n",
    "        greeks = ticker.Greeks(timestamp, leg.Instrument, leg.Strike)\n",
    "        if greeks is None:\n",
    "            return None\n",
    "        vega += greeks['vega'] * leg.Position.value\n",
    "    return abs(vega)"
   ]
  },
  {
   "cell_type": "code",
   "execution_count": 14,
   "id": "47fec7cb0a2389b4",
   "metadata": {
    "ExecuteTime": {
     "end_time": "2024-10-14T16:26:00.214924Z",
     "start_time": "2024-10-14T16:26:00.205027Z"
    }
   },
   "outputs": [],
   "source": [
    "def get_lots_for_entry(ticker, timestamp, **kwargs):\n",
    "    logging_information = {}\n",
    "    legs = Helpers.get_legs_ironfly_WithFarOptionsOfPrice_ATMpriceXfactor(ticker, timestamp, 1, ticker.intention, price_factor)\n",
    "    vega_ticker_ironfly = get_vega_legs(ticker, timestamp, *legs)\n",
    "    if vega_ticker_ironfly is None:\n",
    "        return None, None\n",
    "    unweighted_vega = vega_ticker_ironfly * ticker.lot_size\n",
    "    notional_vega = tell_notional_vega(ticker)\n",
    "    idea_for_weight = ticker.weight\n",
    "    logging_information = {\n",
    "        'Lot Size': ticker.lot_size,\n",
    "        'Weight': ticker.weight,\n",
    "        'Vega per IronFly': vega_ticker_ironfly,\n",
    "        'Vega per Lot IronFly': vega_ticker_ironfly * ticker.lot_size,\n",
    "        'Target Notional Vega': notional_vega * ticker.weight\n",
    "    }\n",
    "    \n",
    "    # if 'vega_neutral' in kwargs and kwargs['vega_neutral']:\n",
    "    \n",
    "    if 'ic_neutral' in kwargs and kwargs['ic_neutral'] == True:\n",
    "        if ticker.is_component:\n",
    "            idea_for_weight *= math.sqrt(ticker.get_ic_at(timestamp))\n",
    "\n",
    "    elif 'theta_neutral' in kwargs and kwargs['theta_neutral'] == True:\n",
    "        strike_ticker, _ = ticker.find_moneyness_strike(timestamp, 0, Option.Call)\n",
    "        logging_information['ATM Strike'] = strike_ticker\n",
    "        if ticker.is_component:\n",
    "            import math\n",
    "            idea_for_weight *= math.sqrt(ticker.get_ic_at(timestamp))\n",
    "\n",
    "    lots_ticker = int(np.round(notional_vega * idea_for_weight/ unweighted_vega))\n",
    "    logging_information['Lots to take Position'] = lots_ticker\n",
    "    logging_information['Vega Satisfied'] = lots_ticker * unweighted_vega\n",
    "\n",
    "    print(f\">> {ticker.symbol}\")\n",
    "    for info_key, info_value in logging_information.items():\n",
    "        print(f\"  {info_key}: {info_value}\")\n",
    "    return lots_ticker"
   ]
  },
  {
   "cell_type": "code",
   "execution_count": 16,
   "id": "ac5e21f4c8ce1d7f",
   "metadata": {
    "ExecuteTime": {
     "end_time": "2024-10-14T16:26:00.522871Z",
     "start_time": "2024-10-14T16:26:00.517879Z"
    }
   },
   "outputs": [],
   "source": [
    "def take_dispersion_position(timestamp, remarks, ticker, lots):\n",
    "    legs = []\n",
    "    legs = Helpers.get_legs_ironfly_WithFarOptionsOfPrice_ATMpriceXfactor(ticker, timestamp, lots, ticker.intention, price_factor)\n",
    "    for leg in legs:\n",
    "        key = f'{ticker.symbol}_{leg.id()}'\n",
    "        if key not in ticker.tokens.keys():\n",
    "            ticker.tokens[key] = TL.Token(ticker, leg.Instrument, leg.Strike, leg.LegName)\n",
    "        token = ticker.tokens[key]\n",
    "        token.add_position(timestamp, lots, leg.Position)\n",
    "    ticker.take_position(timestamp, remarks, *legs)"
   ]
  },
  {
   "cell_type": "code",
   "execution_count": 17,
   "id": "85148a8261839abc",
   "metadata": {
    "ExecuteTime": {
     "end_time": "2024-10-14T16:26:00.685826Z",
     "start_time": "2024-10-14T16:26:00.681832Z"
    }
   },
   "outputs": [],
   "source": [
    "def reset_hedging_positions(ticker):\n",
    "    ticker.hedging = pd.DataFrame(columns = ['date_timestamp', 'lots', 'position', 'futures_price', 'delta_added'])\n",
    "    ticker.hedging.set_index('date_timestamp', inplace=True)\n",
    "\n",
    "def reset_trade_positions(ticker):\n",
    "    ticker.Trades = dp.Trades()\n",
    "    ticker.tokens = {}"
   ]
  },
  {
   "cell_type": "code",
   "execution_count": 18,
   "id": "95f56ccb",
   "metadata": {},
   "outputs": [],
   "source": [
    "class DispersionPTSL(TL.PTSLHandling):\n",
    "    def __init__(self, profit_target, stop_loss, *tickers):\n",
    "        super().__init__(profit_target, stop_loss, *tickers)\n",
    "\n",
    "    def is_valid(self, timestamp):\n",
    "        # return True\n",
    "        if self.active_ptsl:\n",
    "            self.update_validity(timestamp)\n",
    "        return not self.active_ptsl   \n",
    "    \n",
    "    def update_validity(self, timestamp):\n",
    "        index = self.tickers[0]\n",
    "        if self.triggered_at is None:\n",
    "            return\n",
    "        for z in index.df_futures['zscore'].loc[self.triggered_at : timestamp]:\n",
    "            if abs(z) <= epsilon:\n",
    "                self.triggered_at = None\n",
    "                self.active_ptsl = False  \n",
    "                print(f\"PTSL reverted back to mean (<= {epsilon}): Future Signals can now be used for trading\")"
   ]
  },
  {
   "cell_type": "code",
   "execution_count": 19,
   "id": "22cc0b6d85d900f1",
   "metadata": {
    "ExecuteTime": {
     "end_time": "2024-10-14T16:26:00.974169Z",
     "start_time": "2024-10-14T16:26:00.969632Z"
    }
   },
   "outputs": [],
   "source": [
    "def squareoff(timestamp, remarks, logging_token_update = True):\n",
    "    print(\"************  SQUARE OFF BEGINS  *********** \")\n",
    "    for ticker in portfolio:\n",
    "        TL.squareoff_ticker(timestamp, remarks, ticker, logging_token_update)\n",
    "    print(\"* SQUARE OFF TRADES SAVED, TOKENS IN TICKERS UPDATED\")\n",
    "    print(\"************  SQUARE OFF COMPLETE  *********** \")"
   ]
  },
  {
   "cell_type": "code",
   "execution_count": 20,
   "id": "9f85db07",
   "metadata": {},
   "outputs": [],
   "source": [
    "def UpdateDispersionTickers(timestamp, remarks, hedge, logging_token_update, logging_hedging):\n",
    "    hedge_using_synthetic_futures = True\n",
    "    for ticker in portfolio:\n",
    "        delta_threshold_per_lot = tell_delta_threshold_per_lot(ticker)\n",
    "        TL.HandleUpdate(ticker, timestamp, remarks, hedge, delta_threshold_per_lot, hedge_using_synthetic_futures, logging_token_update, logging_hedging)"
   ]
  },
  {
   "cell_type": "code",
   "execution_count": 21,
   "id": "5732a9ec",
   "metadata": {},
   "outputs": [],
   "source": [
    "def zoom_dispersion_trade(start, end, file_name):\n",
    "    start = pd.to_datetime(start)\n",
    "    end = pd.to_datetime(end)\n",
    "    performance = Helpers.zoom_tokens_performance_bar_by_bar(*portfolio, start=start, end=end)\n",
    "    Plot.save_df_to_excel(performance, file_name)"
   ]
  },
  {
   "cell_type": "code",
   "execution_count": 22,
   "id": "2a384c3e",
   "metadata": {},
   "outputs": [],
   "source": [
    "def visualise_dispersion_trade(start, end, file_name):\n",
    "    start = pd.to_datetime(start)\n",
    "    end = pd.to_datetime(end)\n",
    "    result_df = Helpers.get_summary_portfolio(*portfolio, start=start, end=end)\n",
    "\n",
    "    result_df['IC'] = ic.loc[start:end, 'ic']\n",
    "\n",
    "    fig = Plot.plot_df(result_df, *(result_df.columns))\n",
    "    Plot.save_plot(fig, file_name)"
   ]
  },
  {
   "cell_type": "code",
   "execution_count": 23,
   "id": "2a43362b",
   "metadata": {},
   "outputs": [],
   "source": [
    "def save_dispersion_trades(start, end, file_name):\n",
    "    trades_dict = {}\n",
    "    trades_dict['All Trades'] = Helpers.get_trades_portfolio(*portfolio, start=start, end=end)\n",
    "    for ticker in portfolio:\n",
    "        trades_dict[ticker.symbol] = Helpers.get_trades_ticker(ticker, start=start, end=end)\n",
    "    Plot.save_df_to_excel(trades_dict, file_name)"
   ]
  },
  {
   "cell_type": "code",
   "execution_count": 24,
   "id": "c7d2bb89",
   "metadata": {},
   "outputs": [],
   "source": [
    "def generate_signal_data(index, index_near, index_next, timestamp):\n",
    "    index_near.get_iv_at(timestamp)\n",
    "    index_next.get_iv_at(timestamp)\n",
    "    index.df_futures.loc[timestamp, 'iv'] = Helpers.get_normallized_iv(timestamp, index_near, index_next)\n",
    "    index.get_ic_at(timestamp)\n",
    "    window = 500\n",
    "    idx = index.df_futures.index.get_loc(timestamp)\n",
    "    window_data = index.df_futures['ic'].iloc[idx - window + 1 : idx + 1]\n",
    "    rolling_mean = window_data.mean()\n",
    "    rolling_std = window_data.std()\n",
    "    zscore = (index.df_futures.loc[timestamp, 'ic'] - rolling_mean) / rolling_std\n",
    "    index.df_futures.loc[timestamp, 'zscore'] = zscore\n",
    "    return"
   ]
  },
  {
   "cell_type": "code",
   "execution_count": null,
   "id": "bf477a54b66080ec",
   "metadata": {
    "ExecuteTime": {
     "start_time": "2024-10-14T16:26:01.150275Z"
    },
    "jupyter": {
     "is_executing": true
    }
   },
   "outputs": [],
   "source": [
    "# positions = {}\n",
    "# reset_hedging_positions(index)\n",
    "# reset_trade_positions(index)\n",
    "# for component in index.components.values():\n",
    "#     reset_hedging_positions(component)\n",
    "#     reset_trade_positions(component)\n",
    "\n",
    "\n",
    "# PTSL = DispersionPTSL(profit_target, stop_loss, index, *index.components.values())\n",
    "# current_position = None\n",
    "\n",
    "# file = open(f'LOGS_Trading_Logic_for_{strategy_desc}.txt', 'w')\n",
    "# sys.stdout = file\n",
    "# trade_start_date = None\n",
    "# trade_end_date = None\n",
    "# trade_count = 0\n",
    "\n",
    "# for time_ix, timestamp in enumerate(index.df_futures.index):\n",
    "#     print()\n",
    "#     print(f\"Timestamp: {timestamp}\")\n",
    "#     print(f\"IC = {index.df_futures.loc[timestamp, 'ic']} | Z-Score = {index.df_futures.loc[timestamp, 'zscore']} | Filled IC = {index.df_futures.loc[timestamp, 'filled_ic']}\")\n",
    "#     #######################################################################################################################################################\n",
    "#     PTSL.update_validity(timestamp)\n",
    "#     if TL.check_existing_position(index):\n",
    "        \n",
    "#         print(f\"Existing Position Check: TRUE | Dispersion position: {current_position}\")\n",
    "        \n",
    "#         # EXPIRY DAY MANUAL SQUAREOFF\n",
    "#         if isTodayAnyExpiry(timestamp, index):\n",
    "#             print(\"************  EXPIRY DAY, MANUAL SQUARE OFF ************  \")\n",
    "#             UpdateDispersionTickers(time_ix, timestamp, 'NoHedging', False, False, False)\n",
    "#             squareoff(time_ix, timestamp, 'Expiry Day, Manual Square Off', False)\n",
    "#             trade_end_date = timestamp\n",
    "#             trade_count+=1\n",
    "#             zoom_dispersion_trade(trade_start_date, trade_end_date, f\"Trade_{trade_count}.xlsx\")\n",
    "#             visualise_dispersion_trade(trade_start_date, trade_end_date, f\"Visualise_Trade_{trade_count}.html\")\n",
    "#             continue\n",
    "            \n",
    "            \n",
    "#         # PROFIT TARGET AND STOP LOSS SQUAREOFF\n",
    "#         ptsl_result = PTSL.status(timestamp) \n",
    "#         if ptsl_result != \"good_to_go\":\n",
    "#             print(\"************  PTSL Trigger hit *********** \")\n",
    "#             print(f\"{PTSL.nature} Square off at NetPnl of {PTSL.pnl_last_trade}\")\n",
    "#             UpdateDispersionTickers(time_ix, timestamp, 'NoHedging', False, True, False)\n",
    "#             squareoff(time_ix, timestamp, f'{ptsl_result} Square Off', True)\n",
    "#             trade_end_date = timestamp\n",
    "#             trade_count+=1\n",
    "#             zoom_dispersion_trade(trade_start_date, trade_end_date, f\"Trade_{trade_count}.xlsx\")\n",
    "#             visualise_dispersion_trade(trade_start_date, trade_end_date, f\"Visualise_Trade_{trade_count}.html\")\n",
    "#             continue\n",
    "            \n",
    "            \n",
    "#         # REVERSE SIGNAL SQUAREOFF\n",
    "#         squareoff_signal = (current_position == LongShort.Long and exit_signal(timestamp)) or (current_position == LongShort.Short and entry_signal(timestamp))\n",
    "            \n",
    "#         if squareoff_signal:\n",
    "#             print(\"Entered squareoff signal block\")\n",
    "#             print(\"************  SquareOff Reverse zscore Signal hit. ************ \")\n",
    "#             UpdateDispersionTickers(time_ix, timestamp, 'NoHedging', False, True, False)\n",
    "#             squareoff(time_ix, timestamp, 'ZScore Reversal Square Off (Entry in next timestamp/ signal)')\n",
    "#             trade_end_date = timestamp\n",
    "#             trade_count+=1\n",
    "#             zoom_dispersion_trade(trade_start_date, trade_end_date, f\"Trade_{trade_count}.xlsx\")\n",
    "#             visualise_dispersion_trade(trade_start_date, trade_end_date, f\"Visualise_Trade_{trade_count}.html\")\n",
    "#             continue\n",
    "            \n",
    "#         # IF NO NEED TO SQUAREOFF, HEDGE IF NEEDED\n",
    "#         UpdateDispersionTickers(time_ix, timestamp, 'Delta Hedging', True, True, True)\n",
    "#         print(\"========================================================================================================================================================================\")\n",
    "#         continue\n",
    "#     #######################################################################################################################################################\n",
    "    \n",
    "    \n",
    "#     #######################################################################################################################################################\n",
    "#     if entry_signal(timestamp):\n",
    "#         print(\"************  LONG DISPERSION SIGNAL ************  \")\n",
    "#         UpdateDispersionTickers(time_ix, timestamp, \"NoHedging\", False, False, False)\n",
    "#         if isTodayAnyExpiry(timestamp, index):\n",
    "#             print(\"Expiry Day today. Trading on Expiry Day is not Allowed\")\n",
    "#             continue\n",
    "\n",
    "#         if not PTSL.is_valid(timestamp):\n",
    "#             print(f\"{PTSL.nature} was Triggered at {PTSL.triggered_at.strftime('%H:%M on %d/%b/%Y')} and Z-Score has not yet reverted back to mean (abs(z) is not yet <= {epsilon})\")\n",
    "#             # UpdateDispersionTickers(time_ix, timestamp, \"NoHedging\", False, True, False)\n",
    "#             continue\n",
    "        \n",
    "#         try:\n",
    "#             lots_index, lots_components = get_lots_for_dispersion(LongShort.Short, index, timestamp, True, False, False, False, notional_vega)\n",
    "#             # print(f\"Index Lots: {lots_index} || Components Lots: {lots_index, lots_components}\")\n",
    "\n",
    "#             if lots_index == 0:\n",
    "#                 print(\"Cant take Dispersion Position, lots index for target notional vega can't be 0\")\n",
    "#                 # UpdateDispersionTickers(time_ix, timestamp, \"NoHedging\", False, True, False)\n",
    "#                 continue\n",
    "\n",
    "#             take_dispersion_position((timestamp, time_ix), 'Long Dispersion Signal (zscore high, short index, long components)', index, LongShort.Short, lots_index)\n",
    "#             for (component, lots_component) in zip(index.components.values(), lots_components):\n",
    "#                 take_dispersion_position((timestamp, time_ix), 'Long Dispersion Signal (zscore high, short index, long components)', component, LongShort.Long, lots_component)\n",
    "#             PTSL.fresh_trade(timestamp)\n",
    "#             current_position = LongShort.Long\n",
    "#             trade_start_date = timestamp\n",
    "#             print(f\"Long dispersion (Short Index Long Components) trade executed\")\n",
    "#         except Exception as e:\n",
    "#             print(f\"Couldn't Enter a Long Dispersion Position: {e}\")  \n",
    "\n",
    "#         continue\n",
    "#     #######################################################################################################################################################\n",
    "\n",
    "\n",
    "#     #######################################################################################################################################################\n",
    "#     elif exit_signal(timestamp):\n",
    "#         print(\"************  SHORT DISPERSION SIGNAL ************  \")\n",
    "#         UpdateDispersionTickers(time_ix, timestamp, \"NoHedging\", False, False, False)\n",
    "#         if isTodayAnyExpiry(timestamp, index):\n",
    "#             print(\"Expiry Day today. Trading on Expiry Day is not Allowed\")\n",
    "#             continue\n",
    "\n",
    "#         if not PTSL.is_valid(timestamp):\n",
    "#             print(f\"{PTSL.nature} was Triggered at {PTSL.triggered_at.strftime('%H:%M on %d/%b/%Y')} and Z-Score has not yet reverted back to mean (abs(z) is not yet <= {epsilon})\")\n",
    "#             # UpdateDispersionTickers(time_ix, timestamp, \"NoHedging\", False, True, False)\n",
    "#             continue\n",
    "\n",
    "#         try:\n",
    "#             lots_index, lots_components = get_lots_for_dispersion(LongShort.Long, index, timestamp, True, False, False, False, notional_vega)\n",
    "#             # print(f\"lots_index, lots_components: {lots_index, lots_components}\")\n",
    "\n",
    "#             if lots_index == 0:\n",
    "#                 print(\"Cant take Dispersion Position, lots index for target notional vega can't be 0\")\n",
    "#                 # UpdateDispersionTickers(time_ix, timestamp, \"NoHedging\", False, True, False)\n",
    "#                 continue\n",
    "            \n",
    "#             take_dispersion_position((timestamp, time_ix), 'Short Dispersion Signal (zscore low, long index, short components)', index, LongShort.Long, lots_index)\n",
    "#             for (component, lots_component) in zip(index.components.values(), lots_components):\n",
    "#                 take_dispersion_position((timestamp, time_ix), 'Short Dispersion Signal (zscore low, long index, short components)', component, LongShort.Short, lots_component)\n",
    "#             PTSL.fresh_trade(timestamp)\n",
    "#             current_position = LongShort.Short\n",
    "#             trade_start_date = timestamp\n",
    "#             print(f\"Short dispersion (Long Index Short Components) trade\")\n",
    "#         except Exception as e:\n",
    "#             print(f\"Couldn't Enter a Short Dispersion Position: {e}\")  \n",
    "#         continue\n",
    "#     #######################################################################################################################################################\n",
    "\n",
    "#     UpdateDispersionTickers(time_ix, timestamp, \"NoHedging\", False, True, False)\n",
    "#     print(\"========================================================================================================================================================================\")\n",
    "    \n",
    "\n",
    "# file.close()\n",
    "# sys.stdout = original_stdout.value"
   ]
  },
  {
   "cell_type": "code",
   "execution_count": 25,
   "id": "c3893b34",
   "metadata": {},
   "outputs": [],
   "source": [
    "def get_index(start, end):\n",
    "    constituents = {}\n",
    "    ohlc = OHLC.close\n",
    "    index = daf.ticker(index_symbol, index_lot_size, True, start, end, expiry_type, True, timeframe, True, 0.1)\n",
    "    index.initializeDispersion(constituents, False, 1)\n",
    "    index.set_ohlc(ohlc)\n",
    "    index.set_intention(ICView)\n",
    "    for stock in basket.Symbols():\n",
    "        constituents[stock] = daf.ticker(stock, basket.LotSize(stock), True, start, end, expiry_type, True, timeframe, False, 0.1)\n",
    "        constituents[stock].initializeDispersion({}, True, basket.Weight(stock))\n",
    "        constituents[stock].set_ohlc(ohlc)\n",
    "        constituents[stock].set_intention(ICView.opposite())\n",
    "    portfolio = [index, *[component for component in index.components.values()]]\n",
    "    return index, portfolio"
   ]
  },
  {
   "cell_type": "code",
   "execution_count": null,
   "id": "7693803e",
   "metadata": {},
   "outputs": [],
   "source": [
    "def trading_loop(index, portfolio):\n",
    "    file = open(fr'{folder_path}\\LOGS_Trading_Logic.txt', 'w', buffering = 1)\n",
    "    sys.stdout = file\n",
    "\n",
    "    for ticker in portfolio:\n",
    "        ticker.reset_trades()\n",
    "\n",
    "    TrackPTSL = DispersionPTSL(profit_target, stop_loss, *portfolio)\n",
    "    timestamps = index.timestamps\n",
    "    current_position = None\n",
    "    trade_start_date, trade_end_date, trade_count = None, None, 0\n",
    "    for timestamp in timestamps:\n",
    "        print()\n",
    "        print(f\"Timestamp: {timestamp}\")\n",
    "        #######################################################################################################################################################\n",
    "        if TL.check_existing_position(index):\n",
    "            \n",
    "            print(f\"Existing Position Check: TRUE | IC position: {current_position}\")\n",
    "            \n",
    "            # 3:20 (Market Close) SQUAREOFF\n",
    "            if exit_signal(timestamp):\n",
    "                print(\"************  MARKET CLOSE  *********** \")\n",
    "                UpdateDispersionTickers(timestamp, 'NoHedging', False, True, False)\n",
    "                squareoff(timestamp, f'Exit Square Off', True)\n",
    "                trade_end_date = timestamp\n",
    "                trade_count+=1\n",
    "                zoom_dispersion_trade(trade_start_date, trade_end_date, fr\"{folder_path}\\Zoom_Trade.xlsx\")\n",
    "                visualise_dispersion_trade(trade_start_date, trade_end_date, fr\"{folder_path}\\Visualise_Trade.html\")\n",
    "                continue\n",
    "\n",
    "            # PROFIT TARGET AND STOP LOSS SQUAREOFF\n",
    "            if TrackPTSL.is_valid(timestamp) and TrackPTSL.status(timestamp) != PTSL.Valid:\n",
    "                print(\"************  TrackPTSL Trigger hit *********** \")\n",
    "                print(f\"{TrackPTSL.nature} Square off at NetPnl of {TrackPTSL.pnl_last_trade}\")\n",
    "                UpdateDispersionTickers(timestamp, 'NoHedging', False, True, False)\n",
    "                squareoff(timestamp, f'{TrackPTSL.nature} Square Off', True)\n",
    "                trade_end_date = timestamp\n",
    "                trade_count+=1\n",
    "                zoom_dispersion_trade(trade_start_date, trade_end_date, fr\"{folder_path}\\Zoom_Trade.xlsx\")\n",
    "                visualise_dispersion_trade(trade_start_date, trade_end_date, fr\"{folder_path}\\Visualise_Trade.html\")\n",
    "                continue\n",
    "                \n",
    "            # IF NO NEED TO SQUAREOFF, HEDGE IF NEEDED\n",
    "            UpdateDispersionTickers(timestamp, 'Delta Hedging using Synthetic Futures', True, True, True)\n",
    "            print(\"========================================================================================================================================================================\")\n",
    "            continue\n",
    "        #######################################################################################################################################################\n",
    "        \n",
    "        \n",
    "        #######################################################################################################################################################\n",
    "        if entry_signal(timestamp):\n",
    "            print(\"************  ENTRY TIME REACHED  ************  \")\n",
    "            UpdateDispersionTickers(timestamp, \"NoHedging\", False, False, False)\n",
    "            if TL.isTodayAnyExpiry(timestamp, *portfolio):\n",
    "                print(\"Expiry Day today. Trading on Expiry Day is not Allowed\")\n",
    "                continue\n",
    "\n",
    "            if not TrackPTSL.is_valid(timestamp):\n",
    "                print(f\"{TrackPTSL.nature} was Triggered at {TrackPTSL.triggered_at.strftime('%H:%M on %d/%b/%Y')} and Z-Score has not yet reverted back to mean (abs(z) is not yet <= {epsilon})\")\n",
    "                continue\n",
    "            \n",
    "            for ticker in portfolio:\n",
    "                if ticker.is_index:\n",
    "                    ticker.set_intention(ICView)\n",
    "                else:\n",
    "                    ticker.set_intention(ICView.opposite())\n",
    "                lots_ticker = get_lots_for_entry(ticker, timestamp)\n",
    "                take_dispersion_position(timestamp, f'{ICView.name} IC', ticker, lots_ticker)\n",
    "\n",
    "            TrackPTSL.fresh_trade(timestamp)\n",
    "            current_position = ICView\n",
    "            trade_start_date = timestamp\n",
    "            print(f\"{ICView} IC Trade executed\")\n",
    "\n",
    "            continue\n",
    "        #######################################################################################################################################################\n",
    "\n",
    "        UpdateDispersionTickers(timestamp, \"NoHedging\", False, True, False)\n",
    "        print(\"========================================================================================================================================================================\")\n",
    "        \n",
    "\n",
    "    file.close()\n",
    "    sys.stdout = original_stdout.value"
   ]
  },
  {
   "cell_type": "code",
   "execution_count": null,
   "id": "48154791",
   "metadata": {},
   "outputs": [],
   "source": [
    "visualise_dispersion_trade(\n",
    "    start=index.df_futures.index[0], \n",
    "    end=index.df_futures.index[-1], \n",
    "    file_name='PLOT_Complete_Period_Summary.html'\n",
    ")"
   ]
  },
  {
   "cell_type": "code",
   "execution_count": null,
   "id": "bae43af5",
   "metadata": {},
   "outputs": [],
   "source": [
    "save_dispersion_trades(\n",
    "    start=index.df_futures.index[0], \n",
    "    end=index.df_futures.index[-1], \n",
    "    file_name=f'Info_Trades_for_{strategy_desc}.xlsx'\n",
    ")"
   ]
  },
  {
   "cell_type": "code",
   "execution_count": null,
   "id": "c4cf61374653d9fd",
   "metadata": {},
   "outputs": [],
   "source": [
    "def metrics(fund_blocked):\n",
    "    info_metrics = open(f'INFO_Metrics_for_{strategy_desc}.txt', 'w')\n",
    "    sys.stdout = info_metrics\n",
    "\n",
    "    print(f\"TimeFrame Length: 6 months\")\n",
    "    print(f\"Fundblocked in rs: {fund_blocked/100}\")\n",
    "    result_df.index = pd.to_datetime(result_df.index)\n",
    "    result_df['date'] = result_df.index.date  # Create a new column for the date\n",
    "    daily_profit = result_df.groupby('date')['running_pnl'].agg(lambda x: x.iloc[-1] - x.iloc[0])\n",
    "    daily_profit.index = pd.to_datetime(result_df['date'].unique())\n",
    "    \n",
    "    ret = daily_profit.sum()/fund_blocked * 100\n",
    "    print(f\"Return: {round(ret)}%\")\n",
    "    \n",
    "    sharpe_value = (daily_profit.mean() - risk_free_rate*fund_blocked/365)/daily_profit.std()\n",
    "    print(f\"Sharpe: {round(sharpe_value)}\")\n",
    "    \n",
    "    peaks = result_df['running_pnl'].cummax()\n",
    "    drawdowns = (result_df['running_pnl'] - peaks)/(peaks)\n",
    "    max_drawdown = drawdowns.min()\n",
    "    print(f\"Drawdown: {round(max_drawdown)}%\")\n",
    "    monthly_data = daily_profit.resample('ME').sum()\n",
    "    monthly_profit = monthly_data[monthly_data > 0].sum()\n",
    "    monthly_loss = abs(monthly_data[monthly_data < 0].sum())\n",
    "    if monthly_loss != 0:\n",
    "        profit_loss_ratio = monthly_profit / monthly_loss\n",
    "    else:\n",
    "        profit_loss_ratio = float('inf')  # Avoid division by zero\n",
    "    print(\"Monthly Profit/Loss Ratio:\", round(profit_loss_ratio))\n",
    "    \n",
    "    windays = (result_df['running_pnl'] > 0).sum()\n",
    "    lossdays = (result_df['running_pnl'] < 0).sum()\n",
    "    if (windays + lossdays) > 0:\n",
    "        win_ratio = windays / (windays + lossdays)\n",
    "    else:\n",
    "        win_ratio = 0\n",
    "    print(\"Win Ratio:\", round(win_ratio))\n",
    "    \n",
    "    streak = (result_df['running_pnl'] > 0).astype(int)  # 1 for winning days, 0 otherwise\n",
    "    losing_streak = (result_df['running_pnl'] < 0).astype(int)  # 1 for losing days, 0 otherwise\n",
    "    winning_streaks = streak.groupby((streak != streak.shift()).cumsum()).cumsum()\n",
    "    losing_streaks = losing_streak.groupby((losing_streak != losing_streak.shift()).cumsum()).cumsum()\n",
    "    print(f\"Longest Winning Streak: {winning_streaks.max()}, Longest Losing Streak: {losing_streaks.max()}\")\n",
    "\n",
    "    sys.stdout = original_stdout.value\n",
    "    info_metrics.close()"
   ]
  },
  {
   "cell_type": "code",
   "execution_count": null,
   "id": "d39421a8",
   "metadata": {},
   "outputs": [],
   "source": []
  },
  {
   "cell_type": "code",
   "execution_count": null,
   "id": "327149b883192cc2",
   "metadata": {},
   "outputs": [],
   "source": [
    "metrics(100000)"
   ]
  },
  {
   "cell_type": "code",
   "execution_count": null,
   "id": "db744c5f",
   "metadata": {},
   "outputs": [],
   "source": []
  },
  {
   "cell_type": "code",
   "execution_count": null,
   "id": "b1d533cb",
   "metadata": {},
   "outputs": [],
   "source": []
  },
  {
   "cell_type": "code",
   "execution_count": null,
   "id": "865f8dd0",
   "metadata": {},
   "outputs": [],
   "source": []
  },
  {
   "cell_type": "code",
   "execution_count": null,
   "id": "883cc630",
   "metadata": {},
   "outputs": [],
   "source": []
  },
  {
   "cell_type": "code",
   "execution_count": null,
   "id": "24c1657f",
   "metadata": {},
   "outputs": [],
   "source": []
  },
  {
   "cell_type": "code",
   "execution_count": null,
   "id": "e64deedb",
   "metadata": {},
   "outputs": [],
   "source": []
  }
 ],
 "metadata": {
  "kernelspec": {
   "display_name": "Python 3",
   "language": "python",
   "name": "python3"
  },
  "language_info": {
   "codemirror_mode": {
    "name": "ipython",
    "version": 3
   },
   "file_extension": ".py",
   "mimetype": "text/x-python",
   "name": "python",
   "nbconvert_exporter": "python",
   "pygments_lexer": "ipython3",
   "version": "3.12.1"
  }
 },
 "nbformat": 4,
 "nbformat_minor": 5
}
