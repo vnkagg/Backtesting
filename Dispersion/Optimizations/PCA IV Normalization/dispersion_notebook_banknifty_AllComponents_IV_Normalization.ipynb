{
 "cells": [
  {
   "cell_type": "code",
   "execution_count": 1,
   "id": "f99f40fc",
   "metadata": {},
   "outputs": [],
   "source": [
    "import pandas as pd\n",
    "import numpy as np\n",
    "import os\n",
    "import importlib\n",
    "import sys\n",
    "import copy"
   ]
  },
  {
   "cell_type": "code",
   "execution_count": 2,
   "id": "a599c1e1",
   "metadata": {},
   "outputs": [
    {
     "name": "stdout",
     "output_type": "stream",
     "text": [
      "path before ['c:\\\\Program Files\\\\Python312\\\\python312.zip', 'c:\\\\Program Files\\\\Python312\\\\DLLs', 'c:\\\\Program Files\\\\Python312\\\\Lib', 'c:\\\\Program Files\\\\Python312', '', 'C:\\\\Users\\\\vinayak\\\\AppData\\\\Roaming\\\\Python\\\\Python312\\\\site-packages', 'c:\\\\Program Files\\\\Python312\\\\Lib\\\\site-packages', 'c:\\\\Program Files\\\\Python312\\\\Lib\\\\site-packages\\\\win32', 'c:\\\\Program Files\\\\Python312\\\\Lib\\\\site-packages\\\\win32\\\\lib', 'c:\\\\Program Files\\\\Python312\\\\Lib\\\\site-packages\\\\Pythonwin']\n",
      "Backtesting was not in sys path\n",
      "path after ['c:\\\\Program Files\\\\Python312\\\\python312.zip', 'c:\\\\Program Files\\\\Python312\\\\DLLs', 'c:\\\\Program Files\\\\Python312\\\\Lib', 'c:\\\\Program Files\\\\Python312', '', 'C:\\\\Users\\\\vinayak\\\\AppData\\\\Roaming\\\\Python\\\\Python312\\\\site-packages', 'c:\\\\Program Files\\\\Python312\\\\Lib\\\\site-packages', 'c:\\\\Program Files\\\\Python312\\\\Lib\\\\site-packages\\\\win32', 'c:\\\\Program Files\\\\Python312\\\\Lib\\\\site-packages\\\\win32\\\\lib', 'c:\\\\Program Files\\\\Python312\\\\Lib\\\\site-packages\\\\Pythonwin', 'C:\\\\Users\\\\vinayak\\\\Desktop\\\\Backtesting']\n",
      "\n"
     ]
    }
   ],
   "source": [
    "backtesting_path = r'C:\\Users\\vinayak\\Desktop\\Backtesting'\n",
    "print(\"path before\", sys.path)\n",
    "if backtesting_path not in sys.path:\n",
    "    print(\"Backtesting was not in sys path\")\n",
    "    sys.path.append(backtesting_path)\n",
    "print(\"path after\", sys.path)\n",
    "print()"
   ]
  },
  {
   "cell_type": "code",
   "execution_count": 3,
   "id": "05fcd425",
   "metadata": {},
   "outputs": [],
   "source": [
    "# from scipy.optimize import minimize\n",
    "import TradeAndLogics as TL\n",
    "import Plot\n",
    "import Data as data\n",
    "import Data_Processing as dp\n",
    "from enums import *\n",
    "from Utility import *"
   ]
  },
  {
   "cell_type": "code",
   "execution_count": 4,
   "id": "940b46cc",
   "metadata": {},
   "outputs": [],
   "source": [
    "from sklearn.preprocessing import StandardScaler\n",
    "from sklearn.decomposition import PCA"
   ]
  },
  {
   "cell_type": "code",
   "execution_count": null,
   "id": "cbc8cb9f34253615",
   "metadata": {
    "ExecuteTime": {
     "end_time": "2024-10-14T14:37:52.618582Z",
     "start_time": "2024-10-14T14:37:52.612163Z"
    }
   },
   "outputs": [],
   "source": [
    "pwd()"
   ]
  },
  {
   "cell_type": "code",
   "execution_count": null,
   "id": "29c2df12485996cb",
   "metadata": {
    "ExecuteTime": {
     "end_time": "2024-10-14T14:37:52.642688Z",
     "start_time": "2024-10-14T14:37:52.640069Z"
    }
   },
   "outputs": [],
   "source": [
    "original_stdout = const(sys.stdout)\n",
    "original_stdout.value"
   ]
  },
  {
   "cell_type": "markdown",
   "id": "72ee84e0",
   "metadata": {},
   "source": [
    "TRADING/ STRATEGY PARAMETERS"
   ]
  },
  {
   "cell_type": "code",
   "execution_count": 7,
   "id": "6f53efdc54d39fdc",
   "metadata": {
    "ExecuteTime": {
     "end_time": "2024-10-14T14:37:53.765562Z",
     "start_time": "2024-10-14T14:37:53.761314Z"
    }
   },
   "outputs": [],
   "source": [
    "index_symbol = 'BANKNIFTY'\n",
    "start_date = '2023-07-01'\n",
    "end_date = '2023-12-01'\n",
    "expiry_type_near = 'I'\n",
    "expiry_type_next = 'II'\n",
    "risk_free_rate = 0.1 # (10% interest rate)\n",
    "timeframe = 15 # mins\n",
    "look_back_window = 5*25*4\n",
    "# Trade/ Strategy Parameters\n",
    "index_delta_threshold_per_lot = 5\n",
    "component_delta_threshold_per_lot = 1\n",
    "notional_vega = 10000 # rs\n",
    "profit_target = 50000\n",
    "stop_loss = 50000\n",
    "zscore_threshold_long = 1.5\n",
    "zscore_threshold_short = -1\n",
    "epsilon = 0.2"
   ]
  },
  {
   "cell_type": "code",
   "execution_count": 8,
   "id": "a85f6724",
   "metadata": {},
   "outputs": [],
   "source": [
    "strategy_desc = f\"Dispersion_AllComponents_IV_Normalization_{index_symbol}\""
   ]
  },
  {
   "cell_type": "code",
   "execution_count": 9,
   "id": "2f247ffec326f1a7",
   "metadata": {
    "ExecuteTime": {
     "end_time": "2024-10-14T16:26:00.153560Z",
     "start_time": "2024-10-14T16:26:00.149566Z"
    }
   },
   "outputs": [],
   "source": [
    "def round(x, dig=2):\n",
    "    return np.round(x, dig)"
   ]
  },
  {
   "cell_type": "code",
   "execution_count": 10,
   "id": "edf321fa2c73c374",
   "metadata": {
    "ExecuteTime": {
     "end_time": "2024-10-14T14:37:53.172682Z",
     "start_time": "2024-10-14T14:37:53.165773Z"
    }
   },
   "outputs": [],
   "source": [
    "def insert_index_component(constituents, constituent_symbol, weight, lot_size):\n",
    "    dict = {\n",
    "        'weight': weight,\n",
    "        'lot_size': lot_size\n",
    "    }\n",
    "    constituents[constituent_symbol] = dict"
   ]
  },
  {
   "cell_type": "code",
   "execution_count": 11,
   "id": "db4c7594e7fbac4a",
   "metadata": {
    "ExecuteTime": {
     "end_time": "2024-10-14T14:37:53.318101Z",
     "start_time": "2024-10-14T14:37:53.313658Z"
    }
   },
   "outputs": [],
   "source": [
    "constituents_weight_lots = {}"
   ]
  },
  {
   "cell_type": "code",
   "execution_count": 12,
   "id": "215c86d142228aa8",
   "metadata": {
    "ExecuteTime": {
     "end_time": "2024-10-14T14:37:53.440492Z",
     "start_time": "2024-10-14T14:37:53.435775Z"
    }
   },
   "outputs": [],
   "source": [
    "index_symbol = 'BANKNIFTY'\n",
    "index_lot_size = 15"
   ]
  },
  {
   "cell_type": "code",
   "execution_count": 13,
   "id": "a17e96172b27fbd8",
   "metadata": {
    "ExecuteTime": {
     "end_time": "2024-10-14T14:37:53.487546Z",
     "start_time": "2024-10-14T14:37:53.482173Z"
    }
   },
   "outputs": [],
   "source": [
    "insert_index_component(constituents_weight_lots, \"PNB\", 0.91, 8000)\n",
    "insert_index_component(constituents_weight_lots, \"ICICIBANK\", 23.03, 700)\n",
    "insert_index_component(constituents_weight_lots, \"AUBANK\", 2.69, 1000)\n",
    "insert_index_component(constituents_weight_lots, \"BANKBARODA\", 1.84, 2925)\n",
    "insert_index_component(constituents_weight_lots, \"FEDERALBNK\", 1.68, 5000)\n",
    "insert_index_component(constituents_weight_lots, \"IDFCFIRSTB\", 1.08, 7500)\n",
    "insert_index_component(constituents_weight_lots, \"SBIN\", 11.27, 750)\n",
    "insert_index_component(constituents_weight_lots, \"INDUSINDBK\", 5.58, 500)\n",
    "insert_index_component(constituents_weight_lots, \"HDFCBANK\", 27.04, 550)\n",
    "insert_index_component(constituents_weight_lots, \"KOTAKBANK\", 11.72, 400)\n",
    "insert_index_component(constituents_weight_lots, \"BANDHANBNK\", 1.98, 2800)\n",
    "insert_index_component(constituents_weight_lots, \"AXISBANK\", 11.18, 625)"
   ]
  },
  {
   "cell_type": "code",
   "execution_count": null,
   "id": "c5605cd62a218997",
   "metadata": {
    "ExecuteTime": {
     "end_time": "2024-10-14T14:37:53.552917Z",
     "start_time": "2024-10-14T14:37:53.543802Z"
    }
   },
   "outputs": [],
   "source": [
    "constituents_weight_lots"
   ]
  },
  {
   "cell_type": "code",
   "execution_count": 15,
   "id": "312d3812fca96b0c",
   "metadata": {
    "ExecuteTime": {
     "end_time": "2024-10-14T14:37:53.610504Z",
     "start_time": "2024-10-14T14:37:53.605999Z"
    }
   },
   "outputs": [],
   "source": [
    "def normalize_constituents_weights(constituents_weight_lots):\n",
    "    weight_sum = 0\n",
    "    for values in constituents_weight_lots.values():\n",
    "        weight_sum += values['weight']\n",
    "    if weight_sum != 100:\n",
    "        print(f\"Sum of weights = {weight_sum} is not 100. Normalizing weights...\")\n",
    "        total_weight = sum([values['weight'] for values in constituents_weight_lots.values()])\n",
    "        for values in constituents_weight_lots.values():\n",
    "            values['weight'] = (values['weight'] / total_weight) * 100\n",
    "    \n",
    "        normalized_sum = sum([values['weight'] for values in constituents_weight_lots.values()])\n",
    "        print(\"Normalized sum:\", normalized_sum)\n",
    "        print(constituents_weight_lots)\n",
    "    else:\n",
    "        print(f\"provided weights add up to perfect {weight_sum}\")\n",
    "    return (constituents_weight_lots)"
   ]
  },
  {
   "cell_type": "code",
   "execution_count": null,
   "id": "52c7fdb18b04628c",
   "metadata": {
    "ExecuteTime": {
     "end_time": "2024-10-14T14:37:53.712784Z",
     "start_time": "2024-10-14T14:37:53.706775Z"
    }
   },
   "outputs": [],
   "source": [
    "normalize_constituents_weights(constituents_weight_lots)"
   ]
  },
  {
   "cell_type": "markdown",
   "id": "76c21acd",
   "metadata": {},
   "source": [
    "NEAR MONTH (I) DATA FETCHING AND PROCESSING"
   ]
  },
  {
   "cell_type": "code",
   "execution_count": 17,
   "id": "24742b3fccba3e98",
   "metadata": {
    "ExecuteTime": {
     "end_time": "2024-10-14T14:37:53.847598Z",
     "start_time": "2024-10-14T14:37:53.844088Z"
    }
   },
   "outputs": [],
   "source": [
    "constituents_weights_lots_data_near = {}"
   ]
  },
  {
   "cell_type": "code",
   "execution_count": 18,
   "id": "93a9b08ee13c6727",
   "metadata": {
    "ExecuteTime": {
     "end_time": "2024-10-14T15:23:24.660740Z",
     "start_time": "2024-10-14T14:37:53.893020Z"
    }
   },
   "outputs": [],
   "source": [
    "logs_fetching = open(f'LOGS_Fetching_Near_Month_Data_for_{strategy_desc}.txt', 'w')\n",
    "sys.stdout = logs_fetching\n",
    "for constituent_symbol, constituent in constituents_weight_lots.items():\n",
    "    df_futures_near = data.get_futures_data_with_timestamps_between(constituent_symbol, expiry_type_near, start_date, end_date, timeframe)\n",
    "    df_options_near = data.get_options_data_with_timestamps_between(constituent_symbol, expiry_type_near, start_date, end_date, timeframe)\n",
    "    # constituents_weights_lots_data_near[constituent_symbol] = constituents_weight_lots[constituent_symbol]\n",
    "    for key, value in constituents_weight_lots.items():\n",
    "        constituents_weights_lots_data_near[key] = value\n",
    "    constituents_weights_lots_data_near[constituent_symbol]['df_options'] = df_options_near\n",
    "    constituents_weights_lots_data_near[constituent_symbol]['df_futures'] = df_futures_near\n",
    "sys.stdout = original_stdout.value\n",
    "logs_fetching.close()"
   ]
  },
  {
   "cell_type": "code",
   "execution_count": 19,
   "id": "0df7f100",
   "metadata": {},
   "outputs": [],
   "source": [
    "logs_fetching = open(f'LOGS_Fetching_Near_Month_Data_for_{strategy_desc}.txt', 'a')\n",
    "sys.stdout = logs_fetching\n",
    "df_futures_index_near = data.get_futures_data_with_timestamps_between(index_symbol, expiry_type_near, start_date, end_date, timeframe)\n",
    "df_options_index_near = data.get_options_data_with_timestamps_between(index_symbol, expiry_type_near, start_date, end_date, timeframe)\n",
    "sys.stdout = original_stdout.value\n",
    "logs_fetching.close()"
   ]
  },
  {
   "cell_type": "code",
   "execution_count": 196,
   "id": "6df943415461c4ac",
   "metadata": {
    "ExecuteTime": {
     "end_time": "2024-10-14T15:27:26.954079Z",
     "start_time": "2024-10-14T15:27:26.950963Z"
    }
   },
   "outputs": [],
   "source": [
    "constituents_near = {}"
   ]
  },
  {
   "cell_type": "code",
   "execution_count": 197,
   "id": "d39cc0bb7dc41ce3",
   "metadata": {
    "ExecuteTime": {
     "end_time": "2024-10-14T15:27:32.965300Z",
     "start_time": "2024-10-14T15:27:26.985664Z"
    }
   },
   "outputs": [],
   "source": [
    "index_near = dp.ticker(index_symbol, df_futures_index_near, df_options_index_near, True, constituents_near, False, None, index_lot_size, True, timeframe, look_back_window)\n",
    "for constituent_symbol, constituent in constituents_weights_lots_data_near.items():\n",
    "    constituents_near[constituent_symbol] = dp.ticker(constituent_symbol, constituent['df_futures'], constituent['df_options'], False, None, True, constituent['weight']/100, constituent['lot_size'], True, timeframe, look_back_window, False)"
   ]
  },
  {
   "cell_type": "code",
   "execution_count": 189,
   "id": "f67f2ad345fa5613",
   "metadata": {
    "ExecuteTime": {
     "end_time": "2024-10-14T15:27:34.960088Z",
     "start_time": "2024-10-14T15:27:34.956647Z"
    }
   },
   "outputs": [],
   "source": [
    "ohlc = OHLC.close"
   ]
  },
  {
   "cell_type": "code",
   "execution_count": 190,
   "id": "eb74368696b4f70f",
   "metadata": {
    "ExecuteTime": {
     "end_time": "2024-10-14T15:27:34.999556Z",
     "start_time": "2024-10-14T15:27:34.996016Z"
    }
   },
   "outputs": [],
   "source": [
    "index_near.set_ohlc(ohlc)\n",
    "for _, constituent in index_near.components.items():\n",
    "    constituent.set_ohlc(ohlc)"
   ]
  },
  {
   "cell_type": "markdown",
   "id": "8ae559c4",
   "metadata": {},
   "source": [
    "NEXT MONTH (II) DATA FETCHING AND PROCESSING"
   ]
  },
  {
   "cell_type": "code",
   "execution_count": 24,
   "id": "551a78d8",
   "metadata": {},
   "outputs": [],
   "source": [
    "constituents_weights_lots_data_next = {}"
   ]
  },
  {
   "cell_type": "code",
   "execution_count": 25,
   "id": "02c501ef",
   "metadata": {},
   "outputs": [],
   "source": [
    "logs_fetching = open(f'LOGS_Fetching_Next_Month_Data_for_{strategy_desc}.txt', 'w')\n",
    "sys.stdout = logs_fetching\n",
    "for constituent_symbol, constituent in constituents_weight_lots.items():\n",
    "    df_futures_next = data.get_futures_data_with_timestamps_between(constituent_symbol, expiry_type_next, start_date, end_date, timeframe)\n",
    "    df_options_next = data.get_options_data_with_timestamps_between(constituent_symbol, expiry_type_next, start_date, end_date, timeframe)\n",
    "    # constituents_weights_lots_data_near[constituent_symbol] = constituents_weight_lots[constituent_symbol]\n",
    "    for key, value in constituents_weight_lots.items():\n",
    "        constituents_weights_lots_data_next[key] = value\n",
    "    constituents_weights_lots_data_next[constituent_symbol]['df_options'] = df_options_next\n",
    "    constituents_weights_lots_data_next[constituent_symbol]['df_futures'] = df_futures_next\n",
    "sys.stdout = original_stdout.value\n",
    "logs_fetching.close()"
   ]
  },
  {
   "cell_type": "code",
   "execution_count": 26,
   "id": "d94c5ac4",
   "metadata": {},
   "outputs": [],
   "source": [
    "logs_fetching = open(f'LOGS_Fetching_Next_Month_Data_for_{strategy_desc}.txt', 'a')\n",
    "sys.stdout = logs_fetching\n",
    "df_futures_index_next = data.get_futures_data_with_timestamps_between(index_symbol, expiry_type_next, start_date, end_date, timeframe)\n",
    "df_options_index_next = data.get_options_data_with_timestamps_between(index_symbol, expiry_type_next, start_date, end_date, timeframe)\n",
    "sys.stdout = original_stdout.value\n",
    "logs_fetching.close()"
   ]
  },
  {
   "cell_type": "code",
   "execution_count": 191,
   "id": "462a3ae9",
   "metadata": {},
   "outputs": [],
   "source": [
    "constituents_next = {}"
   ]
  },
  {
   "cell_type": "code",
   "execution_count": 192,
   "id": "357d5174",
   "metadata": {},
   "outputs": [],
   "source": [
    "index_next = dp.ticker(index_symbol, df_futures_index_next, df_options_index_next, True, constituents_next, False, None, index_lot_size, False, timeframe, look_back_window)\n",
    "for constituent_symbol, constituent in constituents_weights_lots_data_next.items():\n",
    "    constituents_next[constituent_symbol] = dp.ticker(constituent_symbol, constituent['df_futures'], constituent['df_options'], False, None, True, constituent['weight']/100, constituent['lot_size'], False, timeframe, look_back_window, False)"
   ]
  },
  {
   "cell_type": "code",
   "execution_count": 193,
   "id": "3904e345",
   "metadata": {},
   "outputs": [],
   "source": [
    "ohlc = OHLC.close"
   ]
  },
  {
   "cell_type": "code",
   "execution_count": 194,
   "id": "0f679e71",
   "metadata": {},
   "outputs": [],
   "source": [
    "index_next.set_ohlc(ohlc)\n",
    "for _, constituent in index_next.components.items():\n",
    "    constituent.set_ohlc(ohlc)"
   ]
  },
  {
   "cell_type": "markdown",
   "id": "46857a56",
   "metadata": {},
   "source": [
    "BEGINS"
   ]
  },
  {
   "cell_type": "code",
   "execution_count": 32,
   "id": "e0c6e2caa79363a0",
   "metadata": {
    "ExecuteTime": {
     "end_time": "2024-10-14T15:27:35.035314Z",
     "start_time": "2024-10-14T15:27:35.031187Z"
    }
   },
   "outputs": [],
   "source": [
    "def get_index_and_components_iv(index):\n",
    "    index.generate_iv_data()\n",
    "    for _, component in index.components.items():\n",
    "        component.generate_iv_data()"
   ]
  },
  {
   "cell_type": "code",
   "execution_count": 181,
   "id": "c88a3b76d9719624",
   "metadata": {
    "ExecuteTime": {
     "end_time": "2024-10-14T16:13:36.731322Z",
     "start_time": "2024-10-14T15:27:35.067342Z"
    }
   },
   "outputs": [],
   "source": [
    "logs_iv_near = open(f'LOGS_IV_Generation_for_Near_Month_{strategy_desc}.txt', 'w')\n",
    "sys.stdout = logs_iv_near\n",
    "get_index_and_components_iv(index_near)\n",
    "sys.stdout = original_stdout.value\n",
    "logs_iv_near.close()"
   ]
  },
  {
   "cell_type": "code",
   "execution_count": 182,
   "id": "68a9ca0c",
   "metadata": {},
   "outputs": [],
   "source": [
    "logs_iv_next = open(f'LOGS_IV_Generation_for_Next_Month_{strategy_desc}.txt', 'w')\n",
    "sys.stdout = logs_iv_next\n",
    "get_index_and_components_iv(index_next)\n",
    "sys.stdout = original_stdout.value\n",
    "logs_iv_next.close()"
   ]
  },
  {
   "cell_type": "markdown",
   "id": "dfe84424",
   "metadata": {},
   "source": [
    "NORMALIZE HORIZONTALLY OVER HERE"
   ]
  },
  {
   "cell_type": "code",
   "execution_count": 35,
   "id": "cbab55c4",
   "metadata": {},
   "outputs": [],
   "source": [
    "def get_normallized_iv(timestamp, ticker_near, ticker_next):\n",
    "    print(f\"> {ticker_near.symbol}\")\n",
    "    iv_near = ticker_near.df_futures.loc[timestamp, 'iv']\n",
    "    iv_next = ticker_next.df_futures.loc[timestamp, 'iv']\n",
    "    print(f\">>  IV Near: {iv_near} || IV Next: {iv_next}\")\n",
    "    expiry_near = pd.to_datetime(ticker_near.df_futures.loc[timestamp, 'expiry'])\n",
    "    expiry_next = pd.to_datetime(ticker_next.df_futures.loc[timestamp, 'expiry'])\n",
    "    print(f\">>  Expiry Near: {expiry_near} || Expiry Next: {expiry_next}\")\n",
    "    time_to_expiry_near = (expiry_near - timestamp).days\n",
    "    time_to_expiry_next = (expiry_next - timestamp).days\n",
    "    print(f\">>  Time to Expiry Near: {time_to_expiry_near}days || Time to Expiry Next: {time_to_expiry_next}days\")\n",
    "    weight1 = (time_to_expiry_next - 30)/(time_to_expiry_next - time_to_expiry_near) if iv_next != 0 else 1\n",
    "    weight2 = 1 - weight1\n",
    "    print(f\">>  Weight1 Near: {weight1} || Weight2 Next: {weight2}\")\n",
    "    normalized_iv = weight1 * iv_near + weight2 * iv_next\n",
    "    print(f\">>  Normallized IV = {normalized_iv}\")\n",
    "    return normalized_iv"
   ]
  },
  {
   "cell_type": "code",
   "execution_count": 36,
   "id": "d36ae3fb",
   "metadata": {},
   "outputs": [],
   "source": [
    "def get_index_with_normalized_iv(index_near, index_next):\n",
    "    logs_normalization_iv = open(f'LOGS_IV_Normalization_for_{strategy_desc}.txt', 'w')\n",
    "    sys.stdout = logs_normalization_iv\n",
    "    index_fresh = copy.deepcopy(index_near)\n",
    "    print(\"Normallizing IV horizontally using Near and Next month options\")\n",
    "    for timestamp in index_near.df_futures.index:\n",
    "        print(timestamp)\n",
    "        index_fresh.df_futures.loc[timestamp, 'iv'] = get_normallized_iv(timestamp, index_near, index_next)\n",
    "        for component_near, component_next in zip(index_near.components.values(), index_next.components.values()):\n",
    "            index_fresh.df_futures.loc[timestamp, 'iv'] = get_normallized_iv(timestamp, component_near, component_next)\n",
    "        print('-------------------------------------------------------------')\n",
    "    sys.stdout = original_stdout.value\n",
    "    logs_normalization_iv.close()\n",
    "    return index_fresh"
   ]
  },
  {
   "cell_type": "code",
   "execution_count": null,
   "id": "5fb5c8ac",
   "metadata": {},
   "outputs": [],
   "source": [
    "Index = get_index_with_normalized_iv(index_near, index_next)"
   ]
  },
  {
   "cell_type": "markdown",
   "id": "57aa9358",
   "metadata": {},
   "source": [
    "BACK TO NORMAL"
   ]
  },
  {
   "cell_type": "code",
   "execution_count": null,
   "id": "a0404b5adae2be05",
   "metadata": {
    "ExecuteTime": {
     "end_time": "2024-10-14T16:25:58.643251Z",
     "start_time": "2024-10-14T16:13:37.701739Z"
    }
   },
   "outputs": [],
   "source": [
    "Index.generate_ic_data()"
   ]
  },
  {
   "cell_type": "code",
   "execution_count": null,
   "id": "63ec2042",
   "metadata": {},
   "outputs": [],
   "source": [
    "index = copy.deepcopy(Index)"
   ]
  },
  {
   "cell_type": "code",
   "execution_count": 39,
   "id": "385a2eff40f22b35",
   "metadata": {
    "ExecuteTime": {
     "end_time": "2024-10-14T16:25:58.698682Z",
     "start_time": "2024-10-14T16:25:58.694371Z"
    }
   },
   "outputs": [],
   "source": [
    "index.df_futures['zscore'] = (index.df_futures['ic'] - index.df_futures['ic'].rolling(window=index.look_back_window).mean())/index.df_futures['ic'].rolling(window=index.look_back_window).std()"
   ]
  },
  {
   "cell_type": "code",
   "execution_count": null,
   "id": "5f0cb576a2ab2f45",
   "metadata": {
    "ExecuteTime": {
     "end_time": "2024-10-14T16:25:58.738555Z",
     "start_time": "2024-10-14T16:25:58.733315Z"
    }
   },
   "outputs": [],
   "source": [
    "print(index.df_futures['zscore'])"
   ]
  },
  {
   "cell_type": "code",
   "execution_count": null,
   "id": "431adaa6168a441a",
   "metadata": {
    "ExecuteTime": {
     "end_time": "2024-10-14T16:25:59.498873Z",
     "start_time": "2024-10-14T16:25:58.805814Z"
    }
   },
   "outputs": [],
   "source": [
    "fig_ic = Plot.plot_df(index.df_futures, 'ic')\n",
    "fig_ic.show()\n",
    "Plot.save_plot(fig_ic, f'PLOT_ic_for_{strategy_desc}.html')"
   ]
  },
  {
   "cell_type": "code",
   "execution_count": null,
   "id": "be0058e2ebe3c5b8",
   "metadata": {
    "ExecuteTime": {
     "end_time": "2024-10-14T16:25:59.893067Z",
     "start_time": "2024-10-14T16:25:59.741021Z"
    }
   },
   "outputs": [],
   "source": [
    "fig_zscore = Plot.plot_df(index.df_futures, 'zscore')\n",
    "fig_zscore = Plot.draw_horizontal_line(fig_zscore, -2, 0, len(index.df_futures), 'Red')\n",
    "fig_zscore = Plot.draw_horizontal_line(fig_zscore, zscore_threshold_short, 0, len(index.df_futures), 'Blue')\n",
    "fig_zscore = Plot.draw_horizontal_line(fig_zscore, zscore_threshold_long, 0, len(index.df_futures), 'Blue')\n",
    "fig_zscore = Plot.draw_horizontal_line(fig_zscore, 2, 0, len(index.df_futures), 'Red')\n",
    "fig_zscore.show()\n",
    "Plot.save_plot(fig_zscore, f'PLOT_zscore_for_{strategy_desc}.html')"
   ]
  },
  {
   "cell_type": "code",
   "execution_count": null,
   "id": "21d02536fb65a743",
   "metadata": {
    "ExecuteTime": {
     "end_time": "2024-10-14T16:25:59.948471Z",
     "start_time": "2024-10-14T16:25:59.942948Z"
    }
   },
   "outputs": [],
   "source": [
    "x = index.df_futures['zscore']\n",
    "count = 0\n",
    "flag = False\n",
    "for z in x:\n",
    "    if z > zscore_threshold_long and flag == False:\n",
    "        flag = True\n",
    "        count+=1\n",
    "    if z < zscore_threshold_short and flag == True:\n",
    "        flag = False\n",
    "        count += 1\n",
    "print(\"theoretically number of trades just with zscore signals\", count)"
   ]
  },
  {
   "cell_type": "code",
   "execution_count": 44,
   "id": "95301b866ffc1321",
   "metadata": {
    "ExecuteTime": {
     "end_time": "2024-10-14T16:26:00.010887Z",
     "start_time": "2024-10-14T16:26:00.006371Z"
    }
   },
   "outputs": [],
   "source": [
    "positions = {}"
   ]
  },
  {
   "cell_type": "code",
   "execution_count": 156,
   "id": "2ea6c5750ce94564",
   "metadata": {
    "ExecuteTime": {
     "end_time": "2024-10-14T16:26:00.267088Z",
     "start_time": "2024-10-14T16:26:00.262838Z"
    }
   },
   "outputs": [],
   "source": [
    "def get_straddle_vega(ticker, timestamp):\n",
    "    vega = 0\n",
    "    for option_type in Option:\n",
    "        strike, _ = ticker.find_moneyness_strike(timestamp, 0, option_type)\n",
    "        greeks = ticker.greeks(timestamp, option_type, strike)\n",
    "        if greeks is None:\n",
    "            print(f\"get_straddle_vega: greeks is None || Symbol: {ticker.symbol} | OHLC: {ticker.ohlc.name} | Spot: {ticker.get_futures_price(timestamp)} | Strike: {strike} | Opt Price: {ticker.get_opts(option_type).loc[timestamp, strike]} | T(days): {pd.to_datetime(ticker.get_opts(option_type).loc[timestamp, 'expiry']).date() - pd.to_datetime(timestamp).date()} | Option: {option_type.name}\")\n",
    "            return None\n",
    "        vega += greeks['vega']\n",
    "    return vega"
   ]
  },
  {
   "cell_type": "code",
   "execution_count": 157,
   "id": "56fcd3055f3bd866",
   "metadata": {
    "ExecuteTime": {
     "end_time": "2024-10-14T16:26:00.469604Z",
     "start_time": "2024-10-14T16:26:00.465448Z"
    }
   },
   "outputs": [],
   "source": [
    "def get_lots_for_neutrality(vegas, weights, notional_vega, logging_information):\n",
    "    # lots_index = notional_vega/ vegas[0]\n",
    "    # lots_components = []\n",
    "    # for vega_component in vegas[1:]:\n",
    "    #     lots_components.append(notional_vega/vega_component)\n",
    "    lots_for_neutrality = []\n",
    "    for symbol, _ in vegas.items():\n",
    "        lots = notional_vega * weights[symbol] / vegas[symbol]\n",
    "        lots_for_neutrality.append(lots)\n",
    "        logging_information[symbol]['Lots to take position'] = int(lots)\n",
    "    return np.round(lots_for_neutrality[0]).astype(int), np.round(lots_for_neutrality[1:]).astype(int)"
   ]
  },
  {
   "cell_type": "code",
   "execution_count": 158,
   "id": "47fec7cb0a2389b4",
   "metadata": {
    "ExecuteTime": {
     "end_time": "2024-10-14T16:26:00.214924Z",
     "start_time": "2024-10-14T16:26:00.205027Z"
    }
   },
   "outputs": [],
   "source": [
    "def entry_signal(timestamp):\n",
    "    zscore = index.df_futures.loc[timestamp, 'zscore']\n",
    "    return zscore >= zscore_threshold_long\n",
    "\n",
    "\n",
    "def exit_signal(timestamp):\n",
    "    zscore = index.df_futures.loc[timestamp, 'zscore'] \n",
    "    return zscore <= zscore_threshold_short\n",
    "\n",
    "def get_lots_for_dispersion(dispersion_position_of_index, index, timestamp, strike_notional = False, vega_neutral = False, theta_neutral = False, notional_vega = 100000):\n",
    "    # If you want to do vega neutral entry\n",
    "    if vega_neutral: \n",
    "        try:\n",
    "            unweighted_vegas, weights, logging_information = {}, {}, {}\n",
    "            vega_index_atm_straddle = get_straddle_vega(index, timestamp)\n",
    "            if vega_index_atm_straddle is None:\n",
    "                return None, None\n",
    "            unweighted_vegas[index.symbol] = vega_index_atm_straddle * index.lot_size\n",
    "            weights[index.symbol] = 1\n",
    "            logging_information[index.symbol] = {\n",
    "                'Lot Size': index.lot_size,\n",
    "                'Weight': index.weight,\n",
    "                'Vega per Straddle': vega_index_atm_straddle,\n",
    "                'Vega per Lot Straddle': vega_index_atm_straddle * index.lot_size,\n",
    "                'Target Notional Vega': notional_vega\n",
    "            }\n",
    "            for _, component in index.components.items():\n",
    "                vega_component_atm_straddle = get_straddle_vega(component, timestamp)\n",
    "                if vega_component_atm_straddle is None:\n",
    "                    return None, None\n",
    "                unweighted_vegas[component.symbol] = vega_component_atm_straddle * component.lot_size\n",
    "                weights[component.symbol] = component.weight\n",
    "                logging_information[component.symbol] = {\n",
    "                    'Lot Size': component.lot_size,\n",
    "                    'Weight': component.weight,\n",
    "                    'Vega per Straddle': vega_component_atm_straddle,\n",
    "                    'Vega per Lot Straddle': vega_component_atm_straddle * component.lot_size,\n",
    "                    'Target Notional Vega': notional_vega * component.weight\n",
    "                }\n",
    "            lots_index, lots_components = get_lots_for_neutrality(unweighted_vegas, weights, notional_vega, logging_information)\n",
    "            for symbol, symbol_information in logging_information.items():\n",
    "                # information_string = \" || \".join([f\"{info_key} = {info_value}\" for info_key, info_value in value.items()])\n",
    "            # output_string = f\"{key} || {information_string}\"\n",
    "                print(f\"{symbol} || Lots: {symbol_information['Lots to take position']}\")\n",
    "                for info_key, info_value in symbol_information.items():\n",
    "                    if(info_key == \"Lots to take position\"):\n",
    "                        continue\n",
    "                    print(f\"  {info_key}: {info_value}\")\n",
    "            return lots_index, lots_components\n",
    "        except Exception as e:\n",
    "            print(f\"get_lots_for_dispersion() error: {e}\")\n",
    "    # If you want to do a delta neutral entry\n",
    "    if strike_notional:\n",
    "        pass\n",
    "    # If you want to do a theta/ correlation neutral entry\n",
    "    if theta_neutral:\n",
    "        pass"
   ]
  },
  {
   "cell_type": "code",
   "execution_count": 159,
   "id": "ed7811bbcd3862cb",
   "metadata": {
    "ExecuteTime": {
     "end_time": "2024-10-14T16:26:00.331946Z",
     "start_time": "2024-10-14T16:26:00.327953Z"
    }
   },
   "outputs": [],
   "source": [
    "def get_net_delta(ticker, timestamp):\n",
    "    net_delta = 0\n",
    "    for _, token in ticker.tokens.items():\n",
    "        net_delta += token.stats.loc[timestamp, 'net_delta']\n",
    "    return net_delta"
   ]
  },
  {
   "cell_type": "code",
   "execution_count": 160,
   "id": "ac5e21f4c8ce1d7f",
   "metadata": {
    "ExecuteTime": {
     "end_time": "2024-10-14T16:26:00.522871Z",
     "start_time": "2024-10-14T16:26:00.517879Z"
    }
   },
   "outputs": [],
   "source": [
    "def take_dispersion_position(time_data, remarks, ticker, position, lots):\n",
    "    timestamp, time_ix = time_data\n",
    "    legs = []\n",
    "    for option_type in Option:\n",
    "        atm_strike, _ = ticker.find_moneyness_strike(timestamp, 0, option_type)\n",
    "        key = f'{ticker.symbol}_{option_type.name}_{atm_strike}' \n",
    "        if key not in positions:\n",
    "            positions[key] = TL.Token(ticker, option_type, atm_strike, FNO.OPTIONS)\n",
    "        token = positions[key]\n",
    "        token.add_position(timestamp, lots, position)\n",
    "        token.update_df(time_ix, timestamp)\n",
    "        ticker.update_token(key, token)\n",
    "        leg = {\n",
    "            \"position\" : position, \n",
    "            \"opt_type\" : option_type, \n",
    "            \"strike\": atm_strike, \n",
    "            \"lots\": lots\n",
    "        }\n",
    "        legs.append(leg)\n",
    "    ticker.take_position(timestamp, remarks, *legs)\n"
   ]
  },
  {
   "cell_type": "code",
   "execution_count": 161,
   "id": "d1857bf34a19f943",
   "metadata": {
    "ExecuteTime": {
     "end_time": "2024-10-14T16:26:00.575958Z",
     "start_time": "2024-10-14T16:26:00.571964Z"
    }
   },
   "outputs": [],
   "source": [
    "def check_existing_position(ticker):\n",
    "    pos = False\n",
    "    for _, token in ticker.tokens.items():\n",
    "        pos = pos | (token.position.value != 0) \n",
    "    return pos"
   ]
  },
  {
   "cell_type": "code",
   "execution_count": 162,
   "id": "b4b6f05a0b123555",
   "metadata": {
    "ExecuteTime": {
     "end_time": "2024-10-14T16:26:00.632866Z",
     "start_time": "2024-10-14T16:26:00.624879Z"
    }
   },
   "outputs": [],
   "source": [
    "def hedge_delta(time_ix, timestamp, remarks, ticker, index_delta_threshold_per_lot = 5, component_delta_threshold_per_lot = 1, logging = True):\n",
    "    net_delta = get_net_delta(ticker, timestamp)\n",
    "    delta_threshold_per_lot = index_delta_threshold_per_lot if ticker.is_index else component_delta_threshold_per_lot \n",
    "    if abs(net_delta) >= delta_threshold_per_lot * ticker.lot_size:\n",
    "        qty_futures = (-net_delta)/ticker.lot_size\n",
    "        position = LongShort(np.sign(qty_futures))\n",
    "        lots_futures = int(abs(qty_futures))\n",
    "        if lots_futures != 0:\n",
    "            ticker.hedge_futures_trade(lots_futures, position, timestamp)\n",
    "            key = f'{ticker.symbol}_Futures'\n",
    "            if key not in positions:\n",
    "                positions[key] = TL.Token(ticker, None, None, FNO.FUTURES)\n",
    "            token = positions[key]\n",
    "            token.add_position(timestamp, lots_futures, position)\n",
    "            token.update_df(time_ix, timestamp, logging)\n",
    "            ticker.update_token(key, token) #python obj ref prop, check\n",
    "            token.ticker = ticker\n",
    "            positions[key] = token #python obj ref prop, check\n",
    "            leg = {\n",
    "                \"position\" : position, \n",
    "                \"opt_type\" : FNO.FUTURES, \n",
    "                \"strike\": None,\n",
    "                \"lots\": lots_futures\n",
    "            }\n",
    "            ticker.take_position(timestamp, remarks, leg)\n",
    "    \n",
    "            print(f\">> HEDGED DELTA {ticker.symbol}: Added {lots_futures * position.value * ticker.lot_size} notional delta using {lots_futures} lots of future. new delta = {round(net_delta) + lots_futures * position.value * ticker.lot_size} || threshold per option = {delta_threshold_per_lot}\")\n",
    "        else:\n",
    "            print(f\">> Hedging condition threshold per option = {delta_threshold_per_lot} for {ticker.symbol} met but required lots_futures were 0 so did not hedge\")\n",
    "    else:\n",
    "        print(f\"XXXX DID NOT HEDGE  {ticker.symbol}'s {round(net_delta)} notional delta for {ticker.symbol} at {timestamp}. net_delta/{ticker.symbol}_lot_size_futures = {np.round(abs(net_delta)/ticker.lot_size)} < 1\")"
   ]
  },
  {
   "cell_type": "code",
   "execution_count": 163,
   "id": "85148a8261839abc",
   "metadata": {
    "ExecuteTime": {
     "end_time": "2024-10-14T16:26:00.685826Z",
     "start_time": "2024-10-14T16:26:00.681832Z"
    }
   },
   "outputs": [],
   "source": [
    "def reset_hedging_positions(ticker):\n",
    "    ticker.hedging = pd.DataFrame(columns = ['date_timestamp', 'lots', 'position', 'futures_price', 'delta_added'])\n",
    "    ticker.hedging.set_index('date_timestamp', inplace=True)\n",
    "\n",
    "def reset_trade_positions(ticker):\n",
    "    ticker.Trades = dp.Trades()\n",
    "    ticker.tokens = {}"
   ]
  },
  {
   "cell_type": "code",
   "execution_count": 164,
   "id": "585cdf79b28c0a1",
   "metadata": {
    "ExecuteTime": {
     "end_time": "2024-10-14T16:26:00.742197Z",
     "start_time": "2024-10-14T16:26:00.736744Z"
    }
   },
   "outputs": [],
   "source": [
    "def HandleUpdate(ticker, time_ix, timestamp, remarks, hedge = True, logging_token_update=True, logging_hedging=True, index_delta_threshold_per_lot = 5, component_delta_threshold_per_lot = 1):\n",
    "    for key, token in ticker.tokens.items():\n",
    "        token.update_df(time_ix, timestamp, logging_token_update)\n",
    "        positions[key] = token #python obj ref prop, check\n",
    "        if not logging_hedging:\n",
    "            continue\n",
    "        if token.fno == FNO.OPTIONS:\n",
    "            print(f\"{token.ticker.symbol, token.opt_type.name, float(token.strike/100)} | Delta per lot = {np.round(token.stats.loc[timestamp, 'net_delta'], 2)} (position accounted) | Notional Delta = {np.round(token.stats.loc[timestamp, 'net_delta'], 2) * ticker.lot_size} | Lot size: {ticker.lot_size} | Lots in position: {token.lots} | position = {token.position.name}\")\n",
    "        else:\n",
    "            print(f\"{token.ticker.symbol, token.fno.name} | Delta per lot = {np.round(token.stats.loc[timestamp, 'net_delta'], 2)} | Notional Delta = {np.round(token.stats.loc[timestamp, 'net_delta'], 2) * ticker.lot_size} | Lot size: {ticker.lot_size} | Lots in position: {token.lots} | position = {token.position.name}\")\n",
    "    if hedge:\n",
    "        hedge_delta(time_ix, timestamp, remarks, ticker, index_delta_threshold_per_lot, component_delta_threshold_per_lot)\n",
    "    for key, token in ticker.tokens.items():\n",
    "        token.ticker = ticker\n",
    "        positions[key] = token #python obj ref prop, check"
   ]
  },
  {
   "cell_type": "code",
   "execution_count": 165,
   "id": "4d64d785",
   "metadata": {},
   "outputs": [],
   "source": [
    "reload_modules()"
   ]
  },
  {
   "cell_type": "code",
   "execution_count": 166,
   "id": "95f56ccb",
   "metadata": {},
   "outputs": [],
   "source": [
    "class DispersionPTSL(TL.PTSLHandling):\n",
    "    def __init__(self, profit_target, stop_loss, *tickers):\n",
    "        super().__init__(profit_target, stop_loss, *tickers)\n",
    "\n",
    "    def is_valid(self, timestamp):\n",
    "        return not self.active_ptsl   \n",
    "    \n",
    "    def update_validity(self, timestamp):\n",
    "        index = self.tickers[0]\n",
    "        if self.triggered_at is None:\n",
    "            return\n",
    "        for z in index.df_futures['zscore'].loc[self.triggered_at : timestamp]:\n",
    "            if abs(z) <= epsilon:\n",
    "                self.triggered_at = None\n",
    "                self.active_ptsl = False  \n",
    "                print(f\"PTSL reverted back to mean (<= {epsilon}): Future Signals can now be used for trading\")"
   ]
  },
  {
   "cell_type": "code",
   "execution_count": 169,
   "id": "f09d6b0e01128a12",
   "metadata": {
    "ExecuteTime": {
     "end_time": "2024-10-14T16:26:00.920071Z",
     "start_time": "2024-10-14T16:26:00.913708Z"
    }
   },
   "outputs": [],
   "source": [
    "def squareoff_ticker(time_ix, timestamp, remarks, ticker, logging):\n",
    "    legs_trade, leg_hedge = [], []\n",
    "    if(not check_existing_position(ticker)):\n",
    "        print(f\"{ticker.symbol} does not hold any position\")\n",
    "        return\n",
    "    print(f\"Squaring off {ticker.symbol}\")\n",
    "    for key, token in ticker.tokens.items():\n",
    "        if token.position == LongShort.Neutral:\n",
    "            continue\n",
    "        position_to_take = LongShort(-token.position.value) \n",
    "        if token.fno == FNO.OPTIONS:\n",
    "            leg = {\n",
    "            \"position\" : position_to_take, \n",
    "            \"opt_type\" : token.opt_type, \n",
    "            \"strike\": token.strike,\n",
    "            \"lots\": token.lots\n",
    "            }\n",
    "            legs_trade.append(leg)\n",
    "        else:\n",
    "            leg = {\n",
    "            \"position\" : position_to_take, \n",
    "            \"opt_type\" : FNO.FUTURES, \n",
    "            \"strike\": token.strike,\n",
    "            \"lots\": token.lots\n",
    "            }\n",
    "            leg_hedge.append(leg)\n",
    "        token.add_position(timestamp, token.lots, position_to_take)\n",
    "        token.update_df(time_ix, timestamp, logging)\n",
    "        positions[key] = token #python obj ref prop, check\n",
    "        ticker.tokens[key] = token #python obj ref prop, check\n",
    "    if len(legs_trade):\n",
    "        ticker.take_position(timestamp, remarks, *legs_trade)\n",
    "    else:    \n",
    "        print(f\"Did not find any trading legs for {ticker.symbol}\")\n",
    "    if len(leg_hedge):\n",
    "        ticker.take_position(timestamp, remarks, *leg_hedge)\n",
    "    else:\n",
    "        print(f\"Did not find any hedging legs for {ticker.symbol}\")\n",
    "        \n",
    "    allSecurities = leg_hedge + legs_trade\n",
    "    if len(allSecurities):\n",
    "        secDesc = [f'{ticker.get_expiry(timestamp).strftime('%d%b')}{int(leg['strike']) if leg['strike'] is not None else \"\"}{leg['opt_type'].name}' for leg in allSecurities]\n",
    "        print(f\"Squared off {\", \".join(secDesc)}\")\n",
    "\n",
    "    # Every Token in a Ticker should have the updated Ticker in them\n",
    "    for key, token in ticker.tokens.items():\n",
    "        token.ticker = ticker #python obj ref prop, check\n",
    "        positions[key] = token #python obj ref prop, check"
   ]
  },
  {
   "cell_type": "code",
   "execution_count": 128,
   "id": "22cc0b6d85d900f1",
   "metadata": {
    "ExecuteTime": {
     "end_time": "2024-10-14T16:26:00.974169Z",
     "start_time": "2024-10-14T16:26:00.969632Z"
    }
   },
   "outputs": [],
   "source": [
    "def squareoff(time_ix, timestamp, remarks, logging = True):\n",
    "    print(\"************  SQUARE OFF BEGINS  *********** \")\n",
    "    # for key, token in positions.items():\n",
    "    #     token.add_position(token.lots, LongShort(-token.position.value))\n",
    "    # print(\"******  positions added in GLOBAL TOKENS. Now updating the key-information(running_pnl, lots, !(delta, vega, iv)) in them  ******\")\n",
    "    # for key, token in positions.items():\n",
    "    #     token.update_df(time_ix, timestamp, logging)\n",
    "    #     positions[key] = token\n",
    "    # print(\"******  Information updated globally. TICKER WISE UPDATION BEGINS  ******\")\n",
    "    squareoff_ticker(time_ix, timestamp, remarks, index, logging)\n",
    "    for component in index.components.values():\n",
    "        squareoff_ticker(time_ix, timestamp, remarks, component, logging)\n",
    "    print(\"* SQUARE OFF TRADES SAVED, TOKENS IN TICKERS UPDATED\")\n",
    "    print(\"************  SQUARE OFF COMPLETE  *********** \")\n"
   ]
  },
  {
   "cell_type": "code",
   "execution_count": 129,
   "id": "1cf79379bd04b02b",
   "metadata": {
    "ExecuteTime": {
     "end_time": "2024-10-14T16:26:01.028104Z",
     "start_time": "2024-10-14T16:26:01.024110Z"
    }
   },
   "outputs": [],
   "source": [
    "def isTodayAnyExpiry(timestamp, index):\n",
    "    is_expiry = False\n",
    "    is_expiry = is_expiry or (pd.to_datetime(timestamp).date() == pd.to_datetime(index.get_opts(Option.Call).loc[timestamp, 'expiry']).date())\n",
    "    for component in index.components.values():\n",
    "        is_expiry = is_expiry or (pd.to_datetime(timestamp).date() == pd.to_datetime(component.get_opts(Option.Call).loc[timestamp, 'expiry']).date())\n",
    "    return is_expiry"
   ]
  },
  {
   "cell_type": "code",
   "execution_count": 130,
   "id": "9f85db07",
   "metadata": {},
   "outputs": [],
   "source": [
    "def UpdateDispersionTickers(time_ix, timestamp, remarks, hedge, logging_token_update, logging_hedging):\n",
    "    HandleUpdate(index, time_ix, timestamp, remarks, \n",
    "                 hedge, logging_token_update, logging_hedging, \n",
    "                 index_delta_threshold_per_lot=index_delta_threshold_per_lot, \n",
    "                 component_delta_threshold_per_lot=component_delta_threshold_per_lot)\n",
    "    for component in index.components.values():\n",
    "        HandleUpdate(component, time_ix, timestamp, remarks, \n",
    "                     hedge, logging_token_update, logging_hedging, \n",
    "                     index_delta_threshold_per_lot=index_delta_threshold_per_lot, \n",
    "                     component_delta_threshold_per_lot=component_delta_threshold_per_lot)"
   ]
  },
  {
   "cell_type": "code",
   "execution_count": 144,
   "id": "8cbdb7e1",
   "metadata": {},
   "outputs": [],
   "source": [
    "reload_modules()"
   ]
  },
  {
   "cell_type": "code",
   "execution_count": null,
   "id": "bf477a54b66080ec",
   "metadata": {
    "ExecuteTime": {
     "start_time": "2024-10-14T16:26:01.150275Z"
    },
    "jupyter": {
     "is_executing": true
    }
   },
   "outputs": [],
   "source": [
    "positions = {}\n",
    "reset_hedging_positions(index)\n",
    "reset_trade_positions(index)\n",
    "for component in index.components.values():\n",
    "    reset_hedging_positions(component)\n",
    "    reset_trade_positions(component)\n",
    "\n",
    "\n",
    "PTSL = DispersionPTSL(profit_target, stop_loss, index, *index.components.values())\n",
    "\n",
    "file = open(f'LOGS_Trading_Logic_for_{strategy_desc}.txt', 'w')\n",
    "sys.stdout = file\n",
    "\n",
    "for time_ix, timestamp in enumerate(index.df_futures.index):\n",
    "    print()\n",
    "    print(f\"Timestamp: {timestamp}\")\n",
    "    print(f\"Z-Score = {index.df_futures.loc[timestamp, 'zscore']}\")\n",
    "    #######################################################################################################################################################\n",
    "    PTSL.update_validity(timestamp)\n",
    "    if check_existing_position(index):\n",
    "        \n",
    "        print(\"Existing Position Check: TRUE\")\n",
    "        \n",
    "        # EXPIRY DAY MANUAL SQUAREOFF\n",
    "        if isTodayAnyExpiry(timestamp, index):\n",
    "            print(\"************  EXPIRY DAY, MANUAL SQUARE OFF ************  \")\n",
    "            squareoff(time_ix, timestamp, 'Expiry Day, Manual Square Off', False)\n",
    "            UpdateDispersionTickers(time_ix, timestamp, 'NoHedging', False, False, False)\n",
    "            continue\n",
    "            \n",
    "            \n",
    "        # PROFIT TARGET AND STOP LOSS SQUAREOFF\n",
    "        ptsl_result = PTSL.status(timestamp) \n",
    "        if ptsl_result != \"good_to_go\":\n",
    "            print(\"************  PTSL Trigger hit *********** \")\n",
    "            print(f\"{PTSL.nature} Square off at NetPnl of {PTSL.pnl_last_trade}\")\n",
    "            squareoff(time_ix, timestamp, f'{ptsl_result} Square Off', True)\n",
    "            UpdateDispersionTickers(time_ix, timestamp, 'NoHedging', False, True, False)\n",
    "            continue\n",
    "            \n",
    "            \n",
    "        # REVERSE SIGNAL SQUAREOFF\n",
    "        squareoff_signal = exit_signal(timestamp) if flag else entry_signal(timestamp)\n",
    "        if squareoff_signal:\n",
    "            print(\"Entered squareoff signal block\")\n",
    "            print(\"************  SquareOff Reverse zscore Signal hit. ************ \")\n",
    "            squareoff(time_ix, timestamp, 'ZScore Reversal Square Off (Entry in next timestamp/ signal)')\n",
    "            UpdateDispersionTickers(time_ix, timestamp, 'NoHedging', False, True, False)\n",
    "            continue\n",
    "            \n",
    "        # IF NO NEED TO SQUAREOFF, HEDGE IF NEEDED\n",
    "        UpdateDispersionTickers(time_ix, timestamp, 'Hedge', True, True, True)\n",
    "        print(\"================\")\n",
    "        continue\n",
    "    #######################################################################################################################################################\n",
    "    \n",
    "    \n",
    "    #######################################################################################################################################################\n",
    "    if entry_signal(timestamp):\n",
    "        print(\"************  LONG DISPERSION SIGNAL ************  \")\n",
    "        if isTodayAnyExpiry(timestamp, index):\n",
    "            print(\"Expiry Day today. Trading on Expiry Day is not Allowed\")\n",
    "            UpdateDispersionTickers(time_ix, timestamp, \"NoHedging\", False, False, False)\n",
    "            continue\n",
    "\n",
    "        if not PTSL.is_valid(timestamp):\n",
    "            print(f\"{PTSL.nature} was Triggered at {PTSL.triggered_at.strftime('%H:%M on %d/%b/%Y')} and Z-Score has not yet reverted back to mean (abs(z) is not yet <= {epsilon})\")\n",
    "            UpdateDispersionTickers(time_ix, timestamp, \"NoHedging\", False, True, False)\n",
    "            continue\n",
    "        \n",
    "        try:\n",
    "            lots_index, lots_components = get_lots_for_dispersion(LongShort.Short, index, timestamp, False, True, False, notional_vega)\n",
    "            # print(f\"Index Lots: {lots_index} || Components Lots: {lots_index, lots_components}\")\n",
    "\n",
    "            if lots_index == 0:\n",
    "                print(\"Cant take Dispersion Position, lots index for target notional vega can't be 0\")\n",
    "                UpdateDispersionTickers(time_ix, timestamp, \"NoHedging\", False, True, False)\n",
    "                continue\n",
    "\n",
    "            take_dispersion_position((timestamp, time_ix), 'Long Dispersion Signal (zscore high, short index, long components)', index, LongShort.Short, lots_index)\n",
    "            for (component, lots_component) in zip(index.components.values(), lots_components):\n",
    "                take_dispersion_position((timestamp, time_ix), 'Long Dispersion Signal (zscore high, short index, long components)', component, LongShort.Long, lots_component)\n",
    "            PTSL.fresh_trade(timestamp)\n",
    "            print(f\"Long dispersion (Short Index Long Components) trade executed\")\n",
    "        except Exception as e:\n",
    "            print(f\"Couldn't Enter a Long Dispersion Position: {e}\")  \n",
    "    #######################################################################################################################################################\n",
    "\n",
    "\n",
    "    #######################################################################################################################################################\n",
    "    elif exit_signal(timestamp):\n",
    "        print(\"************  SHORT DISPERSION SIGNAL ************  \")\n",
    "        if isTodayAnyExpiry(timestamp, index):\n",
    "            print(\"Expiry Day today. Trading on Expiry Day is not Allowed\")\n",
    "            UpdateDispersionTickers(time_ix, timestamp, \"NoHedging\", False, False, False)\n",
    "            continue\n",
    "\n",
    "        if not PTSL.is_valid(timestamp):\n",
    "            print(f\"{PTSL.nature} was Triggered at {PTSL.triggered_at.strftime('%H:%M on %d/%b/%Y')} and Z-Score has not yet reverted back to mean (abs(z) is not yet <= {epsilon})\")\n",
    "            UpdateDispersionTickers(time_ix, timestamp, \"NoHedging\", False, True, False)\n",
    "            continue\n",
    "\n",
    "        try:\n",
    "            lots_index, lots_components = get_lots_for_dispersion(LongShort.Long, index, timestamp, False, True, False, notional_vega)\n",
    "            # print(f\"lots_index, lots_components: {lots_index, lots_components}\")\n",
    "\n",
    "            if lots_index == 0:\n",
    "                print(\"Cant take Dispersion Position, lots index for target notional vega can't be 0\")\n",
    "                UpdateDispersionTickers(time_ix, timestamp, \"NoHedging\", False, True, False)\n",
    "                continue\n",
    "            \n",
    "            take_dispersion_position((timestamp, time_ix), 'Short Dispersion Signal (zscore low, long index, short components)', index, LongShort.Long, lots_index)\n",
    "            for (component, lots_component) in zip(index.components.values(), lots_components):\n",
    "                take_dispersion_position((timestamp, time_ix), 'Short Dispersion Signal (zscore low, long index, short components)', component, LongShort.Short, lots_component)\n",
    "            PTSL.fresh_trade(timestamp)\n",
    "            print(f\"Short dispersion (Long Index Short Components) trade\")\n",
    "        except Exception as e:\n",
    "            print(f\"Couldn't Enter a Short Dispersion Position: {e}\")  \n",
    "    #######################################################################################################################################################\n",
    "\n",
    "UpdateDispersionTickers(time_ix, timestamp, \"NoHedging\", False, True, False)\n",
    "    \n",
    "\n",
    "file.close()\n",
    "sys.stdout = original_stdout.value"
   ]
  },
  {
   "cell_type": "code",
   "execution_count": 94,
   "id": "f8548d3a6fafe22c",
   "metadata": {},
   "outputs": [],
   "source": [
    "data = {\n",
    "    'running_pnl': [],\n",
    "    'net_delta': [],\n",
    "    'net_vega': [],\n",
    "    'net_lots': [],\n",
    "    'active_position': []\n",
    "}\n",
    "\n",
    "for timestamp in index.df_futures.index:\n",
    "    pnl = 0\n",
    "    delta = 0\n",
    "    vega = 0\n",
    "    lots = 0\n",
    "\n",
    "    for _, token in positions.items():\n",
    "        stats_at_timestamp = token.stats.loc[timestamp]\n",
    "        pnl += stats_at_timestamp['running_pnl']\n",
    "        delta += stats_at_timestamp['net_delta']\n",
    "        vega += stats_at_timestamp['net_vega']\n",
    "        lots += stats_at_timestamp['net_lots']\n",
    "\n",
    "    active_position = int(abs(lots) > 0)\n",
    "    \n",
    "    data['running_pnl'].append(pnl) \n",
    "    data['net_delta'].append(delta)\n",
    "    data['net_vega'].append(vega)\n",
    "    data['net_lots'].append(lots)\n",
    "    data['active_position'].append(active_position)\n",
    "result_df = pd.DataFrame(data, index=index.df_futures.index)"
   ]
  },
  {
   "cell_type": "code",
   "execution_count": 95,
   "id": "21c3dc22306aae64",
   "metadata": {},
   "outputs": [],
   "source": [
    "result_df['active_position'] *= 500"
   ]
  },
  {
   "cell_type": "code",
   "execution_count": 96,
   "id": "b3b48e90f8efb767",
   "metadata": {},
   "outputs": [],
   "source": [
    "fig_pnl = Plot.plot_df(result_df, 'running_pnl')\n",
    "Plot.save_plot(fig_pnl, f'PLOT_PNL_for_{strategy_desc}.html')"
   ]
  },
  {
   "cell_type": "code",
   "execution_count": 97,
   "id": "813b2828db19555a",
   "metadata": {},
   "outputs": [],
   "source": [
    "fig_greeks = Plot.plot_df(result_df, 'net_delta', 'net_vega')\n",
    "Plot.save_plot(fig_greeks, f'PLOT_GREEKS_for_{strategy_desc}.html')"
   ]
  },
  {
   "cell_type": "code",
   "execution_count": 98,
   "id": "8a8a2b0e61b13b95",
   "metadata": {},
   "outputs": [],
   "source": [
    "fig_signals = Plot.plot_df(index.df_futures, 'zscore', 'ic')\n",
    "fig_signals = Plot.draw_horizontal_line(fig_signals, zscore_threshold_short, index.df_futures['ix'].iloc[0], index.df_futures['ix'].iloc[-1], 'white')\n",
    "fig_signals = Plot.draw_horizontal_line(fig_signals, zscore_threshold_long, index.df_futures['ix'].iloc[0], index.df_futures['ix'].iloc[-1], 'white')\n",
    "Plot.save_plot(fig_signals, f'PLOT_SIGNALS_for_{strategy_desc}.html')"
   ]
  },
  {
   "cell_type": "code",
   "execution_count": 99,
   "id": "30bda2d758ec1a1a",
   "metadata": {},
   "outputs": [],
   "source": [
    "arr = []\n",
    "arr += [{**trade, 'symbol': index.symbol} for trade in index.Trades.tradesArr]\n",
    "for comp in index.components.values():\n",
    "    arr += [{**trade, 'symbol': comp.symbol} for trade in comp.Trades.tradesArr]"
   ]
  },
  {
   "cell_type": "code",
   "execution_count": null,
   "id": "8284ed725c14c07f",
   "metadata": {},
   "outputs": [],
   "source": [
    "df_trades = pd.DataFrame(arr)\n",
    "df_trades = df_trades.sort_values(by='timestamp')\n",
    "df_trades.reset_index(inplace=True)\n",
    "df_trades.drop(columns=['index'], inplace=True)"
   ]
  },
  {
   "cell_type": "code",
   "execution_count": 74,
   "id": "31830c55e0909739",
   "metadata": {},
   "outputs": [],
   "source": [
    "df_trades.to_excel(f\"INFO_Trades_for_{strategy_desc}.xlsx\", index=False)\n",
    "Plot.save_excel_trades(f\"INFO_Trades_for_{strategy_desc}.xlsx\")"
   ]
  },
  {
   "cell_type": "code",
   "execution_count": 75,
   "id": "c4cf61374653d9fd",
   "metadata": {},
   "outputs": [],
   "source": [
    "def metrics(fund_blocked):\n",
    "    info_metrics = open(f'INFO_Metrics_for_{strategy_desc}.txt', 'w')\n",
    "    sys.stdout = info_metrics\n",
    "\n",
    "    print(f\"TimeFrame Length: 6 months\")\n",
    "    print(f\"Fundblocked in rs: {fund_blocked/100}\")\n",
    "    result_df.index = pd.to_datetime(result_df.index)\n",
    "    result_df['date'] = result_df.index.date  # Create a new column for the date\n",
    "    daily_profit = result_df.groupby('date')['running_pnl'].agg(lambda x: x.iloc[-1] - x.iloc[0])\n",
    "    daily_profit.index = pd.to_datetime(result_df['date'].unique())\n",
    "    \n",
    "    ret = daily_profit.sum()/fund_blocked * 100\n",
    "    print(f\"Return: {round(ret)}%\")\n",
    "    \n",
    "    sharpe_value = (daily_profit.mean() - risk_free_rate*fund_blocked/365)/daily_profit.std()\n",
    "    print(f\"Sharpe: {round(sharpe_value)}\")\n",
    "    \n",
    "    peaks = result_df['running_pnl'].cummax()\n",
    "    drawdowns = (result_df['running_pnl'] - peaks)/(peaks)\n",
    "    max_drawdown = drawdowns.min()\n",
    "    print(f\"Drawdown: {round(max_drawdown)}%\")\n",
    "    monthly_data = daily_profit.resample('ME').sum()\n",
    "    monthly_profit = monthly_data[monthly_data > 0].sum()\n",
    "    monthly_loss = abs(monthly_data[monthly_data < 0].sum())\n",
    "    if monthly_loss != 0:\n",
    "        profit_loss_ratio = monthly_profit / monthly_loss\n",
    "    else:\n",
    "        profit_loss_ratio = float('inf')  # Avoid division by zero\n",
    "    print(\"Monthly Profit/Loss Ratio:\", round(profit_loss_ratio))\n",
    "    \n",
    "    windays = (result_df['running_pnl'] > 0).sum()\n",
    "    lossdays = (result_df['running_pnl'] < 0).sum()\n",
    "    if (windays + lossdays) > 0:\n",
    "        win_ratio = windays / (windays + lossdays)\n",
    "    else:\n",
    "        win_ratio = 0\n",
    "    print(\"Win Ratio:\", round(win_ratio))\n",
    "    \n",
    "    streak = (result_df['running_pnl'] > 0).astype(int)  # 1 for winning days, 0 otherwise\n",
    "    losing_streak = (result_df['running_pnl'] < 0).astype(int)  # 1 for losing days, 0 otherwise\n",
    "    winning_streaks = streak.groupby((streak != streak.shift()).cumsum()).cumsum()\n",
    "    losing_streaks = losing_streak.groupby((losing_streak != losing_streak.shift()).cumsum()).cumsum()\n",
    "    print(f\"Longest Winning Streak: {winning_streaks.max()}, Longest Losing Streak: {losing_streaks.max()}\")\n",
    "\n",
    "    sys.stdout = original_stdout.value\n",
    "    info_metrics.close()"
   ]
  },
  {
   "cell_type": "code",
   "execution_count": null,
   "id": "327149b883192cc2",
   "metadata": {},
   "outputs": [],
   "source": [
    "metrics(100000)"
   ]
  },
  {
   "cell_type": "code",
   "execution_count": null,
   "id": "e9d9167f1e910a60",
   "metadata": {},
   "outputs": [],
   "source": []
  },
  {
   "cell_type": "code",
   "execution_count": null,
   "id": "b63a48f2fae6a36a",
   "metadata": {},
   "outputs": [],
   "source": []
  },
  {
   "cell_type": "code",
   "execution_count": null,
   "id": "72628450fe130e66",
   "metadata": {},
   "outputs": [],
   "source": []
  },
  {
   "cell_type": "code",
   "execution_count": null,
   "id": "4e83d294761647fa",
   "metadata": {},
   "outputs": [],
   "source": []
  }
 ],
 "metadata": {
  "kernelspec": {
   "display_name": "Python 3",
   "language": "python",
   "name": "python3"
  },
  "language_info": {
   "codemirror_mode": {
    "name": "ipython",
    "version": 3
   },
   "file_extension": ".py",
   "mimetype": "text/x-python",
   "name": "python",
   "nbconvert_exporter": "python",
   "pygments_lexer": "ipython3",
   "version": "3.12.1"
  }
 },
 "nbformat": 4,
 "nbformat_minor": 5
}
