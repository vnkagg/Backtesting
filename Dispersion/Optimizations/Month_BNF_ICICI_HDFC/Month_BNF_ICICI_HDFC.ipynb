{
 "cells": [
  {
   "cell_type": "markdown",
   "id": "a2f66b60",
   "metadata": {},
   "source": [
    "IMPORTS AND CONFIGURATION"
   ]
  },
  {
   "cell_type": "code",
   "execution_count": null,
   "id": "f99f40fc",
   "metadata": {},
   "outputs": [],
   "source": [
    "import numpy as np\n",
    "import pandas as pd\n",
    "import os\n",
    "import importlib\n",
    "import sys\n",
    "import copy\n",
    "import diskcache"
   ]
  },
  {
   "cell_type": "code",
   "execution_count": null,
   "id": "a599c1e1",
   "metadata": {},
   "outputs": [
    {
     "name": "stdout",
     "output_type": "stream",
     "text": [
      "path before ['c:\\\\Program Files\\\\Python312\\\\python312.zip', 'c:\\\\Program Files\\\\Python312\\\\DLLs', 'c:\\\\Program Files\\\\Python312\\\\Lib', 'c:\\\\Program Files\\\\Python312', '', 'C:\\\\Users\\\\vinayak\\\\AppData\\\\Roaming\\\\Python\\\\Python312\\\\site-packages', 'c:\\\\Program Files\\\\Python312\\\\Lib\\\\site-packages', 'c:\\\\Program Files\\\\Python312\\\\Lib\\\\site-packages\\\\win32', 'c:\\\\Program Files\\\\Python312\\\\Lib\\\\site-packages\\\\win32\\\\lib', 'c:\\\\Program Files\\\\Python312\\\\Lib\\\\site-packages\\\\Pythonwin']\n",
      "The backtesting folder was not in the systems path\n",
      "path after ['c:\\\\Program Files\\\\Python312\\\\python312.zip', 'c:\\\\Program Files\\\\Python312\\\\DLLs', 'c:\\\\Program Files\\\\Python312\\\\Lib', 'c:\\\\Program Files\\\\Python312', '', 'C:\\\\Users\\\\vinayak\\\\AppData\\\\Roaming\\\\Python\\\\Python312\\\\site-packages', 'c:\\\\Program Files\\\\Python312\\\\Lib\\\\site-packages', 'c:\\\\Program Files\\\\Python312\\\\Lib\\\\site-packages\\\\win32', 'c:\\\\Program Files\\\\Python312\\\\Lib\\\\site-packages\\\\win32\\\\lib', 'c:\\\\Program Files\\\\Python312\\\\Lib\\\\site-packages\\\\Pythonwin', 'C:\\\\Users\\\\vinayak\\\\Desktop\\\\Backtesting']\n",
      "\n"
     ]
    }
   ],
   "source": [
    "backtesting_path = r'C:\\Users\\vinayak\\Desktop\\Backtesting'\n",
    "print(\"path before\", sys.path)\n",
    "if backtesting_path not in sys.path:\n",
    "    print(\"The backtesting folder was not in the systems path\")\n",
    "    sys.path.append(backtesting_path)\n",
    "print(\"path after\", sys.path)\n",
    "print()"
   ]
  },
  {
   "cell_type": "code",
   "execution_count": null,
   "id": "05fcd425",
   "metadata": {},
   "outputs": [],
   "source": [
    "# from scipy.optimize import minimize\n",
    "from Modules import Plot\n",
    "from Modules import Helpers\n",
    "from Modules import Data as data\n",
    "from Modules import Utility as util\n",
    "from Modules import TradeAndLogics as TL\n",
    "from Modules import Data_Processing as dp\n",
    "from Modules.enums import Option, LongShort, DB, FNO, Leg, OHLC, PTSL"
   ]
  },
  {
   "cell_type": "code",
   "execution_count": null,
   "id": "cbc8cb9f34253615",
   "metadata": {
    "ExecuteTime": {
     "end_time": "2024-10-14T14:37:52.618582Z",
     "start_time": "2024-10-14T14:37:52.612163Z"
    }
   },
   "outputs": [
    {
     "data": {
      "text/plain": [
       "'c:\\\\Users\\\\vinayak\\\\Desktop\\\\Backtesting\\\\Dispersion\\\\Optimizations\\\\Month_BNF_ICICI_HDFC'"
      ]
     },
     "execution_count": 4,
     "metadata": {},
     "output_type": "execute_result"
    }
   ],
   "source": [
    "pwd()"
   ]
  },
  {
   "cell_type": "code",
   "execution_count": null,
   "id": "29c2df12485996cb",
   "metadata": {
    "ExecuteTime": {
     "end_time": "2024-10-14T14:37:52.642688Z",
     "start_time": "2024-10-14T14:37:52.640069Z"
    }
   },
   "outputs": [
    {
     "data": {
      "text/plain": [
       "<ipykernel.iostream.OutStream at 0x1e05a7f5ba0>"
      ]
     },
     "execution_count": 5,
     "metadata": {},
     "output_type": "execute_result"
    }
   ],
   "source": [
    "original_stdout = util.const(sys.stdout)\n",
    "original_stdout.value"
   ]
  },
  {
   "cell_type": "markdown",
   "id": "72ee84e0",
   "metadata": {},
   "source": [
    "TRADING/ STRATEGY PARAMETERS"
   ]
  },
  {
   "cell_type": "code",
   "execution_count": null,
   "id": "e41356aa",
   "metadata": {},
   "outputs": [],
   "source": [
    "start_date = '2023-01-01'\n",
    "end_date = '2024-01-01'"
   ]
  },
  {
   "cell_type": "code",
   "execution_count": null,
   "id": "bb8e5f90",
   "metadata": {},
   "outputs": [],
   "source": [
    "start_date = pd.to_datetime(start_date)\n",
    "end_date = pd.to_datetime(end_date)"
   ]
  },
  {
   "cell_type": "code",
   "execution_count": null,
   "id": "d7387c13",
   "metadata": {},
   "outputs": [],
   "source": [
    "# from datetime import timedelta\n",
    "# start_date = pd.to_datetime(entry - timedelta(1))\n",
    "# end_date = pd.to_datetime(exit + timedelta(1))"
   ]
  },
  {
   "cell_type": "code",
   "execution_count": null,
   "id": "fc892ead",
   "metadata": {},
   "outputs": [],
   "source": [
    "buying_delta_threshold_per_lot = 5\n",
    "selling_delta_threshold_per_lot = 1\n",
    "notional_vega_buying = 6000 # rs\n",
    "notional_vega_selling = 10000 # rs\n",
    "profit_target = 100000\n",
    "stop_loss = 100000"
   ]
  },
  {
   "cell_type": "code",
   "execution_count": null,
   "id": "6f53efdc54d39fdc",
   "metadata": {
    "ExecuteTime": {
     "end_time": "2024-10-14T14:37:53.765562Z",
     "start_time": "2024-10-14T14:37:53.761314Z"
    }
   },
   "outputs": [],
   "source": [
    "index_symbol = 'BANKNIFTY'\n",
    "expiry_type = 'I'\n",
    "# expiry_type_next = 'II'\n",
    "risk_free_rate = 0.1 # (10% interest rate)\n",
    "timeframe = 15 # mins\n",
    "look_back_window = 25*4\n",
    "# Trade/ Strategy Parameters\n",
    "epsilon = 0.1\n",
    "moneyness_ironfly = 0\n",
    "price_factor = 5\n",
    "ICView = LongShort.Short"
   ]
  },
  {
   "cell_type": "code",
   "execution_count": null,
   "id": "8af0e9e2",
   "metadata": {},
   "outputs": [],
   "source": [
    "def tell_delta_threshold_per_lot(ticker):\n",
    "    if ticker.intention == LongShort.Long:\n",
    "        return buying_delta_threshold_per_lot\n",
    "    return selling_delta_threshold_per_lot\n",
    "\n",
    "def tell_notional_vega(ticker):\n",
    "    if ticker.intention == LongShort.Long:\n",
    "        return notional_vega_buying\n",
    "    return notional_vega_selling"
   ]
  },
  {
   "cell_type": "code",
   "execution_count": null,
   "id": "a85f6724",
   "metadata": {},
   "outputs": [
    {
     "data": {
      "text/plain": [
       "'01Jan_00_00_01Jan_00_00'"
      ]
     },
     "execution_count": 12,
     "metadata": {},
     "output_type": "execute_result"
    }
   ],
   "source": [
    "strategy_desc = f\"{start_date.strftime('%d%b_%H_%M')}_{end_date.strftime('%d%b_%H_%M')}\"\n",
    "strategy_desc"
   ]
  },
  {
   "cell_type": "markdown",
   "id": "df2cb656",
   "metadata": {},
   "source": [
    "Strategy Specific Data Dealing and Modifications"
   ]
  },
  {
   "cell_type": "code",
   "execution_count": null,
   "id": "215c86d142228aa8",
   "metadata": {
    "ExecuteTime": {
     "end_time": "2024-10-14T14:37:53.440492Z",
     "start_time": "2024-10-14T14:37:53.435775Z"
    }
   },
   "outputs": [],
   "source": [
    "index_symbol = 'BANKNIFTY'\n",
    "index_lot_size = 15"
   ]
  },
  {
   "cell_type": "markdown",
   "id": "76c21acd",
   "metadata": {},
   "source": [
    "NEAR MONTH (I) DATA FETCHING AND PROCESSING"
   ]
  },
  {
   "cell_type": "code",
   "execution_count": null,
   "id": "fc270ce3",
   "metadata": {},
   "outputs": [],
   "source": [
    "import Dispersion.DispersionAdjustedFunctionality as daf"
   ]
  },
  {
   "cell_type": "code",
   "execution_count": null,
   "id": "75608d9d",
   "metadata": {},
   "outputs": [],
   "source": [
    "basket = daf.RawWeightedPortfolio()\n",
    "basket.insert('HDFCBANK', 550, 27.04)\n",
    "basket.insert('ICICIBANK', 700, 23.03)\n",
    "# basket.insert('KOTAKBANK', 400, 11.72)\n",
    "# basket.insert('SBIN', 750, 11.27)\n",
    "# basket.insert('AXISBANK', 625, 11.18)"
   ]
  },
  {
   "cell_type": "code",
   "execution_count": null,
   "id": "2ea6c5750ce94564",
   "metadata": {
    "ExecuteTime": {
     "end_time": "2024-10-14T16:26:00.267088Z",
     "start_time": "2024-10-14T16:26:00.262838Z"
    }
   },
   "outputs": [],
   "source": [
    "def get_vega_legs(ticker, timestamp, *Legs):\n",
    "    vega = 0\n",
    "    for leg in Legs:\n",
    "        if leg.Instrument == FNO.FUTURES:\n",
    "            continue\n",
    "        greeks = ticker.Greeks(timestamp, leg.Instrument, leg.Strike)\n",
    "        if greeks is None:\n",
    "            return None\n",
    "        vega += greeks['vega'] * leg.Position.value\n",
    "    return abs(vega)"
   ]
  },
  {
   "cell_type": "code",
   "execution_count": null,
   "id": "9ed029fd",
   "metadata": {},
   "outputs": [],
   "source": [
    "def entry_signal(timestamp, trade_count):\n",
    "    if trade_count != 0:\n",
    "        return False \n",
    "    if timestamp.hour == 9 and timestamp.minute == 30:\n",
    "        return True\n",
    "    return False\n",
    "def exit_signal(timestamp, *portfolio):\n",
    "    if TL.isLastNdays(timestamp, 7, *portfolio):\n",
    "        return True\n",
    "    return False"
   ]
  },
  {
   "cell_type": "code",
   "execution_count": null,
   "id": "d48c31ba",
   "metadata": {},
   "outputs": [],
   "source": [
    "def get_lots_for_entry(ticker, timestamp, **kwargs):\n",
    "    logging_information = {}\n",
    "    legs = Helpers.get_legs_ironfly_WithFarOptionsOfPrice_ATMpriceXfactor(ticker, timestamp, 1, ticker.intention, price_factor)\n",
    "    vega_ticker_ironfly = get_vega_legs(ticker, timestamp, *legs)\n",
    "    if vega_ticker_ironfly is None:\n",
    "        return None, None\n",
    "    unweighted_vega = vega_ticker_ironfly * ticker.lot_size\n",
    "    notional_vega = tell_notional_vega(ticker)\n",
    "    idea_for_weight = ticker.weight\n",
    "    logging_information = {\n",
    "        'Lot Size': ticker.lot_size,\n",
    "        'Weight': ticker.weight,\n",
    "        'Vega per IronFly': vega_ticker_ironfly,\n",
    "        'Vega per Lot IronFly': vega_ticker_ironfly * ticker.lot_size,\n",
    "        'Target Notional Vega': notional_vega * ticker.weight\n",
    "    }\n",
    "    \n",
    "    # if 'vega_neutral' in kwargs and kwargs['vega_neutral']:\n",
    "    \n",
    "    if 'ic_neutral' in kwargs and kwargs['ic_neutral'] == True:\n",
    "        if ticker.is_component:\n",
    "            idea_for_weight *= math.sqrt(ticker.get_ic_at(timestamp))\n",
    "\n",
    "    elif 'theta_neutral' in kwargs and kwargs['theta_neutral'] == True:\n",
    "        strike_ticker, _ = ticker.find_moneyness_strike(timestamp, 0, Option.Call)\n",
    "        logging_information['ATM Strike'] = strike_ticker\n",
    "        if ticker.is_component:\n",
    "            import math\n",
    "            idea_for_weight *= math.sqrt(ticker.get_ic_at(timestamp))\n",
    "\n",
    "    lots_ticker = int(np.round(notional_vega * idea_for_weight/ unweighted_vega))\n",
    "    logging_information['Lots to take position'] = lots_ticker\n",
    "    logging_information['Vega Satisfied'] = lots_ticker * unweighted_vega\n",
    "    cashflow = 0\n",
    "    for leg in legs:\n",
    "        token = TL.Token(ticker, leg.Instrument, leg.Strike)\n",
    "        cashflow += (((token.data[timestamp] * lots_ticker * ticker.lot_size) * leg.Position.value))\n",
    "    logging_information['CashFlow'] = cashflow\n",
    "        \n",
    "\n",
    "    print(f\">> {ticker.symbol}\")\n",
    "    for info_key, info_value in logging_information.items():\n",
    "        print(f\"  {info_key}: {info_value}\")\n",
    "    return lots_ticker"
   ]
  },
  {
   "cell_type": "code",
   "execution_count": null,
   "id": "ac5e21f4c8ce1d7f",
   "metadata": {
    "ExecuteTime": {
     "end_time": "2024-10-14T16:26:00.522871Z",
     "start_time": "2024-10-14T16:26:00.517879Z"
    }
   },
   "outputs": [],
   "source": [
    "def take_dispersion_position(timestamp, remarks, ticker, lots):\n",
    "    legs = []\n",
    "    legs = Helpers.get_legs_ironfly_WithFarOptionsOfPrice_ATMpriceXfactor(ticker, timestamp, 1, ticker.intention, price_factor)\n",
    "    for leg in legs:\n",
    "        key = f'{ticker.symbol}_{leg.id()}'\n",
    "        if key not in ticker.tokens.keys():\n",
    "            ticker.tokens[key] = TL.Token(ticker, leg.Instrument, leg.Strike, leg.LegName)\n",
    "        token = ticker.tokens[key]\n",
    "        token.add_position(timestamp, lots, leg.Position)\n",
    "    ticker.take_position(timestamp, remarks, *legs)\n"
   ]
  },
  {
   "cell_type": "code",
   "execution_count": null,
   "id": "95f56ccb",
   "metadata": {},
   "outputs": [],
   "source": [
    "class DispersionPTSL(TL.PTSLHandling):\n",
    "    def __init__(self, profit_target, stop_loss, *tickers):\n",
    "        super().__init__(profit_target, stop_loss, *tickers)\n",
    "\n",
    "    def is_valid(self, timestamp):\n",
    "        # if PTSL is active, update to make sure it's correct\n",
    "        if self.active_ptsl:\n",
    "            self.update_validity(timestamp)\n",
    "        return not self.active_ptsl   \n",
    "    \n",
    "    def update_validity(self, timestamp):\n",
    "        if timestamp.date() != self.triggered_at.date():\n",
    "            self.reset()\n",
    "            print(f\"New day, PTSL for Intraday Strategy is resetted\")"
   ]
  },
  {
   "cell_type": "code",
   "execution_count": null,
   "id": "22cc0b6d85d900f1",
   "metadata": {
    "ExecuteTime": {
     "end_time": "2024-10-14T16:26:00.974169Z",
     "start_time": "2024-10-14T16:26:00.969632Z"
    }
   },
   "outputs": [],
   "source": [
    "def squareoff(timestamp, remarks, logging = True):\n",
    "    print(\"************  SQUARE OFF BEGINS  *********** \")\n",
    "    for ticker in portfolio:\n",
    "        TL.squareoff_ticker(timestamp, remarks, ticker, logging)\n",
    "    print(\"* SQUARE OFF TRADES SAVED, TOKENS IN TICKERS UPDATED\")\n",
    "    print(\"************  SQUARE OFF COMPLETE  *********** \")\n"
   ]
  },
  {
   "cell_type": "code",
   "execution_count": null,
   "id": "9f85db07",
   "metadata": {},
   "outputs": [],
   "source": [
    "def UpdateDispersionTickers(timestamp, remarks, hedge, logging_token_update, logging_hedging):\n",
    "    for ticker in portfolio:\n",
    "        delta_threshold_per_lot = tell_delta_threshold_per_lot(ticker)\n",
    "        TL.HandleUpdate(ticker, timestamp, remarks, hedge, delta_threshold_per_lot, logging_token_update, logging_hedging)\n"
   ]
  },
  {
   "cell_type": "code",
   "execution_count": null,
   "id": "5732a9ec",
   "metadata": {},
   "outputs": [],
   "source": [
    "def zoom_dispersion_trade(start, end, file_name):\n",
    "    start = pd.to_datetime(start)\n",
    "    end = pd.to_datetime(end)\n",
    "    performance = Helpers.zoom_tokens_performance_bar_by_bar(*portfolio, start=start, end=end)\n",
    "    Plot.save_df_to_excel(performance, file_name)"
   ]
  },
  {
   "cell_type": "code",
   "execution_count": null,
   "id": "2a384c3e",
   "metadata": {},
   "outputs": [],
   "source": [
    "def visualise_dispersion_trade(start, end, file_name):\n",
    "    start = pd.to_datetime(start)\n",
    "    end = pd.to_datetime(end)\n",
    "    result_df = Helpers.get_summary_portfolio(*portfolio, start=start, end=end)\n",
    "    fig = Plot.plot_df(result_df, *(result_df.columns))\n",
    "    Plot.save_plot(fig, file_name)"
   ]
  },
  {
   "cell_type": "code",
   "execution_count": null,
   "id": "2a43362b",
   "metadata": {},
   "outputs": [],
   "source": [
    "def save_dispersion_trades(start, end, file_name):\n",
    "    trades_dict = {}\n",
    "    trades_dict['All Trades'] = Helpers.get_trades_portfolio(*portfolio, start=start, end=end)\n",
    "    for ticker in portfolio:\n",
    "        trades_dict[ticker.symbol] = Helpers.get_trades_ticker(ticker, start=start, end=end)\n",
    "    Plot.save_df_to_excel(trades_dict, file_name)"
   ]
  },
  {
   "cell_type": "code",
   "execution_count": null,
   "id": "54e19267",
   "metadata": {},
   "outputs": [],
   "source": [
    "def get_portfolio(start, end, folder):\n",
    "    path = os.path.join(folder, f\"LOGS_Data_and_Initialization.txt\")\n",
    "    file = open(path, 'w', buffering = 1)\n",
    "    sys.stdout = file\n",
    "\n",
    "    constituents = {}\n",
    "    ohlc = OHLC.close\n",
    "    index = daf.ticker(index_symbol, index_lot_size, True, start, end, expiry_type, True, timeframe, True, 0.1)\n",
    "    index.initializeDispersion(constituents, False, 1)\n",
    "    index.set_ohlc(ohlc)\n",
    "    index.set_intention(ICView)\n",
    "    for stock in basket.Symbols():\n",
    "        constituents[stock] = daf.ticker(stock, basket.LotSize(stock), True, start, end, expiry_type, True, timeframe, False, 0.1)\n",
    "        constituents[stock].initializeDispersion({}, True, basket.Weight(stock))\n",
    "        constituents[stock].set_ohlc(ohlc)\n",
    "        constituents[stock].set_intention(ICView.opposite())\n",
    "    portfolio = [index] + [component for component in index.components.values()]\n",
    "    \n",
    "    sys.stdout = original_stdout.value\n",
    "    file.close()\n",
    "    return portfolio, index"
   ]
  },
  {
   "cell_type": "code",
   "execution_count": null,
   "id": "0e8528ad",
   "metadata": {},
   "outputs": [],
   "source": [
    "a = 2\n",
    "def f():\n",
    "    print(a+2)"
   ]
  },
  {
   "cell_type": "code",
   "execution_count": null,
   "id": "0b4d25ad",
   "metadata": {},
   "outputs": [
    {
     "name": "stdout",
     "output_type": "stream",
     "text": [
      "4\n"
     ]
    }
   ],
   "source": [
    "f()"
   ]
  },
  {
   "cell_type": "code",
   "execution_count": null,
   "id": "37b27749",
   "metadata": {},
   "outputs": [],
   "source": [
    "sys.stdout = original_stdout.value"
   ]
  },
  {
   "cell_type": "code",
   "execution_count": null,
   "id": "98a69922",
   "metadata": {},
   "outputs": [],
   "source": [
    "def trading_loop(index, portfolio, timestamps, folder):\n",
    "    path = os.path.join(folder, f'LOGS_Trading_Logic_for_{strategy_desc}.txt')\n",
    "    file = open(path, 'w', buffering = 1)\n",
    "    sys.stdout = file\n",
    "    for ticker in portfolio:\n",
    "        ticker.reset_trades()\n",
    "\n",
    "    TrackPTSL = DispersionPTSL(profit_target, stop_loss, *portfolio)\n",
    "\n",
    "    current_position = None\n",
    "    trade_start_date, trade_end_date, trade_count = None, None, 0\n",
    "    for timestamp in timestamps:\n",
    "        print()\n",
    "        print(f\"Timestamp: {timestamp}\")\n",
    "        #######################################################################################################################################################\n",
    "        if TL.check_existing_position(index):\n",
    "            \n",
    "            print(f\"Existing Position Check: TRUE | Dispersion position: {current_position}\")\n",
    "            \n",
    "            # 3:20 (Market Close) SQUAREOFF\n",
    "            if exit_signal(timestamp, *portfolio):\n",
    "                print(\"************  MARKET CLOSE  *********** \")\n",
    "                UpdateDispersionTickers(timestamp, 'NoHedging', False, True, False)\n",
    "                squareoff(timestamp, f'Last Week Close Square Off', True)\n",
    "                trade_end_date = timestamp\n",
    "                trade_count+=1\n",
    "                print(trade_start_date, trade_end_date)\n",
    "                zoom_dispersion_trade(trade_start_date, trade_end_date, os.path.join(folder, f\"Zoom_Trade.xlsx\"))\n",
    "                visualise_dispersion_trade(trade_start_date, trade_end_date, os.path.join(folder, f\"Visualise_Trade.html\"))\n",
    "                continue\n",
    "\n",
    "            # PROFIT TARGET AND STOP LOSS SQUAREOFF\n",
    "            if TrackPTSL.is_valid(timestamp) and TrackPTSL.status(timestamp) != PTSL.Valid:\n",
    "                print(\"************  TrackPTSL Trigger hit *********** \")\n",
    "                print(f\"{TrackPTSL.nature} Square off at NetPnl of {TrackPTSL.pnl_last_trade}\")\n",
    "                UpdateDispersionTickers(timestamp, 'NoHedging', False, True, False)\n",
    "                squareoff(timestamp, f'{TrackPTSL.nature} Square Off', True)\n",
    "                trade_end_date = timestamp\n",
    "                trade_count+=1\n",
    "                print(trade_start_date, trade_end_date)\n",
    "                zoom_dispersion_trade(trade_start_date, trade_end_date, os.path.join(folder, f\"Zoom_Trade.xlsx\"))\n",
    "                visualise_dispersion_trade(trade_start_date, trade_end_date, os.path.join(folder, f\"Visualise_Trade.html\"))\n",
    "                continue\n",
    "                \n",
    "            # IF NO NEED TO SQUAREOFF, HEDGE IF NEEDED\n",
    "            UpdateDispersionTickers(timestamp, 'Delta Hedging using Synthetic Futures', True, True, True)\n",
    "            print(\"========================================================================================================================================================================\")\n",
    "            continue\n",
    "        #######################################################################################################################################################\n",
    "        \n",
    "        \n",
    "        #######################################################################################################################################################\n",
    "        if entry_signal(timestamp, trade_count):\n",
    "            print(\"************  ENTRY TIME REACHED  ************  \")\n",
    "            UpdateDispersionTickers(timestamp, \"NoHedging\", False, False, False)\n",
    "            if TL.isTodayAnyExpiry(timestamp, *portfolio):\n",
    "                print(\"Expiry Day today. Trading on Expiry Day is not Allowed\")\n",
    "                continue\n",
    "\n",
    "            if not TrackPTSL.is_valid(timestamp):\n",
    "                print(f\"{TrackPTSL.nature} was Triggered at {TrackPTSL.triggered_at.strftime('%H:%M on %d/%b/%Y')} and Z-Score has not yet reverted back to mean (abs(z) is not yet <= {epsilon})\")\n",
    "                continue\n",
    "            \n",
    "\n",
    "            for ticker in portfolio:\n",
    "                lots_ticker = get_lots_for_entry(ticker, timestamp)\n",
    "                if lots_ticker == 0:\n",
    "                    print(\"Cant take Dispersion Position, lots ticker for target notional vega can't be 0\")\n",
    "                    continue\n",
    "                take_dispersion_position(timestamp, f'{ICView.name} IC', ticker, lots_ticker)\n",
    "            \n",
    "\n",
    "            TrackPTSL.fresh_trade(timestamp)\n",
    "            current_position = ICView\n",
    "            trade_start_date = timestamp\n",
    "            print(f\"{ICView} IC Trade executed\")\n",
    "\n",
    "\n",
    "            continue\n",
    "        #######################################################################################################################################################\n",
    "\n",
    "        UpdateDispersionTickers(timestamp, \"NoHedging\", False, True, False)\n",
    "        print(\"========================================================================================================================================================================\")\n",
    "        \n",
    "    file.close()\n",
    "    sys.stdout = original_stdout.value\n",
    "    trade_count = 0\n",
    "    print(trade_start_date, trade_end_date)"
   ]
  },
  {
   "cell_type": "code",
   "execution_count": null,
   "id": "9e608cd5",
   "metadata": {},
   "outputs": [],
   "source": [
    "date_range = pd.date_range(start=start_date, end=end_date, freq='ME')\n",
    "for month in date_range:\n",
    "    start, end = month.replace(day=1).date(), month.date()\n",
    "    folder_path = r\"C:\\Users\\vinayak\\Desktop\\Backtesting\\Dispersion\\Optimizations\\Month_BNF_ICICI_HDFC\"\n",
    "    folder = os.path.join(folder_path, f'{start}_{end}')\n",
    "    if not os.path.exists(folder):\n",
    "        os.makedirs(folder)\n",
    "    portfolio, index = get_portfolio(start, end, folder)\n",
    "    trading_loop(index, portfolio, index.timestamps, folder)\n",
    "    "
   ]
  },
  {
   "cell_type": "code",
   "execution_count": null,
   "id": "c4cf61374653d9fd",
   "metadata": {},
   "outputs": [],
   "source": [
    "def metrics(fund_blocked):\n",
    "    info_metrics = open(f'INFO_Metrics_for_{strategy_desc}.txt', 'w')\n",
    "    sys.stdout = info_metrics\n",
    "\n",
    "    print(f\"TimeFrame Length: 6 months\")\n",
    "    print(f\"Fundblocked in rs: {fund_blocked/100}\")\n",
    "    result_df.index = pd.to_datetime(result_df.index)\n",
    "    result_df['date'] = result_df.index.date  # Create a new column for the date\n",
    "    daily_profit = result_df.groupby('date')['running_pnl'].agg(lambda x: x.iloc[-1] - x.iloc[0])\n",
    "    daily_profit.index = pd.to_datetime(result_df['date'].unique())\n",
    "    \n",
    "    ret = daily_profit.sum()/fund_blocked * 100\n",
    "    print(f\"Return: {round(ret)}%\")\n",
    "    \n",
    "    sharpe_value = (daily_profit.mean() - risk_free_rate*fund_blocked/365)/daily_profit.std()\n",
    "    print(f\"Sharpe: {round(sharpe_value)}\")\n",
    "    \n",
    "    peaks = result_df['running_pnl'].cummax()\n",
    "    drawdowns = (result_df['running_pnl'] - peaks)/(peaks)\n",
    "    max_drawdown = drawdowns.min()\n",
    "    print(f\"Drawdown: {round(max_drawdown)}%\")\n",
    "    monthly_data = daily_profit.resample('ME').sum()\n",
    "    monthly_profit = monthly_data[monthly_data > 0].sum()\n",
    "    monthly_loss = abs(monthly_data[monthly_data < 0].sum())\n",
    "    if monthly_loss != 0:\n",
    "        profit_loss_ratio = monthly_profit / monthly_loss\n",
    "    else:\n",
    "        profit_loss_ratio = float('inf')  # Avoid division by zero\n",
    "    print(\"Monthly Profit/Loss Ratio:\", round(profit_loss_ratio))\n",
    "    \n",
    "    windays = (result_df['running_pnl'] > 0).sum()\n",
    "    lossdays = (result_df['running_pnl'] < 0).sum()\n",
    "    if (windays + lossdays) > 0:\n",
    "        win_ratio = windays / (windays + lossdays)\n",
    "    else:\n",
    "        win_ratio = 0\n",
    "    print(\"Win Ratio:\", round(win_ratio))\n",
    "    \n",
    "    streak = (result_df['running_pnl'] > 0).astype(int)  # 1 for winning days, 0 otherwise\n",
    "    losing_streak = (result_df['running_pnl'] < 0).astype(int)  # 1 for losing days, 0 otherwise\n",
    "    winning_streaks = streak.groupby((streak != streak.shift()).cumsum()).cumsum()\n",
    "    losing_streaks = losing_streak.groupby((losing_streak != losing_streak.shift()).cumsum()).cumsum()\n",
    "    print(f\"Longest Winning Streak: {winning_streaks.max()}, Longest Losing Streak: {losing_streaks.max()}\")\n",
    "\n",
    "    sys.stdout = original_stdout.value\n",
    "    info_metrics.close()"
   ]
  },
  {
   "cell_type": "code",
   "execution_count": null,
   "id": "d39421a8",
   "metadata": {},
   "outputs": [],
   "source": []
  }
 ],
 "metadata": {
  "kernelspec": {
   "display_name": "Python 3",
   "language": "python",
   "name": "python3"
  },
  "language_info": {
   "codemirror_mode": {
    "name": "ipython",
    "version": 3
   },
   "file_extension": ".py",
   "mimetype": "text/x-python",
   "name": "python",
   "nbconvert_exporter": "python",
   "pygments_lexer": "ipython3",
   "version": "3.12.1"
  }
 },
 "nbformat": 4,
 "nbformat_minor": 5
}
