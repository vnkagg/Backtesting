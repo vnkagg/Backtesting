{
 "cells": [
  {
   "cell_type": "markdown",
   "id": "a2f66b60",
   "metadata": {},
   "source": [
    "IMPORTS AND CONFIGURATION"
   ]
  },
  {
   "cell_type": "code",
   "execution_count": null,
   "id": "f99f40fc",
   "metadata": {},
   "outputs": [],
   "source": [
    "import numpy as np\n",
    "import pandas as pd\n",
    "import os\n",
    "import importlib\n",
    "import sys\n",
    "import copy\n",
    "import diskcache"
   ]
  },
  {
   "cell_type": "code",
   "execution_count": null,
   "id": "a599c1e1",
   "metadata": {},
   "outputs": [],
   "source": [
    "backtesting_path = r'C:\\Users\\vinayak\\Desktop\\Backtesting'\n",
    "print(\"path before\", sys.path)\n",
    "if backtesting_path not in sys.path:\n",
    "    print(\"The backtesting folder was not in the systems path\")\n",
    "    sys.path.append(backtesting_path)\n",
    "print(\"path after\", sys.path)\n",
    "print()"
   ]
  },
  {
   "cell_type": "code",
   "execution_count": null,
   "id": "05fcd425",
   "metadata": {},
   "outputs": [],
   "source": [
    "# from scipy.optimize import minimize\n",
    "from Modules import Plot\n",
    "from Modules import Helpers\n",
    "from Modules import Data as data\n",
    "from Modules import Utility as util\n",
    "from Modules import TradeAndLogics as TL\n",
    "from Modules import Data_Processing as dp\n",
    "import Dispersion.DispersionAdjustedFunctionality as daf\n",
    "from Modules.enums import Option, LongShort, DB, FNO, Leg, OHLC, PTSL"
   ]
  },
  {
   "cell_type": "code",
   "execution_count": null,
   "id": "cbc8cb9f34253615",
   "metadata": {
    "ExecuteTime": {
     "end_time": "2024-10-14T14:37:52.618582Z",
     "start_time": "2024-10-14T14:37:52.612163Z"
    }
   },
   "outputs": [],
   "source": [
    "pwd()"
   ]
  },
  {
   "cell_type": "code",
   "execution_count": null,
   "id": "29c2df12485996cb",
   "metadata": {
    "ExecuteTime": {
     "end_time": "2024-10-14T14:37:52.642688Z",
     "start_time": "2024-10-14T14:37:52.640069Z"
    }
   },
   "outputs": [],
   "source": [
    "original_stdout = util.const(sys.stdout)\n",
    "original_stdout.value"
   ]
  },
  {
   "cell_type": "markdown",
   "id": "72ee84e0",
   "metadata": {},
   "source": [
    "TRADING/ STRATEGY PARAMETERS"
   ]
  },
  {
   "cell_type": "code",
   "execution_count": null,
   "id": "d37639bd",
   "metadata": {},
   "outputs": [],
   "source": [
    "start_date = '2023-07-01'\n",
    "end_date = '2024-07-01'"
   ]
  },
  {
   "cell_type": "code",
   "execution_count": null,
   "id": "19b9fd7f",
   "metadata": {},
   "outputs": [],
   "source": [
    "start_date = pd.to_datetime(start_date)\n",
    "end_date = pd.to_datetime(end_date)"
   ]
  },
  {
   "cell_type": "code",
   "execution_count": null,
   "id": "6f53efdc54d39fdc",
   "metadata": {
    "ExecuteTime": {
     "end_time": "2024-10-14T14:37:53.765562Z",
     "start_time": "2024-10-14T14:37:53.761314Z"
    }
   },
   "outputs": [],
   "source": [
    "index_symbol = 'BANKNIFTY'\n",
    "expiry_type_near = 'I'\n",
    "expiry_type_next = 'II'\n",
    "risk_free_rate = 0.1 # (10% interest rate)\n",
    "timeframe = 1 # mins\n",
    "epsilon = 0.1\n",
    "ICView = LongShort.Long"
   ]
  },
  {
   "cell_type": "code",
   "execution_count": null,
   "id": "215c86d142228aa8",
   "metadata": {
    "ExecuteTime": {
     "end_time": "2024-10-14T14:37:53.440492Z",
     "start_time": "2024-10-14T14:37:53.435775Z"
    }
   },
   "outputs": [],
   "source": [
    "index_symbol = 'BANKNIFTY'\n",
    "index_lot_size = 15"
   ]
  },
  {
   "cell_type": "code",
   "execution_count": null,
   "id": "a85f6724",
   "metadata": {},
   "outputs": [],
   "source": [
    "strategy_desc = f\"IC_Analysis_BNF_PCA\"\n",
    "strategy_desc"
   ]
  },
  {
   "cell_type": "markdown",
   "id": "df2cb656",
   "metadata": {},
   "source": [
    "Strategy Specific Data Dealing and Modifications"
   ]
  },
  {
   "cell_type": "markdown",
   "id": "57aa9358",
   "metadata": {},
   "source": [
    "BACK TO NORMAL"
   ]
  },
  {
   "cell_type": "code",
   "execution_count": null,
   "id": "97d605f5",
   "metadata": {},
   "outputs": [],
   "source": [
    "basket = daf.RawWeightedPortfolio()\n",
    "basket.insert('HDFCBANK', 550, 27.04)\n",
    "basket.insert('ICICIBANK', 700, 23.03)\n",
    "basket.insert('KOTAKBANK', 400, 11.72)\n",
    "basket.insert('SBIN', 750, 11.27)\n",
    "basket.insert('AXISBANK', 625, 11.18)\n",
    "\n",
    "# basket.insert('PNB', 8000, 0.91)\n",
    "# basket.insert('AUBANK', 1000, 2.69)\n",
    "# basket.insert('BANKBARODA', 2925, 1.84)\n",
    "# basket.insert('FEDERALBNK', 5000, 1.68)\n",
    "# basket.insert('IDFCFIRSTB', 7500, 1.08)\n",
    "# basket.insert('INDUSINDBK', 500, 1.98)\n",
    "# basket.insert('BANDHANBNK', 2800, 11.18)"
   ]
  },
  {
   "cell_type": "code",
   "execution_count": null,
   "id": "c9675da8",
   "metadata": {},
   "outputs": [],
   "source": [
    "def get_indexes(start, end, next, next_fill):\n",
    "    constituents_near = {}\n",
    "    ohlc = OHLC.close\n",
    "    index_near = daf.ticker(index_symbol, index_lot_size, True, start, end, expiry_type_near, True, timeframe, True, 0.1)\n",
    "    index_near.initializeDispersion(constituents_near, False, 1)\n",
    "    index_near.set_ohlc(ohlc)\n",
    "    index_near.set_intention(ICView)\n",
    "    for stock in basket.Symbols():\n",
    "        constituents_near[stock] = daf.ticker(stock, basket.LotSize(stock), True, start, end, expiry_type_near, True, timeframe, False, 0.1)\n",
    "        constituents_near[stock].initializeDispersion({}, True, basket.Weight(stock))\n",
    "        constituents_near[stock].set_ohlc(ohlc)\n",
    "        constituents_near[stock].set_intention(ICView.opposite())\n",
    "\n",
    "    if next:\n",
    "        constituents_next = {}\n",
    "        index_next = daf.ticker(index_symbol, index_lot_size, True, start, end, expiry_type_next, next_fill, timeframe, True, 0.1)\n",
    "        index_next.initializeDispersion(constituents_next, False, 1)\n",
    "        index_next.set_ohlc(ohlc)\n",
    "        index_next.set_intention(ICView)\n",
    "        for stock in basket.Symbols():\n",
    "            constituents_next[stock] = daf.ticker(stock, basket.LotSize(stock), True, start, end, expiry_type_next, next_fill, timeframe, False, 0.1)\n",
    "            constituents_next[stock].initializeDispersion({}, True, basket.Weight(stock))\n",
    "            constituents_next[stock].set_ohlc(ohlc)\n",
    "            constituents_next[stock].set_intention(ICView.opposite())\n",
    "        \n",
    "        return index_near, index_next\n",
    "    return index_near"
   ]
  },
  {
   "cell_type": "code",
   "execution_count": null,
   "id": "c3579858",
   "metadata": {},
   "outputs": [],
   "source": [
    "name = 'IC_NearIV'\n",
    "file = open(f\"LOGS_Generating_{name}.txt\", 'w', buffering=1)\n",
    "sys.stdout = file\n",
    "header_flag = True\n",
    "mode = 'w'\n",
    "date_range = pd.date_range(start=start_date, end=end_date, freq='ME')\n",
    "for month in date_range:\n",
    "    start, end = month.replace(day=1).date(), month.date()\n",
    "    index_near= get_indexes(start, end, False, False)\n",
    "    portfolio = [index_near]\n",
    "    portfolio += [c_near for c_near in index_near.components.values()]\n",
    "    for timestamp in index_near.timestamps:\n",
    "        index_near.get_ic_at(timestamp, True)  \n",
    "        print(\"======================================================\")\n",
    "    ic = index_near.df_futures['ic'].to_frame()\n",
    "    ic.to_csv(f'{name}.csv', mode=mode, header=header_flag)\n",
    "    header_flag = False\n",
    "    mode = 'a'\n",
    "\n",
    "sys.stdout = original_stdout.value\n",
    "file.close()\n",
    "ic = pd.read_csv(f'{name}.csv', index_col=0, parse_dates=True)\n",
    "Plot.save_plot(Plot.plot_df(ic, 'ic'), f'{name}.html')"
   ]
  },
  {
   "cell_type": "code",
   "execution_count": null,
   "id": "cb6b1cf5",
   "metadata": {},
   "outputs": [],
   "source": [
    "importlib.reload(dp)"
   ]
  },
  {
   "cell_type": "code",
   "execution_count": null,
   "id": "ec26fdc6",
   "metadata": {},
   "outputs": [],
   "source": [
    "name = 'IC_NormallizedIV_Filled'\n",
    "file = open(f\"LOGS_Generating_{name}.txt\", 'w', buffering=1)\n",
    "sys.stdout = file\n",
    "header_flag = True\n",
    "mode = 'w'\n",
    "date_range = pd.date_range(start=start_date, end=end_date, freq='ME')\n",
    "for month in date_range:\n",
    "    start, end = month.replace(day=1).date(), month.date()\n",
    "    index_near, index_next = get_indexes(start, end, True, True)\n",
    "    portfolio = [(index_near, index_next)]\n",
    "    portfolio += [(c_near, c_next) for (c_near, c_next) in zip(index_near.components.values(), index_next.components.values())]\n",
    "    for timestamp in index_near.timestamps:\n",
    "        # if ((timestamp + pd.offsets.MonthEnd(0)) - timestamp).days < 7:\n",
    "        #     index_near.df_futures.loc[timestamp, 'ic'] = 0\n",
    "        #     continue\n",
    "        for (ticker_near, ticker_next) in portfolio:\n",
    "            # ticker_near.df_futures.loc[timestamp, 'iv'] = ticker_near, ticker_next)\n",
    "            ticker_near.df_futures.loc[timestamp, 'iv'] = Helpers.get_normallized_iv(timestamp, ticker_near, ticker_next, True)\n",
    "            print(\"-.-.-.-.-.-.-.-.-.-.-.-.-.-.-.-.-.-.-.-.-.-.-.-.-.-\")\n",
    "        index_near.get_ic_at(timestamp, True)  \n",
    "        print(\"======================================================\")\n",
    "    ic = index_near.df_futures['ic'].to_frame()\n",
    "    ic.to_csv(f'{name}.csv', mode=mode, header=header_flag)\n",
    "    header_flag = False\n",
    "    mode = 'a'\n",
    "\n",
    "sys.stdout = original_stdout.value\n",
    "file.close()\n",
    "ic = pd.read_csv(f'{name}.csv', index_col=0, parse_dates=True)\n",
    "Plot.save_plot(Plot.plot_df(ic, 'ic'), f'{name}.html')"
   ]
  },
  {
   "cell_type": "code",
   "execution_count": null,
   "id": "737183f9",
   "metadata": {},
   "outputs": [],
   "source": [
    "name = 'IC_NormallizedIV_UnFilled'\n",
    "file = open(f\"LOGS_Generating_{name}.txt\", 'w', buffering=1)\n",
    "sys.stdout = file\n",
    "header_flag = True\n",
    "mode = 'w'\n",
    "date_range = pd.date_range(start=start_date, end=end_date, freq='ME')\n",
    "for month in date_range:\n",
    "    start, end = month.replace(day=1).date(), month.date()\n",
    "    index_near, index_next = get_indexes(start, end, True, False)\n",
    "    portfolio = [(index_near, index_next)]\n",
    "    portfolio += [(c_near, c_next) for (c_near, c_next) in zip(index_near.components.values(), index_next.components.values())]\n",
    "    for timestamp in index_near.timestamps:\n",
    "        # if ((timestamp + pd.offsets.MonthEnd(0)) - timestamp).days < 7:\n",
    "        #     index_near.df_futures.loc[timestamp, 'ic'] = 0\n",
    "        #     continue\n",
    "        for (ticker_near, ticker_next) in portfolio:\n",
    "            ticker_near.df_futures.loc[timestamp, 'iv'] = Helpers.get_normallized_iv(timestamp, ticker_near, ticker_next, True)\n",
    "            print(\"-.-.-.-.-.-.-.-.-.-.-.-.-.-.-.-.-.-.-.-.-.-.-.-.-.-\")\n",
    "        index_near.get_ic_at(timestamp, True)  \n",
    "        print(\"======================================================\")\n",
    "    ic = index_near.df_futures['ic'].to_frame()\n",
    "    ic.to_csv(f'{name}.csv', mode=mode, header=header_flag)\n",
    "    header_flag = False\n",
    "    mode = 'a'\n",
    "\n",
    "sys.stdout = original_stdout.value\n",
    "file.close()\n",
    "ic = pd.read_csv(f'{name}.csv', index_col=0, parse_dates=True)\n",
    "Plot.save_plot(Plot.plot_df(ic, 'ic'), f'{name}.html')"
   ]
  },
  {
   "cell_type": "code",
   "execution_count": null,
   "id": "0f968c9e",
   "metadata": {},
   "outputs": [],
   "source": [
    "name = 'IVWeighted_NearIV'\n",
    "file = open(f\"LOGS_Generating_{name}.txt\", 'w', buffering=1)\n",
    "sys.stdout = file\n",
    "header_flag = True\n",
    "mode = 'w'\n",
    "date_range = pd.date_range(start=start_date, end=end_date, freq='ME')\n",
    "for month in date_range:\n",
    "    start, end = month.replace(day=1).date(), month.date()\n",
    "    index_near= get_indexes(start, end, False, False)\n",
    "    for timestamp in index_near.timestamps:\n",
    "        numerator = index_near.get_iv_at(timestamp, True) \n",
    "        denominator = 0\n",
    "        for component in index_near.components.values():\n",
    "            denominator += component.get_iv_at(timestamp, True) * component.weight\n",
    "        index_near.df_futures.loc[timestamp, 'weightediv'] = numerator/denominator\n",
    "        print(\"======================================================\")\n",
    "    weightediv = index_near.df_futures['weightediv'].to_frame()\n",
    "    weightediv.to_csv(f'{name}.csv', mode=mode, header=header_flag)\n",
    "    header_flag = False\n",
    "    mode = 'a'\n",
    "\n",
    "sys.stdout = original_stdout.value\n",
    "file.close()\n",
    "weightediv = pd.read_csv(f'{name}.csv', index_col=0, parse_dates=True)\n",
    "Plot.save_plot(Plot.plot_df(weightediv, 'weightediv'), f'{name}.html')"
   ]
  },
  {
   "cell_type": "code",
   "execution_count": null,
   "id": "33978e70",
   "metadata": {},
   "outputs": [],
   "source": [
    "name = 'IVWeighted_NormallizedIV_Filled'\n",
    "file = open(f\"LOGS_Generating_{name}.txt\", 'w', buffering=1)\n",
    "sys.stdout = file\n",
    "header_flag = True\n",
    "mode = 'w'\n",
    "date_range = pd.date_range(start=start_date, end=end_date, freq='ME')\n",
    "for month in date_range:\n",
    "    start, end = month.replace(day=1).date(), month.date()\n",
    "    index_near, index_next = get_indexes(start, end, True, True)\n",
    "    for timestamp in index_near.timestamps:\n",
    "        numerator = Helpers.get_normallized_iv(timestamp, index_near, index_next, True)\n",
    "        denominator = 0\n",
    "        print(\"-.-.-.-.-.-.-.-.-.-.-.-.-.-.-.-.-.-.-.-.-.-.-.-.-.-\")  \n",
    "        for component_near, component_next in zip(index_near.components.values(), index_next.components.values()):\n",
    "            denominator += Helpers.get_normallized_iv(timestamp, component_near, component_next, True) * component_near.weight\n",
    "            print(\"-.-.-.-.-.-.-.-.-.-.-.-.-.-.-.-.-.-.-.-.-.-.-.-.-.-\")  \n",
    "        index_near.df_futures.loc[timestamp, 'weightediv'] = numerator/denominator\n",
    "        print(\"======================================================\")\n",
    "    weightediv = index_near.df_futures['weightediv'].to_frame()\n",
    "    weightediv.to_csv(f'{name}.csv', mode=mode, header=header_flag)\n",
    "    header_flag = False\n",
    "    mode = 'a'\n",
    "\n",
    "sys.stdout = original_stdout.value\n",
    "file.close()\n",
    "weightediv = pd.read_csv(f'{name}.csv', index_col=0, parse_dates=True)\n",
    "Plot.save_plot(Plot.plot_df(weightediv, 'weightediv'), f'{name}.html')"
   ]
  },
  {
   "cell_type": "code",
   "execution_count": null,
   "id": "f303a2ad",
   "metadata": {},
   "outputs": [],
   "source": [
    "name = 'IVWeighted_NormallizedIV_UnFilled'\n",
    "file = open(f\"LOGS_Generating_{name}.txt\", 'w', buffering=1)\n",
    "sys.stdout = file\n",
    "header_flag = True\n",
    "mode = 'w'\n",
    "date_range = pd.date_range(start=start_date, end=end_date, freq='ME')\n",
    "for month in date_range:\n",
    "    start, end = month.replace(day=1).date(), month.date()\n",
    "    index_near, index_next = get_indexes(start, end, True, False)\n",
    "    for timestamp in index_near.timestamps:\n",
    "        numerator = Helpers.get_normallized_iv(timestamp, index_near, index_next, True)\n",
    "        denominator = 0\n",
    "        print(\"-.-.-.-.-.-.-.-.-.-.-.-.-.-.-.-.-.-.-.-.-.-.-.-.-.-\")  \n",
    "        for component_near, component_next in zip(index_near.components.values(), index_next.components.values()):\n",
    "            denominator += Helpers.get_normallized_iv(timestamp, component_near, component_next, True) * component_near.weight\n",
    "            print(\"-.-.-.-.-.-.-.-.-.-.-.-.-.-.-.-.-.-.-.-.-.-.-.-.-.-\")  \n",
    "        index_near.df_futures.loc[timestamp, 'weightediv'] = numerator/denominator\n",
    "        print(\"======================================================\")\n",
    "    weightediv = index_near.df_futures['weightediv'].to_frame()\n",
    "    weightediv.to_csv(f'{name}.csv', mode=mode, header=header_flag)\n",
    "    header_flag = False\n",
    "    mode = 'a'\n",
    "\n",
    "sys.stdout = original_stdout.value\n",
    "file.close()\n",
    "weightediv = pd.read_csv(f'{name}.csv', index_col=0, parse_dates=True)\n",
    "Plot.save_plot(Plot.plot_df(weightediv, 'weightediv'), f'{name}.html')"
   ]
  },
  {
   "cell_type": "code",
   "execution_count": null,
   "id": "e9d78810",
   "metadata": {},
   "outputs": [],
   "source": [
    "# do one without filling too"
   ]
  },
  {
   "cell_type": "code",
   "execution_count": 14,
   "id": "5d440f16",
   "metadata": {},
   "outputs": [],
   "source": [
    "def calculate_rsi(data, window=15):\n",
    "    \"\"\"\n",
    "    Calculate the Relative Strength Index (RSI) for a given dataset.\n",
    "    \n",
    "    Parameters:\n",
    "    - data: pandas Series or DataFrame column containing price data.\n",
    "    - window: Look-back period for RSI calculation (default is 14).\n",
    "    \n",
    "    Returns:\n",
    "    - pandas Series containing RSI values.\n",
    "    \"\"\"\n",
    "    # Calculate price changes\n",
    "    delta = data.diff()\n",
    "    \n",
    "    # Separate gains and losses\n",
    "    gain = (delta.where(delta > 0, 0))\n",
    "    loss = (-delta.where(delta < 0, 0))\n",
    "    \n",
    "    # Calculate the average gain and loss\n",
    "    avg_gain = gain.rolling(window=window, min_periods=1).mean()\n",
    "    avg_loss = loss.rolling(window=window, min_periods=1).mean()\n",
    "    \n",
    "    # Calculate Relative Strength (RS)\n",
    "    rs = avg_gain / avg_loss\n",
    "    \n",
    "    # Calculate RSI\n",
    "    rsi = 1 - (1 / (1 + rs))\n",
    "    \n",
    "    return rsi"
   ]
  },
  {
   "cell_type": "code",
   "execution_count": null,
   "id": "f60b8604",
   "metadata": {},
   "outputs": [],
   "source": [
    "rsi = calculate_rsi(ic, 15)"
   ]
  },
  {
   "cell_type": "code",
   "execution_count": null,
   "id": "7f7eef0e",
   "metadata": {},
   "outputs": [],
   "source": [
    "rsi"
   ]
  },
  {
   "cell_type": "code",
   "execution_count": null,
   "id": "660486f8",
   "metadata": {},
   "outputs": [],
   "source": [
    "rsi = rsi/100\n",
    "ic['rsi'] = rsi\n",
    "ic['upper'] = rsi[rsi > 0.7]\n",
    "ic['lower'] = rsi[rsi < 0.3]"
   ]
  },
  {
   "cell_type": "code",
   "execution_count": null,
   "id": "7ee19688",
   "metadata": {},
   "outputs": [],
   "source": [
    "figg = Plot.plot_df(ic, *ic.columns)\n",
    "Plot.save_plot(figg, 'ic_rsi.html')"
   ]
  },
  {
   "cell_type": "code",
   "execution_count": null,
   "id": "a02e722f",
   "metadata": {},
   "outputs": [],
   "source": [
    "ic_15, _ = dp.get_continuous_excluding_market_holidays(ic, False, 15)"
   ]
  },
  {
   "cell_type": "code",
   "execution_count": null,
   "id": "448f324a",
   "metadata": {},
   "outputs": [],
   "source": [
    "ic_15 = ic_15['ic'].to_frame()"
   ]
  },
  {
   "cell_type": "code",
   "execution_count": null,
   "id": "14ba965b",
   "metadata": {},
   "outputs": [],
   "source": [
    "rsi_2 = calculate_rsi(ic_15, 2)/100\n",
    "ic_15['rsi_2'] = rsi_2\n",
    "ic_15['upper'] = rsi_2[rsi_2 > 0.7]\n",
    "ic_15['lower'] = rsi_2[rsi_2 < 0.3]\n",
    "Plot.save_plot(Plot.plot_df(ic_15, *ic_15.columns), 'ic_15_rsi_2.html')"
   ]
  },
  {
   "cell_type": "code",
   "execution_count": null,
   "id": "b6afc4ca",
   "metadata": {},
   "outputs": [],
   "source": [
    "ic = pd.read_csv(r, index_col = 0, parse_dates=True)"
   ]
  },
  {
   "cell_type": "code",
   "execution_count": null,
   "id": "e258010b",
   "metadata": {},
   "outputs": [],
   "source": [
    "from Modules import Data_Processing as dp"
   ]
  },
  {
   "cell_type": "code",
   "execution_count": null,
   "id": "7e4dc3cd",
   "metadata": {},
   "outputs": [],
   "source": [
    "ic_15 = dp.get_resampled_data(r'c:\\Users\\vinayak\\Desktop\\Backtesting\\Dispersion\\Optimizations\\ICs\\IC_NormallizedIV_Filled.csv', 15)"
   ]
  },
  {
   "cell_type": "code",
   "execution_count": null,
   "id": "dacdb235",
   "metadata": {},
   "outputs": [],
   "source": [
    "ic_15['ic_smoothened'] = ic_15.ewm(span=3).mean()"
   ]
  },
  {
   "cell_type": "code",
   "execution_count": null,
   "id": "1ae8fbe9",
   "metadata": {},
   "outputs": [],
   "source": [
    "ic_15['rsi_2'] = calculate_rsi(ic_15['ic_smoothened'], 2)"
   ]
  },
  {
   "cell_type": "code",
   "execution_count": null,
   "id": "ea8989ad",
   "metadata": {},
   "outputs": [],
   "source": [
    "ic_15"
   ]
  },
  {
   "cell_type": "code",
   "execution_count": null,
   "id": "c78ba5da",
   "metadata": {},
   "outputs": [],
   "source": [
    "ic_15['rsi_upper'] = ic_15['rsi_2'][ic_15['rsi_2'] > 0.9]\n",
    "ic_15['rsi_lower'] = ic_15['rsi_2'][ic_15['rsi_2'] < 0.1]"
   ]
  },
  {
   "cell_type": "code",
   "execution_count": null,
   "id": "5704d942",
   "metadata": {},
   "outputs": [],
   "source": [
    "fig = Plot.plot_df(ic_15, *(ic_15.columns))"
   ]
  },
  {
   "cell_type": "code",
   "execution_count": null,
   "id": "1cc15dc7",
   "metadata": {},
   "outputs": [],
   "source": [
    "Plot.save_plot(fig, 'ic_15_rsi_2_smoothened.html')"
   ]
  },
  {
   "cell_type": "code",
   "execution_count": null,
   "id": "0fd65492",
   "metadata": {},
   "outputs": [],
   "source": []
  }
 ],
 "metadata": {
  "kernelspec": {
   "display_name": "Python 3",
   "language": "python",
   "name": "python3"
  },
  "language_info": {
   "codemirror_mode": {
    "name": "ipython",
    "version": 3
   },
   "file_extension": ".py",
   "mimetype": "text/x-python",
   "name": "python",
   "nbconvert_exporter": "python",
   "pygments_lexer": "ipython3",
   "version": "3.12.1"
  }
 },
 "nbformat": 4,
 "nbformat_minor": 5
}
