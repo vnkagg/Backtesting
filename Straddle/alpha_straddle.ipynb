{
 "cells": [
  {
   "cell_type": "code",
   "execution_count": 1,
   "id": "5f163f60-efbf-4051-8826-ee9cb3973cc0",
   "metadata": {},
   "outputs": [],
   "source": [
    "import psycopg2\n",
    "import numpy as np\n",
    "import pandas as pd"
   ]
  },
  {
   "cell_type": "code",
   "execution_count": 2,
   "id": "58e3d879-4846-4433-8695-2c48ab8edbf0",
   "metadata": {},
   "outputs": [],
   "source": [
    "import plotly.express as px\n",
    "import plotly.graph_objs as go"
   ]
  },
  {
   "cell_type": "code",
   "execution_count": 3,
   "id": "116b4d19-f143-4ed9-a10d-68e351e944df",
   "metadata": {},
   "outputs": [],
   "source": [
    "from datetime import datetime, time"
   ]
  },
  {
   "cell_type": "code",
   "execution_count": 4,
   "id": "1cd4241f-655c-4692-ba82-41df57af01cb",
   "metadata": {},
   "outputs": [],
   "source": [
    "import copy"
   ]
  },
  {
   "cell_type": "code",
   "execution_count": 5,
   "id": "66ae9029-1e34-453a-abbd-92fcfbcfe876",
   "metadata": {},
   "outputs": [],
   "source": [
    "host=\"192.168.2.23\"\n",
    "port=5432\n",
    "user=\"amt\"\n",
    "dbname=\"qdap_test\""
   ]
  },
  {
   "metadata": {
    "ExecuteTime": {
     "end_time": "2024-10-04T04:27:42.359741Z",
     "start_time": "2024-10-04T04:27:42.346991Z"
    }
   },
   "cell_type": "code",
   "source": [
    "import sys\n",
    "sys.stdout"
   ],
   "id": "781cb3e2a5ff1d56",
   "outputs": [
    {
     "data": {
      "text/plain": [
       "<ipykernel.iostream.OutStream at 0x1ef3151e170>"
      ]
     },
     "execution_count": 2,
     "metadata": {},
     "output_type": "execute_result"
    }
   ],
   "execution_count": 2
  },
  {
   "cell_type": "code",
   "execution_count": 6,
   "id": "a1e574b2-99de-4edd-a6bd-4634f5f77df0",
   "metadata": {},
   "outputs": [],
   "source": [
    "def make_connection_to_db(host, port, user, dbname):\n",
    "    conn = psycopg2.connect(host= host, port=port, user=user, dbname=dbname)\n",
    "    cursor = conn.cursor()\n",
    "    return cursor, conn"
   ]
  },
  {
   "cell_type": "code",
   "execution_count": 7,
   "id": "c317cf15-b2fc-4bf5-90a4-6083eeab7300",
   "metadata": {},
   "outputs": [],
   "source": [
    "def fetch_options_data_timeframe(cursor, symbol, expiry_type, start_date, end_date):\n",
    "    cursor.execute(\n",
    "        f'''\n",
    "            SELECT *\n",
    "            FROM ohlcv_options_per_minute oopm\n",
    "            WHERE symbol = '{symbol}' \n",
    "            AND oopm.expiry_type = '{expiry_type}'\n",
    "            AND oopm.date_timestamp >= '{start_date}'\n",
    "            AND oopm.date_timestamp <= '{end_date}'\n",
    "            ORDER BY date_timestamp ASC;\n",
    "        '''\n",
    "    )\n",
    "    rows = cursor.fetchall()\n",
    "    df = pd.DataFrame(rows, columns=[desc[0] for desc in cursor.description])\n",
    "    return df"
   ]
  },
  {
   "cell_type": "code",
   "execution_count": 8,
   "id": "fb94b876-213a-4a11-8da6-f3ac81dd0f83",
   "metadata": {},
   "outputs": [],
   "source": [
    "def fetch_futures_data_timeframe(cursor, symbol, expiry_type, start_date, end_date):\n",
    "    query = f'''\n",
    "        SELECT *\n",
    "        FROM ohlcv_future_per_minute ofpm\n",
    "        WHERE ofpm.symbol = '{symbol}'\n",
    "        AND ofpm.expiry_type = '{expiry_type}'\n",
    "        AND date_timestamp >= '{start_date}'\n",
    "        AND date_timestamp <= '{end_date}'\n",
    "        ORDER BY date_timestamp ASC;\n",
    "    '''\n",
    "    cursor.execute(query)\n",
    "    rows = cursor.fetchall()\n",
    "    df = pd.DataFrame(rows, columns=[desc[0] for desc in cursor.description])\n",
    "    return df"
   ]
  },
  {
   "cell_type": "code",
   "execution_count": 9,
   "id": "6133d1fe-259c-47c1-b71a-830aec39261c",
   "metadata": {},
   "outputs": [],
   "source": [
    "def fetch(host, port, user, dbname, symbols, expiry_type_futures, expiry_type_options, start_date, end_date):\n",
    "    cursor, conn = make_connection_to_db(host, port, user, dbname)\n",
    "    dictionary_futures = {}\n",
    "    dictionary_options = {}\n",
    "    for symbol in symbols:\n",
    "        df_futures = fetch_futures_data_timeframe(cursor, symbol, expiry_type_futures, start_date, end_date)\n",
    "        df_futures['date_timestamp'] = pd.to_datetime(df_futures['date_timestamp'])\n",
    "        df_futures['expiry'] = pd.to_datetime(df_futures['expiry'])\n",
    "        \n",
    "        df_options = fetch_options_data_timeframe(cursor, symbol, expiry_type_options, start_date, end_date)\n",
    "        df_options['date_timestamp'] = pd.to_datetime(df_options['date_timestamp'])\n",
    "        df_options['expiry'] = pd.to_datetime(df_options['expiry'])\n",
    "        \n",
    "        df_options = df_options[df_options['date_timestamp'].dt.date == df_options['expiry'].dt.date]\n",
    "        expiries = pd.to_datetime(df_options['expiry']).dt.date\n",
    "        df_futures = df_futures[df_futures['date_timestamp'].dt.date.isin(expiries)]\n",
    "        \n",
    "        dictionary_futures[symbol] = df_futures\n",
    "        dictionary_options[symbol] = df_options\n",
    "    cursor.close()\n",
    "    conn.close()\n",
    "    return dictionary_futures, dictionary_options"
   ]
  },
  {
   "cell_type": "raw",
   "id": "97a6ed19-94c6-4a7d-88b0-cce0e94acd59",
   "metadata": {},
   "source": [
    "MIDCAP NIFTY: MONDAY\n",
    "FINNIFTY: TUESDAY\n",
    "BANKNIFTY: WEDNESDAY\n",
    "NIFTY: THURSDAY\n",
    "BSE SENSEX: FRIDAY"
   ]
  },
  {
   "cell_type": "code",
   "execution_count": 10,
   "id": "7a27397c-6af7-41f5-a10a-6895e7c1c165",
   "metadata": {},
   "outputs": [],
   "source": [
    "symbols = [\"BANKNIFTY\", \"NIFTY\", \"FINNIFTY\", \"MIDCPNIFTY\"]\n",
    "start_date = '2023-09-06'\n",
    "end_date = '2024-05-01'\n",
    "expiry_type_options = 'IW1'\n",
    "expiry_type_futures = 'I'\n",
    "moneyness_strike = 0\n",
    "fund_locked = 1000 # inr\n",
    "fund_locked *= 100\n",
    "transaction_cost = 11.5\n",
    "slippage = 10"
   ]
  },
  {
   "cell_type": "code",
   "execution_count": 11,
   "id": "c57b006b-6348-4760-a895-e0bdb58d6b6f",
   "metadata": {},
   "outputs": [],
   "source": [
    "DICT_FUTURES, DICT_OPTIONS = fetch(host, port, user, dbname, symbols, expiry_type_futures, expiry_type_options, start_date, end_date)"
   ]
  },
  {
   "cell_type": "code",
   "execution_count": 12,
   "id": "fe8185aa-d629-4a18-9471-f0a6d3a95004",
   "metadata": {},
   "outputs": [],
   "source": [
    "dict_futures = DICT_FUTURES.copy()\n",
    "dict_options = DICT_OPTIONS.copy()"
   ]
  },
  {
   "cell_type": "code",
   "execution_count": 13,
   "id": "92087e5c-aee8-45ac-9d86-5113cd8ccd67",
   "metadata": {},
   "outputs": [],
   "source": [
    "def fill_df_and_get_continuous_excluding_market_holidays(df, market_holidays_csv_path = r'C:\\Users\\user4\\Desktop\\exchange_holidays.csv'):\n",
    "    # reading the market holidays from the list provided to us\n",
    "    df = df.copy()\n",
    "    market_holidays_df = pd.read_csv(market_holidays_csv_path, parse_dates=['holiday_date'])\n",
    "    market_holidays = market_holidays_df['holiday_date'].dt.date.tolist()\n",
    "    # generating a range of all the dates that exists from the first date to the last date\n",
    "    start_date = df['date_timestamp'].dt.date.iloc[0]\n",
    "    end_date = df['date_timestamp'].dt.date.iloc[-1]\n",
    "    all_days = pd.date_range(start=start_date, end=end_date, freq='B')\n",
    "    # mask for the invalid days \n",
    "    trading_holidays = all_days.to_series().apply(lambda x: x.date() in market_holidays)\n",
    "    trading_days = all_days[~trading_holidays]\n",
    "    # Generate a complete range of the 375 trading minutes for each trading day\n",
    "    trading_minutes = pd.date_range(start='09:15:00', end='15:29:00', freq='min').time\n",
    "    # Create a complete index of trading timestamps\n",
    "    complete_index = pd.DatetimeIndex([pd.Timestamp.combine(day, time) for day in trading_days for time in trading_minutes])\n",
    "    df = df.set_index('date_timestamp')\n",
    "    try:\n",
    "        df = df.reindex(complete_index).ffill()\n",
    "    except:\n",
    "        pass\n",
    "    return df, complete_index"
   ]
  },
  {
   "cell_type": "code",
   "execution_count": 14,
   "id": "dcc5c005-b6ed-45e5-a24e-abce44aa2148",
   "metadata": {},
   "outputs": [],
   "source": [
    "def process_parse_futures(df_futures):\n",
    "    df_futures = df_futures.copy()\n",
    "    # dropping duplicate entries\n",
    "    df_futures = df_futures.drop_duplicates(subset='date_timestamp', keep='first')\n",
    "    # required information\n",
    "    info_needed = [\"high\", \"low\", \"open\", \"close\", \"date_timestamp\"]\n",
    "    df_futures = df_futures[info_needed]\n",
    "    # made continuous data if there were some discontinuity in the available data\n",
    "    _, complete_index = fill_df_and_get_continuous_excluding_market_holidays(df_futures)\n",
    "    df_futures = df_futures.set_index('date_timestamp')\n",
    "    df_futures = df_futures.reindex(complete_index).ffill()\n",
    "    return df_futures"
   ]
  },
  {
   "cell_type": "code",
   "execution_count": 15,
   "id": "19615a7c-d364-4b6c-9bd1-5e22e6a54f6b",
   "metadata": {},
   "outputs": [],
   "source": [
    "def convert(df, complete_index, ohlc):\n",
    "    df = df.copy()\n",
    "    df = df.pivot(columns='strike', values=ohlc)\n",
    "    df = df.reindex(complete_index).ffill()\n",
    "    return df"
   ]
  },
  {
   "cell_type": "code",
   "execution_count": 16,
   "id": "15675100-49a0-4dea-a5fa-103720b5f46e",
   "metadata": {},
   "outputs": [],
   "source": [
    "def process_parse_options(df_options):\n",
    "    df_options = df_options.copy()\n",
    "    info_needed = ['low', 'high', 'open', 'close']\n",
    "    # dropping duplicate entries\n",
    "    df_options = df_options.drop_duplicates(subset=['date_timestamp', 'strike', 'opt_type'], keep='first')\n",
    "    # processing calls\n",
    "    df_calls = df_options[(df_options['opt_type'] == 'CE')]\n",
    "    _, complete_index = fill_df_and_get_continuous_excluding_market_holidays(df_calls)\n",
    "    df_calls = df_calls.set_index('date_timestamp')\n",
    "    df_calls = [convert(df_calls, complete_index, info) for info in info_needed]\n",
    "    # ease of access of a calls open close as a function of timestamp and strike\n",
    "    # tracking all the existing strikes that were available for the calls\n",
    "    call_strikes = np.array(df_calls[0].columns, dtype=int)\n",
    "    # processing puts\n",
    "    df_puts  = df_options[(df_options['opt_type'] == 'PE')]\n",
    "    _, complete_index = fill_df_and_get_continuous_excluding_market_holidays(df_puts)\n",
    "    df_puts = df_puts.set_index('date_timestamp')\n",
    "    # ease of access of a puts open close as a function of timestamp and strike\n",
    "    df_puts = [convert(df_puts, complete_index, info) for info in info_needed]\n",
    "    # tracking all the existing strikes that were available for the puts\n",
    "    put_strikes = np.array(df_puts[0].columns, dtype=int)\n",
    "    return df_puts, df_calls, [put_strikes, call_strikes]"
   ]
  },
  {
   "cell_type": "code",
   "execution_count": 17,
   "id": "c31fb192-f3a4-4fcf-aada-3031e65435eb",
   "metadata": {},
   "outputs": [],
   "source": [
    "# def filter_futures_data_for_options(symbols, dict_futures, dict_options):\n",
    "#     master_df = {}\n",
    "#     for symbol in symbols:\n",
    "#         df_futures = dict_futures[symbol]\n",
    "#         df_options = dict_options[symbol]\n",
    "#         df_futures = process_parse_futures(df_futures)\n",
    "#         df_puts, df_calls, [strikes_put, strikes_call] = process_parse_options(df_options)\n",
    "#         # df_symbol_callsclose_futures = df_calls_close.join(df_futures, how='left')\n",
    "#         # df_symbol_putsclose_futures = df_puts_close.join(df_futures, how='left')\n",
    "#         # df_symbol = [df_symbol_putsclose_futures, df_symbol_callsclose_futures]\n",
    "#         df_symbol = [df_puts, df_calls, df_futures]\n",
    "#         master_df[symbol] = df_symbol\n",
    "#     return master_df"
   ]
  },
  {
   "cell_type": "code",
   "execution_count": 18,
   "id": "7c7a1cf4-37a4-4085-8646-2888894b402c",
   "metadata": {},
   "outputs": [],
   "source": [
    "def get_common_strikes(symbols, dict_options):\n",
    "    dict_options = copy.deepcopy(dict_options)\n",
    "    strikes = {}\n",
    "    for symbol in symbols:\n",
    "        df_options = dict_options[symbol]\n",
    "        _, _, [put_strikes, call_strikes] = process_parse_options(df_options)\n",
    "        common_strikes = set(put_strikes).intersection(set(call_strikes))\n",
    "        common_strikes = sorted(list(common_strikes))\n",
    "        common_strikes = pd.Series(common_strikes)\n",
    "        strikes[symbol] = common_strikes\n",
    "    return strikes"
   ]
  },
  {
   "cell_type": "code",
   "execution_count": 19,
   "id": "0192a017-8b49-47a7-8b8e-99ed1cf7d91a",
   "metadata": {},
   "outputs": [],
   "source": [
    "def get_synthetic_futures(symbols, dict_options, dict_futures):\n",
    "    dict_options = copy.deepcopy(dict_options)\n",
    "    dict_futures = copy.deepcopy(dict_futures)\n",
    "    common_strikes_symbols = get_common_strikes(symbols, dict_options)\n",
    "    ohlc_list = ['open', 'high', 'low', 'close']\n",
    "    for symbol in symbols:\n",
    "        df_futures = dict_futures[symbol]\n",
    "        df_options = dict_options[symbol]\n",
    "        # Process and parse futures and options data\n",
    "        df_futures = process_parse_futures(df_futures)\n",
    "        df_calls, df_puts, all_strikes = process_parse_options(df_options)\n",
    "        common_strikes = np.array(common_strikes_symbols[symbol])  # Ensure common_strikes is a NumPy array\n",
    "        # Initialize synthetic columns with 0\n",
    "        df_futures[['synthetic_' + ohlc for ohlc in ohlc_list]] = 0\n",
    "        for time_index in range(df_puts[0].shape[0]):\n",
    "            for ohlc_i, ohlc in enumerate(ohlc_list):\n",
    "                future_price = df_futures[ohlc].iloc[time_index]\n",
    "                # Find the closest strike index to the futures price\n",
    "                ix = np.argmin(np.abs(common_strikes - future_price))\n",
    "                c_minus_p = np.inf\n",
    "                synthetic_future = None\n",
    "                # Search within a range of moneyness\n",
    "                for moneyness in range(max(ix - 10, 0), min(ix + 10, len(common_strikes))):\n",
    "                    strike = common_strikes[moneyness]\n",
    "                    diff = df_calls[ohlc_i].iloc[time_index][strike] - df_puts[ohlc_i].iloc[time_index][strike]\n",
    "                    if diff < c_minus_p:\n",
    "                        c_minus_p = diff\n",
    "                        synthetic_future = strike + c_minus_p\n",
    "                # Assign the synthetic future value\n",
    "                df_futures.at[df_futures.index[time_index], 'synthetic_' + ohlc] = synthetic_future\n",
    "        dict_futures[symbol] = df_futures\n",
    "    return dict_futures"
   ]
  },
  {
   "cell_type": "code",
   "execution_count": 20,
   "id": "0aa0c093-f397-4dcf-a7cd-a208d0d0ca7f",
   "metadata": {},
   "outputs": [
    {
     "ename": "IndexError",
     "evalue": "single positional indexer is out-of-bounds",
     "output_type": "error",
     "traceback": [
      "\u001B[1;31m---------------------------------------------------------------------------\u001B[0m",
      "\u001B[1;31mIndexError\u001B[0m                                Traceback (most recent call last)",
      "Cell \u001B[1;32mIn[20], line 1\u001B[0m\n\u001B[1;32m----> 1\u001B[0m dict_futures_with_synthetic \u001B[38;5;241m=\u001B[39m get_synthetic_futures(symbols, dict_options, dict_futures)\n",
      "Cell \u001B[1;32mIn[19], line 17\u001B[0m, in \u001B[0;36mget_synthetic_futures\u001B[1;34m(symbols, dict_options, dict_futures)\u001B[0m\n\u001B[0;32m     15\u001B[0m \u001B[38;5;28;01mfor\u001B[39;00m time_index \u001B[38;5;129;01min\u001B[39;00m \u001B[38;5;28mrange\u001B[39m(df_puts[\u001B[38;5;241m0\u001B[39m]\u001B[38;5;241m.\u001B[39mshape[\u001B[38;5;241m0\u001B[39m]):\n\u001B[0;32m     16\u001B[0m     \u001B[38;5;28;01mfor\u001B[39;00m ohlc_i, ohlc \u001B[38;5;129;01min\u001B[39;00m \u001B[38;5;28menumerate\u001B[39m(ohlc_list):\n\u001B[1;32m---> 17\u001B[0m         future_price \u001B[38;5;241m=\u001B[39m df_futures[ohlc]\u001B[38;5;241m.\u001B[39miloc[time_index]\n\u001B[0;32m     18\u001B[0m         \u001B[38;5;66;03m# Find the closest strike index to the futures price\u001B[39;00m\n\u001B[0;32m     19\u001B[0m         ix \u001B[38;5;241m=\u001B[39m np\u001B[38;5;241m.\u001B[39margmin(np\u001B[38;5;241m.\u001B[39mabs(common_strikes \u001B[38;5;241m-\u001B[39m future_price))\n",
      "File \u001B[1;32mC:\\ProgramData\\anaconda3\\Lib\\site-packages\\pandas\\core\\indexing.py:1191\u001B[0m, in \u001B[0;36m_LocationIndexer.__getitem__\u001B[1;34m(self, key)\u001B[0m\n\u001B[0;32m   1189\u001B[0m maybe_callable \u001B[38;5;241m=\u001B[39m com\u001B[38;5;241m.\u001B[39mapply_if_callable(key, \u001B[38;5;28mself\u001B[39m\u001B[38;5;241m.\u001B[39mobj)\n\u001B[0;32m   1190\u001B[0m maybe_callable \u001B[38;5;241m=\u001B[39m \u001B[38;5;28mself\u001B[39m\u001B[38;5;241m.\u001B[39m_check_deprecated_callable_usage(key, maybe_callable)\n\u001B[1;32m-> 1191\u001B[0m \u001B[38;5;28;01mreturn\u001B[39;00m \u001B[38;5;28mself\u001B[39m\u001B[38;5;241m.\u001B[39m_getitem_axis(maybe_callable, axis\u001B[38;5;241m=\u001B[39maxis)\n",
      "File \u001B[1;32mC:\\ProgramData\\anaconda3\\Lib\\site-packages\\pandas\\core\\indexing.py:1752\u001B[0m, in \u001B[0;36m_iLocIndexer._getitem_axis\u001B[1;34m(self, key, axis)\u001B[0m\n\u001B[0;32m   1749\u001B[0m     \u001B[38;5;28;01mraise\u001B[39;00m \u001B[38;5;167;01mTypeError\u001B[39;00m(\u001B[38;5;124m\"\u001B[39m\u001B[38;5;124mCannot index by location index with a non-integer key\u001B[39m\u001B[38;5;124m\"\u001B[39m)\n\u001B[0;32m   1751\u001B[0m \u001B[38;5;66;03m# validate the location\u001B[39;00m\n\u001B[1;32m-> 1752\u001B[0m \u001B[38;5;28mself\u001B[39m\u001B[38;5;241m.\u001B[39m_validate_integer(key, axis)\n\u001B[0;32m   1754\u001B[0m \u001B[38;5;28;01mreturn\u001B[39;00m \u001B[38;5;28mself\u001B[39m\u001B[38;5;241m.\u001B[39mobj\u001B[38;5;241m.\u001B[39m_ixs(key, axis\u001B[38;5;241m=\u001B[39maxis)\n",
      "File \u001B[1;32mC:\\ProgramData\\anaconda3\\Lib\\site-packages\\pandas\\core\\indexing.py:1685\u001B[0m, in \u001B[0;36m_iLocIndexer._validate_integer\u001B[1;34m(self, key, axis)\u001B[0m\n\u001B[0;32m   1683\u001B[0m len_axis \u001B[38;5;241m=\u001B[39m \u001B[38;5;28mlen\u001B[39m(\u001B[38;5;28mself\u001B[39m\u001B[38;5;241m.\u001B[39mobj\u001B[38;5;241m.\u001B[39m_get_axis(axis))\n\u001B[0;32m   1684\u001B[0m \u001B[38;5;28;01mif\u001B[39;00m key \u001B[38;5;241m>\u001B[39m\u001B[38;5;241m=\u001B[39m len_axis \u001B[38;5;129;01mor\u001B[39;00m key \u001B[38;5;241m<\u001B[39m \u001B[38;5;241m-\u001B[39mlen_axis:\n\u001B[1;32m-> 1685\u001B[0m     \u001B[38;5;28;01mraise\u001B[39;00m \u001B[38;5;167;01mIndexError\u001B[39;00m(\u001B[38;5;124m\"\u001B[39m\u001B[38;5;124msingle positional indexer is out-of-bounds\u001B[39m\u001B[38;5;124m\"\u001B[39m)\n",
      "\u001B[1;31mIndexError\u001B[0m: single positional indexer is out-of-bounds"
     ]
    }
   ],
   "source": [
    "dict_futures_with_synthetic = get_synthetic_futures(symbols, dict_options, dict_futures)"
   ]
  },
  {
   "cell_type": "code",
   "execution_count": null,
   "id": "41580bba-a0ec-49a3-b3d6-9eef1557b84f",
   "metadata": {},
   "outputs": [],
   "source": [
    "def ATR(df_futures, period=14):\n",
    "    df_futures = df_futures.copy()\n",
    "    df_futures['previous_close'] = df_futures['close'].shift(1)\n",
    "    df_futures['tr1'] = df_futures['high'] - df_futures['low']\n",
    "    df_futures['tr2'] = (df_futures['high'] - df_futures['previous_close']).abs()\n",
    "    df_futures['tr3'] = (df_futures['low'] - df_futures['previous_close']).abs()\n",
    "    df_futures['true_range'] = df_futures[['tr1', 'tr2', 'tr3']].max(axis=1)\n",
    "    # Calculate the ATR (using the Exponential Moving Average)\n",
    "    df_futures['atr'] = df_futures['true_range'].ewm(span=period, adjust=False).mean()\n",
    "    # Drop the intermediate columns used for calculation\n",
    "    df_futures.drop(columns=['previous_close', 'tr1', 'tr2', 'tr3', 'true_range'], inplace=True)\n",
    "    return df_futures"
   ]
  },
  {
   "cell_type": "code",
   "execution_count": null,
   "id": "eeb6d340-06af-480d-bcc3-29a97d5be6b4",
   "metadata": {},
   "outputs": [],
   "source": [
    "df_futures = dict_futures['BANKNIFTY']\n",
    "df_options = dict_options['BANKNIFTY']\n",
    "# Process and parse futures and options data\n",
    "df_futures = process_parse_futures(df_futures)\n",
    "df_calls, df_puts, all_strikes = process_parse_options(df_options)"
   ]
  }
 ],
 "metadata": {
  "kernelspec": {
   "display_name": "Python 3 (ipykernel)",
   "language": "python",
   "name": "python3"
  },
  "language_info": {
   "codemirror_mode": {
    "name": "ipython",
    "version": 3
   },
   "file_extension": ".py",
   "mimetype": "text/x-python",
   "name": "python",
   "nbconvert_exporter": "python",
   "pygments_lexer": "ipython3",
   "version": "3.12.4"
  }
 },
 "nbformat": 4,
 "nbformat_minor": 5
}
