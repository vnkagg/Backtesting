{
 "cells": [
  {
   "cell_type": "code",
   "execution_count": 1,
   "id": "5f163f60-efbf-4051-8826-ee9cb3973cc0",
   "metadata": {},
   "outputs": [],
   "source": [
    "import psycopg2\n",
    "import numpy as np\n",
    "import pandas as pd"
   ]
  },
  {
   "cell_type": "code",
   "execution_count": 3,
   "id": "58e3d879-4846-4433-8695-2c48ab8edbf0",
   "metadata": {},
   "outputs": [],
   "source": [
    "import plotly.express as px\n",
    "import plotly.graph_objs as go"
   ]
  },
  {
   "cell_type": "code",
   "execution_count": 5,
   "id": "116b4d19-f143-4ed9-a10d-68e351e944df",
   "metadata": {},
   "outputs": [],
   "source": [
    "from datetime import datetime, time"
   ]
  },
  {
   "cell_type": "code",
   "execution_count": 7,
   "id": "66ae9029-1e34-453a-abbd-92fcfbcfe876",
   "metadata": {},
   "outputs": [],
   "source": [
    "host=\"192.168.2.23\"\n",
    "port=5432\n",
    "user=\"amt\"\n",
    "dbname=\"qdap_test\""
   ]
  },
  {
   "cell_type": "code",
   "execution_count": 9,
   "id": "a1e574b2-99de-4edd-a6bd-4634f5f77df0",
   "metadata": {},
   "outputs": [],
   "source": [
    "def make_connection_to_db(host, port, user, dbname):\n",
    "    conn = psycopg2.connect(host= host, port=port, user=user, dbname=dbname)\n",
    "    cursor = conn.cursor()\n",
    "    return cursor, conn"
   ]
  },
  {
   "cell_type": "code",
   "execution_count": 25,
   "id": "c317cf15-b2fc-4bf5-90a4-6083eeab7300",
   "metadata": {},
   "outputs": [],
   "source": [
    "def fetch_options_data_timeframe(cursor, symbol, expiry_type, start_date, end_date):\n",
    "    cursor.execute(\n",
    "        f'''\n",
    "            SELECT *\n",
    "            FROM ohlcv_options_per_minute oopm\n",
    "            WHERE symbol = '{symbol}' \n",
    "            AND oopm.expiry_type = '{expiry_type}'\n",
    "            AND date_timestamp >= '{start_date}'\n",
    "            AND date_timestamp <= '{end_date}'\n",
    "            ORDER BY date_timestamp ASC;\n",
    "        '''\n",
    "    )\n",
    "    rows = cursor.fetchall()\n",
    "    df = pd.DataFrame(rows, columns=[desc[0] for desc in cursor.description])\n",
    "    return df"
   ]
  },
  {
   "cell_type": "code",
   "execution_count": 27,
   "id": "fb94b876-213a-4a11-8da6-f3ac81dd0f83",
   "metadata": {},
   "outputs": [],
   "source": [
    "def fetch_futures_data_timeframe(cursor, symbol, expiry_type, start_date, end_date):\n",
    "    query = f'''\n",
    "        SELECT *\n",
    "        FROM ohlcv_future_per_minute ofpm\n",
    "        WHERE ofpm.symbol = '{symbol}'\n",
    "        AND ofpm.expiry_type = '{expiry_type}'\n",
    "        AND date_timestamp >= '{start_date}'\n",
    "        AND date_timestamp <= '{end_date}'\n",
    "        ORDER BY date_timestamp ASC;\n",
    "    '''\n",
    "    cursor.execute(query)\n",
    "    rows = cursor.fetchall()\n",
    "    df = pd.DataFrame(rows, columns=[desc[0] for desc in cursor.description])\n",
    "    return df"
   ]
  },
  {
   "cell_type": "code",
   "execution_count": 43,
   "id": "6133d1fe-259c-47c1-b71a-830aec39261c",
   "metadata": {},
   "outputs": [],
   "source": [
    "def fetch(host, port, user, dbname, symbols, expiry_type_futures, expiry_type_options, start_date, end_date):\n",
    "    cursor, conn = make_connection_to_db(host, port, user, dbname)\n",
    "    dictionary_futures = {}\n",
    "    dictionary_options = {}\n",
    "    for symbol in symbols:\n",
    "        df_futures = fetch_futures_data_timeframe(cursor, symbol, expiry_type_futures, start_date, end_date)\n",
    "        df_futures['date_timestamp'] = pd.to_datetime(df_futures['date_timestamp'])\n",
    "        df_futures['expiry'] = pd.to_datetime(df_futures['expiry'])\n",
    "        \n",
    "        df_options = fetch_options_data_timeframe(cursor, symbol, expiry_type_options, start_date, end_date)\n",
    "        df_options['date_timestamp'] = pd.to_datetime(df_options['date_timestamp'])\n",
    "        df_options['expiry'] = pd.to_datetime(df_options['expiry'])\n",
    "        \n",
    "        df_options = df_options[df_options['date_timestamp'].dt.date == df_options['expiry'].dt.date]\n",
    "        expiries = pd.to_datetime(df_options['expiry']).dt.date\n",
    "        df_futures = df_futures[df_futures['date_timestamp'].dt.date.isin(expiries)]\n",
    "        \n",
    "        dictionary_futures[symbol] = df_futures\n",
    "        dictionary_options[symbol] = df_options\n",
    "    cursor.close()\n",
    "    conn.close()\n",
    "    return dictionary_futures, dictionary_options"
   ]
  },
  {
   "cell_type": "raw",
   "id": "97a6ed19-94c6-4a7d-88b0-cce0e94acd59",
   "metadata": {},
   "source": [
    "MIDCAP NIFTY: MONDAY\n",
    "FINNIFTY: TUESDAY\n",
    "BANKNIFTY: WEDNESDAY\n",
    "NIFTY: THURSDAY\n",
    "BSE SENSEX: FRIDAY"
   ]
  },
  {
   "cell_type": "code",
   "execution_count": 49,
   "id": "7a27397c-6af7-41f5-a10a-6895e7c1c165",
   "metadata": {},
   "outputs": [],
   "source": [
    "symbols = [\"BANKNIFTY\", \"NIFTY\", \"FINNIFTY\", \"MIDCAPNIFTY\"]\n",
    "moneyness_strike = 0\n",
    "fund_locked = 1000 # inr\n",
    "fund_locked *= 100\n",
    "transaction_cost = 11.5\n",
    "slippage = 10\n",
    "start_date = '2021-01-01'\n",
    "end_date = '2022-01-01'\n",
    "expiry_type_options = 'IW1'\n",
    "expiry_type_futures = 'I'"
   ]
  },
  {
   "cell_type": "code",
   "execution_count": 51,
   "id": "c57b006b-6348-4760-a895-e0bdb58d6b6f",
   "metadata": {},
   "outputs": [],
   "source": [
    "DICT_FUTURES, DICT_OPTIONS = fetch(host, port, user, dbname, symbols, expiry_type_futures, expiry_type_options, start_date, end_date)"
   ]
  },
  {
   "cell_type": "code",
   "execution_count": 52,
   "id": "fe8185aa-d629-4a18-9471-f0a6d3a95004",
   "metadata": {},
   "outputs": [],
   "source": [
    "dict_futures = DICT_FUTURES.copy()\n",
    "dict_options = DICT_OPTIONS.copy()"
   ]
  },
  {
   "cell_type": "code",
   "execution_count": 79,
   "id": "92087e5c-aee8-45ac-9d86-5113cd8ccd67",
   "metadata": {},
   "outputs": [],
   "source": [
    "def fill_df_make_continuous_excluding_market_holidays(df, market_holidays_csv_path = r'C:\\Users\\user4\\Desktop\\exchange_holidays.csv'):\n",
    "    market_holidays_df = pd.read_csv(market_holidays_csv_path, parse_dates=['holiday_date'])\n",
    "    market_holidays = market_holidays_df['holiday_date'].dt.date.tolist()\n",
    "    start_date = df['date_timestamp'].iloc[0]\n",
    "    end_date = df['date_timestamp'].iloc[-1]\n",
    "    all_days = pd.date_range(start=start_date, end=end_date, freq='B')\n",
    "    trading_holidays = all_days.to_series().apply(lambda x: x.date() in market_holidays)\n",
    "    trading_days = all_days[~trading_holidays]\n",
    "    \n",
    "    # Generate a complete range of trading minutes for each trading day\n",
    "    trading_minutes = pd.date_range(start='09:15:00', end='15:29:00', freq='min').time\n",
    "    \n",
    "    # Create a complete index of trading timestamps\n",
    "    complete_index = pd.DatetimeIndex([pd.Timestamp.combine(day, time) for day in trading_days for time in trading_minutes])\n",
    "    df = df.reindex(complete_index).ffill()\n",
    "    \n",
    "    return df"
   ]
  },
  {
   "cell_type": "code",
   "execution_count": 89,
   "id": "15675100-49a0-4dea-a5fa-103720b5f46e",
   "metadata": {},
   "outputs": [],
   "source": [
    "def parse_options(df_options):\n",
    "    df_calls = df_options[(df_options['opt_type'] == 'CE')]\n",
    "    df_calls.set_index('date_timestamp', inplace=True)\n",
    "    df_calls_open = df_calls.pivot(columns='strike', values='open').ffill()\n",
    "    df_calls_close = df_calls.pivot(columns='strike', values='close').ffill()\n",
    "    call_strikes = np.array(df_calls_close.columns, dtype=int)\n",
    "    \n",
    "    df_puts  = df_options[(df_options['opt_type'] == 'PE')]\n",
    "    df_puts.set_index('date_timestamp', inplace=True)\n",
    "    df_puts_open = df_puts.pivot(columns='strike', values='open').ffill()\n",
    "    df_puts_close = df_puts.pivot(columns='strike', values='close').ffill()\n",
    "    put_strikes = np.array(df_puts_close.columns, dtype=int)\n",
    "    return [df_puts_open, df_puts_close], [df_calls_open, df_calls_close], [put_strikes, call_strikes]"
   ]
  },
  {
   "cell_type": "code",
   "execution_count": 87,
   "id": "2439d360-2115-4c65-ac43-d7d95256240e",
   "metadata": {},
   "outputs": [
    {
     "name": "stderr",
     "output_type": "stream",
     "text": [
      "C:\\Users\\user4\\AppData\\Local\\Temp\\5\\ipykernel_14464\\3253392119.py:15: FutureWarning: Downcasting object dtype arrays on .fillna, .ffill, .bfill is deprecated and will change in a future version. Call result.infer_objects(copy=False) instead. To opt-in to the future behavior, set `pd.set_option('future.no_silent_downcasting', True)`\n",
      "  df = df.reindex(complete_index).ffill()\n",
      "C:\\Users\\user4\\AppData\\Local\\Temp\\5\\ipykernel_14464\\3253392119.py:15: FutureWarning: Downcasting object dtype arrays on .fillna, .ffill, .bfill is deprecated and will change in a future version. Call result.infer_objects(copy=False) instead. To opt-in to the future behavior, set `pd.set_option('future.no_silent_downcasting', True)`\n",
      "  df = df.reindex(complete_index).ffill()\n"
     ]
    },
    {
     "ename": "KeyError",
     "evalue": "NaT",
     "output_type": "error",
     "traceback": [
      "\u001b[1;31m---------------------------------------------------------------------------\u001b[0m",
      "\u001b[1;31mKeyError\u001b[0m                                  Traceback (most recent call last)",
      "File \u001b[1;32mindex.pyx:609\u001b[0m, in \u001b[0;36mpandas._libs.index.DatetimeEngine.get_loc\u001b[1;34m()\u001b[0m\n",
      "File \u001b[1;32mpandas\\\\_libs\\\\hashtable_class_helper.pxi:2606\u001b[0m, in \u001b[0;36mpandas._libs.hashtable.Int64HashTable.get_item\u001b[1;34m()\u001b[0m\n",
      "File \u001b[1;32mpandas\\\\_libs\\\\hashtable_class_helper.pxi:2630\u001b[0m, in \u001b[0;36mpandas._libs.hashtable.Int64HashTable.get_item\u001b[1;34m()\u001b[0m\n",
      "\u001b[1;31mKeyError\u001b[0m: -9223372036854775808",
      "\nDuring handling of the above exception, another exception occurred:\n",
      "\u001b[1;31mKeyError\u001b[0m                                  Traceback (most recent call last)",
      "File \u001b[1;32mC:\\ProgramData\\anaconda3\\Lib\\site-packages\\pandas\\core\\indexes\\base.py:3805\u001b[0m, in \u001b[0;36mIndex.get_loc\u001b[1;34m(self, key)\u001b[0m\n\u001b[0;32m   3804\u001b[0m \u001b[38;5;28;01mtry\u001b[39;00m:\n\u001b[1;32m-> 3805\u001b[0m     \u001b[38;5;28;01mreturn\u001b[39;00m \u001b[38;5;28mself\u001b[39m\u001b[38;5;241m.\u001b[39m_engine\u001b[38;5;241m.\u001b[39mget_loc(casted_key)\n\u001b[0;32m   3806\u001b[0m \u001b[38;5;28;01mexcept\u001b[39;00m \u001b[38;5;167;01mKeyError\u001b[39;00m \u001b[38;5;28;01mas\u001b[39;00m err:\n",
      "File \u001b[1;32mindex.pyx:577\u001b[0m, in \u001b[0;36mpandas._libs.index.DatetimeEngine.get_loc\u001b[1;34m()\u001b[0m\n",
      "File \u001b[1;32mindex.pyx:611\u001b[0m, in \u001b[0;36mpandas._libs.index.DatetimeEngine.get_loc\u001b[1;34m()\u001b[0m\n",
      "\u001b[1;31mKeyError\u001b[0m: NaT",
      "\nThe above exception was the direct cause of the following exception:\n",
      "\u001b[1;31mKeyError\u001b[0m                                  Traceback (most recent call last)",
      "File \u001b[1;32mC:\\ProgramData\\anaconda3\\Lib\\site-packages\\pandas\\core\\indexes\\datetimes.py:630\u001b[0m, in \u001b[0;36mDatetimeIndex.get_loc\u001b[1;34m(self, key)\u001b[0m\n\u001b[0;32m    629\u001b[0m \u001b[38;5;28;01mtry\u001b[39;00m:\n\u001b[1;32m--> 630\u001b[0m     \u001b[38;5;28;01mreturn\u001b[39;00m Index\u001b[38;5;241m.\u001b[39mget_loc(\u001b[38;5;28mself\u001b[39m, key)\n\u001b[0;32m    631\u001b[0m \u001b[38;5;28;01mexcept\u001b[39;00m \u001b[38;5;167;01mKeyError\u001b[39;00m \u001b[38;5;28;01mas\u001b[39;00m err:\n",
      "File \u001b[1;32mC:\\ProgramData\\anaconda3\\Lib\\site-packages\\pandas\\core\\indexes\\base.py:3812\u001b[0m, in \u001b[0;36mIndex.get_loc\u001b[1;34m(self, key)\u001b[0m\n\u001b[0;32m   3811\u001b[0m         \u001b[38;5;28;01mraise\u001b[39;00m InvalidIndexError(key)\n\u001b[1;32m-> 3812\u001b[0m     \u001b[38;5;28;01mraise\u001b[39;00m \u001b[38;5;167;01mKeyError\u001b[39;00m(key) \u001b[38;5;28;01mfrom\u001b[39;00m \u001b[38;5;21;01merr\u001b[39;00m\n\u001b[0;32m   3813\u001b[0m \u001b[38;5;28;01mexcept\u001b[39;00m \u001b[38;5;167;01mTypeError\u001b[39;00m:\n\u001b[0;32m   3814\u001b[0m     \u001b[38;5;66;03m# If we have a listlike key, _check_indexing_error will raise\u001b[39;00m\n\u001b[0;32m   3815\u001b[0m     \u001b[38;5;66;03m#  InvalidIndexError. Otherwise we fall through and re-raise\u001b[39;00m\n\u001b[0;32m   3816\u001b[0m     \u001b[38;5;66;03m#  the TypeError.\u001b[39;00m\n",
      "\u001b[1;31mKeyError\u001b[0m: NaT",
      "\nThe above exception was the direct cause of the following exception:\n",
      "\u001b[1;31mKeyError\u001b[0m                                  Traceback (most recent call last)",
      "Cell \u001b[1;32mIn[87], line 9\u001b[0m\n\u001b[0;32m      7\u001b[0m synthetic_futures \u001b[38;5;241m=\u001b[39m []\n\u001b[0;32m      8\u001b[0m \u001b[38;5;28;01mfor\u001b[39;00m timestamp \u001b[38;5;129;01min\u001b[39;00m filled_df_futures[\u001b[38;5;124m'\u001b[39m\u001b[38;5;124mdate_timestamp\u001b[39m\u001b[38;5;124m'\u001b[39m]:\n\u001b[1;32m----> 9\u001b[0m     futures_price \u001b[38;5;241m=\u001b[39m filled_df_futures[\u001b[38;5;124m'\u001b[39m\u001b[38;5;124mclose\u001b[39m\u001b[38;5;124m'\u001b[39m]\u001b[38;5;241m.\u001b[39mloc[timestamp]\n\u001b[0;32m     10\u001b[0m     k_p \u001b[38;5;241m=\u001b[39m np\u001b[38;5;241m.\u001b[39margmin(\u001b[38;5;28mabs\u001b[39m(strikes[\u001b[38;5;241m0\u001b[39m]\u001b[38;5;241m-\u001b[39mfutures_price))\n\u001b[0;32m     11\u001b[0m     k_c \u001b[38;5;241m=\u001b[39m np\u001b[38;5;241m.\u001b[39margmin(\u001b[38;5;28mabs\u001b[39m(strikes[\u001b[38;5;241m1\u001b[39m]\u001b[38;5;241m-\u001b[39mfutures_price))\n",
      "File \u001b[1;32mC:\\ProgramData\\anaconda3\\Lib\\site-packages\\pandas\\core\\indexing.py:1191\u001b[0m, in \u001b[0;36m_LocationIndexer.__getitem__\u001b[1;34m(self, key)\u001b[0m\n\u001b[0;32m   1189\u001b[0m maybe_callable \u001b[38;5;241m=\u001b[39m com\u001b[38;5;241m.\u001b[39mapply_if_callable(key, \u001b[38;5;28mself\u001b[39m\u001b[38;5;241m.\u001b[39mobj)\n\u001b[0;32m   1190\u001b[0m maybe_callable \u001b[38;5;241m=\u001b[39m \u001b[38;5;28mself\u001b[39m\u001b[38;5;241m.\u001b[39m_check_deprecated_callable_usage(key, maybe_callable)\n\u001b[1;32m-> 1191\u001b[0m \u001b[38;5;28;01mreturn\u001b[39;00m \u001b[38;5;28mself\u001b[39m\u001b[38;5;241m.\u001b[39m_getitem_axis(maybe_callable, axis\u001b[38;5;241m=\u001b[39maxis)\n",
      "File \u001b[1;32mC:\\ProgramData\\anaconda3\\Lib\\site-packages\\pandas\\core\\indexing.py:1431\u001b[0m, in \u001b[0;36m_LocIndexer._getitem_axis\u001b[1;34m(self, key, axis)\u001b[0m\n\u001b[0;32m   1429\u001b[0m \u001b[38;5;66;03m# fall thru to straight lookup\u001b[39;00m\n\u001b[0;32m   1430\u001b[0m \u001b[38;5;28mself\u001b[39m\u001b[38;5;241m.\u001b[39m_validate_key(key, axis)\n\u001b[1;32m-> 1431\u001b[0m \u001b[38;5;28;01mreturn\u001b[39;00m \u001b[38;5;28mself\u001b[39m\u001b[38;5;241m.\u001b[39m_get_label(key, axis\u001b[38;5;241m=\u001b[39maxis)\n",
      "File \u001b[1;32mC:\\ProgramData\\anaconda3\\Lib\\site-packages\\pandas\\core\\indexing.py:1381\u001b[0m, in \u001b[0;36m_LocIndexer._get_label\u001b[1;34m(self, label, axis)\u001b[0m\n\u001b[0;32m   1379\u001b[0m \u001b[38;5;28;01mdef\u001b[39;00m \u001b[38;5;21m_get_label\u001b[39m(\u001b[38;5;28mself\u001b[39m, label, axis: AxisInt):\n\u001b[0;32m   1380\u001b[0m     \u001b[38;5;66;03m# GH#5567 this will fail if the label is not present in the axis.\u001b[39;00m\n\u001b[1;32m-> 1381\u001b[0m     \u001b[38;5;28;01mreturn\u001b[39;00m \u001b[38;5;28mself\u001b[39m\u001b[38;5;241m.\u001b[39mobj\u001b[38;5;241m.\u001b[39mxs(label, axis\u001b[38;5;241m=\u001b[39maxis)\n",
      "File \u001b[1;32mC:\\ProgramData\\anaconda3\\Lib\\site-packages\\pandas\\core\\generic.py:4301\u001b[0m, in \u001b[0;36mNDFrame.xs\u001b[1;34m(self, key, axis, level, drop_level)\u001b[0m\n\u001b[0;32m   4299\u001b[0m             new_index \u001b[38;5;241m=\u001b[39m index[loc]\n\u001b[0;32m   4300\u001b[0m \u001b[38;5;28;01melse\u001b[39;00m:\n\u001b[1;32m-> 4301\u001b[0m     loc \u001b[38;5;241m=\u001b[39m index\u001b[38;5;241m.\u001b[39mget_loc(key)\n\u001b[0;32m   4303\u001b[0m     \u001b[38;5;28;01mif\u001b[39;00m \u001b[38;5;28misinstance\u001b[39m(loc, np\u001b[38;5;241m.\u001b[39mndarray):\n\u001b[0;32m   4304\u001b[0m         \u001b[38;5;28;01mif\u001b[39;00m loc\u001b[38;5;241m.\u001b[39mdtype \u001b[38;5;241m==\u001b[39m np\u001b[38;5;241m.\u001b[39mbool_:\n",
      "File \u001b[1;32mC:\\ProgramData\\anaconda3\\Lib\\site-packages\\pandas\\core\\indexes\\datetimes.py:632\u001b[0m, in \u001b[0;36mDatetimeIndex.get_loc\u001b[1;34m(self, key)\u001b[0m\n\u001b[0;32m    630\u001b[0m     \u001b[38;5;28;01mreturn\u001b[39;00m Index\u001b[38;5;241m.\u001b[39mget_loc(\u001b[38;5;28mself\u001b[39m, key)\n\u001b[0;32m    631\u001b[0m \u001b[38;5;28;01mexcept\u001b[39;00m \u001b[38;5;167;01mKeyError\u001b[39;00m \u001b[38;5;28;01mas\u001b[39;00m err:\n\u001b[1;32m--> 632\u001b[0m     \u001b[38;5;28;01mraise\u001b[39;00m \u001b[38;5;167;01mKeyError\u001b[39;00m(orig_key) \u001b[38;5;28;01mfrom\u001b[39;00m \u001b[38;5;21;01merr\u001b[39;00m\n",
      "\u001b[1;31mKeyError\u001b[0m: NaT"
     ]
    }
   ],
   "source": [
    "for symbol in symbols:\n",
    "    df_futures_symbol = dict_futures[symbol]\n",
    "    df_options_symbol = dict_options[symbol]\n",
    "    filled_df_futures = fill_df_make_continuous_excluding_market_holidays(df_futures_symbol)\n",
    "    filled_df_options = fill_df_make_continuous_excluding_market_holidays(df_options_symbol)\n",
    "    parsed_puts, parsed_calls, strikes = parse_options(filled_df_options)\n",
    "    synthetic_futures = []\n",
    "    for timestamp in filled_df_futures['date_timestamp']:\n",
    "        futures_price = filled_df_futures['close'].loc[timestamp]\n",
    "        k_p = np.argmin(abs(strikes[0]-futures_price))\n",
    "        k_c = np.argmin(abs(strikes[1]-futures_price))\n",
    "        synthetic_close: parsed_calls[k_c].loc[timestamp] - parsed_puts[k_p].loc[timestamp] + (k_p + k_c)/2\n",
    "        synthetic_futures.append({\n",
    "            \"synthetic_close\" : synthetic_close,\n",
    "            \"futures_close\": futures_price,\n",
    "            \"call_strike\": k_c,\n",
    "            \"put_strike\": k_p\n",
    "        })"
   ]
  }
 ],
 "metadata": {
  "kernelspec": {
   "display_name": "Python 3 (ipykernel)",
   "language": "python",
   "name": "python3"
  },
  "language_info": {
   "codemirror_mode": {
    "name": "ipython",
    "version": 3
   },
   "file_extension": ".py",
   "mimetype": "text/x-python",
   "name": "python",
   "nbconvert_exporter": "python",
   "pygments_lexer": "ipython3",
   "version": "3.12.4"
  }
 },
 "nbformat": 4,
 "nbformat_minor": 5
}
